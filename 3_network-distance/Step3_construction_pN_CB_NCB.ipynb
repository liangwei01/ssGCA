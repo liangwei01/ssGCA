{
 "cells": [
  {
   "cell_type": "code",
   "execution_count": 1,
   "id": "0105a51f-e2be-4c30-9964-d07f3567e62d",
   "metadata": {},
   "outputs": [],
   "source": [
    "import pandas as pd\n",
    "import numpy as np"
   ]
  },
  {
   "cell_type": "code",
   "execution_count": 2,
   "id": "d3f50267-f0a7-438b-9c76-3ebcf4592916",
   "metadata": {},
   "outputs": [],
   "source": [
    "from scipy.stats import zscore\n",
    "def filterByZscore(aNetwork_score):\n",
    "    \"\"\"\n",
    "    apply z-score to filter weak edges\n",
    "    \"\"\"\n",
    "    aNetwork_score = aNetwork_score.where(np.triu(np.ones(aNetwork_score.shape),1).astype(bool),np.nan)\n",
    "    df_aNetwork = aNetwork_score.stack()\n",
    "    df_aNetwork.index.names=['v1','v2']\n",
    "    df_aNetwork = df_aNetwork.reset_index()\n",
    "    df_aNetwork.columns=['feat1','feat2','weight']\n",
    "    z_aNetwork = zscore(df_aNetwork[\"weight\"])\n",
    "    #GET R2 FILTERED BY Z-SCORE 2.58\n",
    "    df_aNetwork.where(abs(z_aNetwork)>2.58,inplace=True)\n",
    "    df_aNetwork = df_aNetwork.replace(0, np.nan)\n",
    "    df_aNetwork.dropna(inplace=True)    \n",
    "    return df_aNetwork"
   ]
  },
  {
   "cell_type": "code",
   "execution_count": 3,
   "id": "44172448-6a44-4a23-b28e-2c8d15e1c487",
   "metadata": {},
   "outputs": [],
   "source": [
    "def get_benefits_network(akey):\n",
    "    dfep = pd.read_csv(f\"../leave_one_out/Expression_log2_21_{akey}_braun_2020.csv\")\n",
    "    df_cl = pd.read_csv(\"../leave_one_out/braun_data_clinical_data.csv\")\n",
    "    df_arm = df_cl[(df_cl['Arm']==tumor_cate[akey][0])&\\\n",
    "    (df_cl[\"Tumor_Sample_Primary_or_Metastasis\"]==tumor_cate[akey][1])].copy()\n",
    "    df_cb = df_arm[df_arm[\"Benefit\"]==\"CB\"].copy()\n",
    "    df_ncb = df_arm[df_arm[\"Benefit\"]==\"NCB\"].copy()\n",
    "    dfep_cb =  dfep.loc[dfep[\"gene_name\"].isin(df_cb[\"RNA_ID\"])]\n",
    "    dfep_cb.set_index(\"gene_name\",inplace=True)\n",
    "    dfcb_r = dfep_cb.corr(method='pearson',min_periods=1)\n",
    "    dfcb_z = filterByZscore(dfcb_r)\n",
    "    dfcb_z.to_csv(f\"{akey}_cb.txt\",sep='\\t',columns=None, index=False,header=False)\n",
    "    \n",
    "    dfep_ncb =  dfep.loc[dfep[\"gene_name\"].isin(df_ncb[\"RNA_ID\"])]\n",
    "    dfep_ncb.set_index(\"gene_name\",inplace=True)\n",
    "    dfncb_r = dfep_ncb.corr(method='pearson',min_periods=1)\n",
    "    dfncb_z = filterByZscore(dfncb_r)\n",
    "    dfncb_z.to_csv(f\"{akey}_ncb.txt\",sep='\\t',columns=None, index=False,header=False)"
   ]
  },
  {
   "cell_type": "markdown",
   "id": "89ee177d-5462-4d37-8873-219e8f199d4e",
   "metadata": {},
   "source": [
    "def get_benefits_network(akey):\n",
    "    dfep = pd.read_csv(f\"../leave_one_out/Expression_log2_21_{akey}_braun_2020_above_1.csv\")\n",
    "    df_cl = pd.read_csv(\"../leave_one_out/braun_data_clinical_data.csv\")\n",
    "    df_arm = df_cl[(df_cl['Arm']==tumor_cate[akey][0])&\\\n",
    "    (df_cl[\"Tumor_Sample_Primary_or_Metastasis\"]==tumor_cate[akey][1])].copy()\n",
    "    df_cb = df_arm[df_arm[\"Benefit\"]==\"CB\"].copy()\n",
    "    df_ncb = df_arm[df_arm[\"Benefit\"]==\"NCB\"].copy()\n",
    "    dfep_cb =  dfep.loc[dfep[\"gene_name\"].isin(df_cb[\"RNA_ID\"])]\n",
    "    dfep_cb.set_index(\"gene_name\",inplace=True)\n",
    "    dfcb_r = dfep_cb.corr(method='pearson',min_periods=1)\n",
    "    dfcb_z = filterByZscore(dfcb_r)\n",
    "    dfcb_z.to_csv(f\"{akey}_cb_above_1.txt\",sep='\\t',columns=None, index=False,header=False)\n",
    "    \n",
    "    dfep_ncb =  dfep.loc[dfep[\"gene_name\"].isin(df_ncb[\"RNA_ID\"])]\n",
    "    dfep_ncb.set_index(\"gene_name\",inplace=True)\n",
    "    dfncb_r = dfep_ncb.corr(method='pearson',min_periods=1)\n",
    "    dfncb_z = filterByZscore(dfncb_r)\n",
    "    dfncb_z.to_csv(f\"{akey}_ncb_above_1.txt\",sep='\\t',columns=None, index=False,header=False)"
   ]
  },
  {
   "cell_type": "code",
   "execution_count": 6,
   "id": "2a56db49-8419-4643-91d4-296b280689b8",
   "metadata": {},
   "outputs": [],
   "source": [
    "tumor_cate= {\"primaryNivo\":[\"NIVOLUMAB\",\"PRIMARY\"],}\n",
    "         #    \"metaNivo\":[\"NIVOLUMAB\",\"METASTASIS\"],\n",
    "          #   \"primaryEver\":[\"EVEROLIMUS\",\"PRIMARY\"],\n",
    "           #  \"metaEver\":[\"EVEROLIMUS\",\"METASTASIS\"],}\n",
    "for i in tumor_cate.keys():\n",
    "    get_benefits_network(i)\n",
    "    "
   ]
  },
  {
   "cell_type": "code",
   "execution_count": null,
   "id": "90366b89-3164-41f6-8f55-7587e08602b0",
   "metadata": {},
   "outputs": [],
   "source": [
    "def get_network(akey):\n",
    "    dfep = pd.read_csv(f\"../braun_data_log2_or_not/Expression_log2_21_{akey}_braun_2020.csv\")\n",
    "    print(dfep)\n",
    "    dfep.set_index(\"gene_name\",inplace=True)\n",
    "    df_r = dfep.corr(method='pearson',min_periods=1)\n",
    "    df_z = filterByZscore(df_r)\n",
    "    df_z.to_csv(f\"{akey}_cohort.txt\",sep='\\t',columns=None, index=False,header=False)\n",
    "\n",
    "for i in [\"primaryNivo\",\"metaNivo\",\"primaryEver\",\"metaEver\"]:\n",
    "    get_network(i)"
   ]
  }
 ],
 "metadata": {
  "kernelspec": {
   "display_name": "Python 3 (ipykernel)",
   "language": "python",
   "name": "python3"
  },
  "language_info": {
   "codemirror_mode": {
    "name": "ipython",
    "version": 3
   },
   "file_extension": ".py",
   "mimetype": "text/x-python",
   "name": "python",
   "nbconvert_exporter": "python",
   "pygments_lexer": "ipython3",
   "version": "3.11.4"
  }
 },
 "nbformat": 4,
 "nbformat_minor": 5
}
