{
 "cells": [
  {
   "cell_type": "code",
   "execution_count": 17,
   "id": "00a7a979-62bd-4b9d-ad52-7fa4c75a777b",
   "metadata": {},
   "outputs": [],
   "source": [
    "import igraph as ig\n",
    "import pandas as pd\n",
    "\n",
    "def read_g(file_name):\n",
    "    df = pd.read_csv(file_name,sep=\"\\t\",header=None)\n",
    "    df.columns = [\"node1\", \"node2\",\"weight\" ]\n",
    "    df[\"weight\"] = abs(df[\"weight\"])\n",
    "    #df = df[df[\"weight\"] > 0.7]\n",
    "    GCN = ig.Graph.TupleList(df.itertuples(index=False),edge_attrs=\"weight\")\n",
    "    return GCN"
   ]
  },
  {
   "cell_type": "code",
   "execution_count": 19,
   "id": "036af404-c12c-475f-9c2a-a88e5a5b517c",
   "metadata": {},
   "outputs": [],
   "source": [
    "sampleGroup = \"primaryEver\"\n",
    "all_sample = []\n",
    "with open(f\"../leave_one_out/{sampleGroup}.weight.txt\") as f_w:\n",
    "    for i in f_w:\n",
    "        i= i.strip().split()\n",
    "        all_sample.append(i[0])\n",
    "\n",
    "cb = read_g(f\"{sampleGroup}1_cb.txt\")\n",
    "ncb = read_g(f\"{sampleGroup}1_ncb.txt\")"
   ]
  },
  {
   "cell_type": "code",
   "execution_count": 20,
   "id": "a052dbba-c3cc-4e49-abcf-876660d9648e",
   "metadata": {},
   "outputs": [],
   "source": [
    "from contextlib import redirect_stdout\n",
    "import io\n",
    "f = open(f\"all_sample_{sampleGroup}_edge_number.r_filter.txt\",\"w\")\n",
    "\n",
    "# gene expression values were filtered out if its log2 is smaller than 1 \n",
    "#f = open(f\"all_sample_{sampleGroup}_edge_number.r_filterout_above1.txt\",\"w\")\n",
    "\n",
    "for i in all_sample:\n",
    "    s_GCN = read_g(f\"../leave_one_out/all_sample_k_10_above/sample_specific_{i}.txt\")\n",
    "    with redirect_stdout(io.StringIO()) as stdf:\n",
    "        cb_inter = ig.intersection([cb,s_GCN]).ecount() \n",
    "        cb_union = ig.union([cb,s_GCN]).ecount()\n",
    "        ncb_inter = ig.intersection([ncb,s_GCN]).ecount() \n",
    "        ncb_union = ig.union([ncb,s_GCN]).ecount()\n",
    "    f.write(f\"{i} {cb_inter/cb_union} {ncb_inter/ncb_union}\\n\")\n",
    "\n",
    "f.close()"
   ]
  },
  {
   "cell_type": "code",
   "execution_count": 4,
   "id": "62745548-8173-4f30-8f19-e3ae7d0a669c",
   "metadata": {},
   "outputs": [],
   "source": [
    "df_nd = pd.read_csv(f\"all_sample_{sampleGroup}_edge_number.r_filter.txt\",sep=\" \",header=None)"
   ]
  },
  {
   "cell_type": "code",
   "execution_count": 6,
   "id": "fdf6e4fd-a7a7-4b8b-805e-34680401a038",
   "metadata": {},
   "outputs": [
    {
     "data": {
      "text/html": [
       "<div>\n",
       "<style scoped>\n",
       "    .dataframe tbody tr th:only-of-type {\n",
       "        vertical-align: middle;\n",
       "    }\n",
       "\n",
       "    .dataframe tbody tr th {\n",
       "        vertical-align: top;\n",
       "    }\n",
       "\n",
       "    .dataframe thead th {\n",
       "        text-align: right;\n",
       "    }\n",
       "</style>\n",
       "<table border=\"1\" class=\"dataframe\">\n",
       "  <thead>\n",
       "    <tr style=\"text-align: right;\">\n",
       "      <th></th>\n",
       "      <th>0</th>\n",
       "      <th>1</th>\n",
       "      <th>2</th>\n",
       "    </tr>\n",
       "  </thead>\n",
       "  <tbody>\n",
       "    <tr>\n",
       "      <th>0</th>\n",
       "      <td>EA595500</td>\n",
       "      <td>0.124155</td>\n",
       "      <td>0.214905</td>\n",
       "    </tr>\n",
       "    <tr>\n",
       "      <th>1</th>\n",
       "      <td>EA595522</td>\n",
       "      <td>0.112411</td>\n",
       "      <td>0.225253</td>\n",
       "    </tr>\n",
       "    <tr>\n",
       "      <th>2</th>\n",
       "      <td>EA595529</td>\n",
       "      <td>0.095824</td>\n",
       "      <td>0.187873</td>\n",
       "    </tr>\n",
       "    <tr>\n",
       "      <th>3</th>\n",
       "      <td>EA595624</td>\n",
       "      <td>0.125863</td>\n",
       "      <td>0.227253</td>\n",
       "    </tr>\n",
       "    <tr>\n",
       "      <th>4</th>\n",
       "      <td>EA595635</td>\n",
       "      <td>0.104416</td>\n",
       "      <td>0.227477</td>\n",
       "    </tr>\n",
       "    <tr>\n",
       "      <th>...</th>\n",
       "      <td>...</td>\n",
       "      <td>...</td>\n",
       "      <td>...</td>\n",
       "    </tr>\n",
       "    <tr>\n",
       "      <th>128</th>\n",
       "      <td>P66511-01E-Run1_S17_L002</td>\n",
       "      <td>0.129057</td>\n",
       "      <td>0.234698</td>\n",
       "    </tr>\n",
       "    <tr>\n",
       "      <th>129</th>\n",
       "      <td>P66511-05E-Run1_S11_L001</td>\n",
       "      <td>0.123939</td>\n",
       "      <td>0.228189</td>\n",
       "    </tr>\n",
       "    <tr>\n",
       "      <th>130</th>\n",
       "      <td>P66511-06G-Run1_S16_L001</td>\n",
       "      <td>0.120180</td>\n",
       "      <td>0.224672</td>\n",
       "    </tr>\n",
       "    <tr>\n",
       "      <th>131</th>\n",
       "      <td>P66511-07H-Run1_S19_L002</td>\n",
       "      <td>0.127593</td>\n",
       "      <td>0.229318</td>\n",
       "    </tr>\n",
       "    <tr>\n",
       "      <th>132</th>\n",
       "      <td>P66511-09B-Run1_S26_L002</td>\n",
       "      <td>0.111054</td>\n",
       "      <td>0.180298</td>\n",
       "    </tr>\n",
       "  </tbody>\n",
       "</table>\n",
       "<p>133 rows × 3 columns</p>\n",
       "</div>"
      ],
      "text/plain": [
       "                            0         1         2\n",
       "0                    EA595500  0.124155  0.214905\n",
       "1                    EA595522  0.112411  0.225253\n",
       "2                    EA595529  0.095824  0.187873\n",
       "3                    EA595624  0.125863  0.227253\n",
       "4                    EA595635  0.104416  0.227477\n",
       "..                        ...       ...       ...\n",
       "128  P66511-01E-Run1_S17_L002  0.129057  0.234698\n",
       "129  P66511-05E-Run1_S11_L001  0.123939  0.228189\n",
       "130  P66511-06G-Run1_S16_L001  0.120180  0.224672\n",
       "131  P66511-07H-Run1_S19_L002  0.127593  0.229318\n",
       "132  P66511-09B-Run1_S26_L002  0.111054  0.180298\n",
       "\n",
       "[133 rows x 3 columns]"
      ]
     },
     "execution_count": 6,
     "metadata": {},
     "output_type": "execute_result"
    }
   ],
   "source": [
    "df_nd"
   ]
  },
  {
   "cell_type": "code",
   "execution_count": 7,
   "id": "4f6d8384-e1e0-41e6-a310-2279dccc807a",
   "metadata": {},
   "outputs": [],
   "source": [
    "df_cl = pd.read_csv(\"../leave_one_out/braun_data_clinical_data.csv\")\n",
    "df_os = pd.merge(df_nd,df_cl,how='left', left_on=0, right_on=\"RNA_ID\")"
   ]
  },
  {
   "cell_type": "code",
   "execution_count": 8,
   "id": "2d63d309-13f8-4bc0-b90e-a75233549d99",
   "metadata": {},
   "outputs": [
    {
     "data": {
      "text/plain": [
       "Index([                                   0,\n",
       "                                          1,\n",
       "                                          2,\n",
       "                                   'RNA_ID',\n",
       "                                   'Cohort',\n",
       "                                      'Arm',\n",
       "                                      'Sex',\n",
       "                                      'Age',\n",
       "                                    'MSKCC',\n",
       "       'Tumor_Sample_Primary_or_Metastasis',\n",
       "                                      'ORR',\n",
       "                                  'Benefit',\n",
       "                                       'OS',\n",
       "                                  'OS_CNSR',\n",
       "                                      'PFS',\n",
       "                                 'PFS_CNSR'],\n",
       "      dtype='object')"
      ]
     },
     "execution_count": 8,
     "metadata": {},
     "output_type": "execute_result"
    }
   ],
   "source": [
    "df_os.columns"
   ]
  },
  {
   "cell_type": "code",
   "execution_count": 9,
   "id": "14b4d296-b272-4f66-a6c0-42d003193b05",
   "metadata": {},
   "outputs": [
    {
     "name": "stdout",
     "output_type": "stream",
     "text": [
      "-0.0798357588693526\n",
      "-0.09108013221042123\n",
      "-0.10737994420884955\n",
      "LeveneResult(statistic=9.37671598336326, pvalue=0.0029149172678149516)\n",
      "TtestResult(statistic=7.14875713968671, pvalue=2.444254684199769e-10, df=88.0)\n",
      "LeveneResult(statistic=1.3515866263817626, pvalue=0.24825462529555645)\n",
      "TtestResult(statistic=2.534940105243141, pvalue=0.013078192767435012, df=85.0)\n",
      "LeveneResult(statistic=3.409714049005929, pvalue=0.06821374881285093)\n",
      "TtestResult(statistic=5.129503170918583, pvalue=1.742735251074384e-06, df=87.0)\n"
     ]
    }
   ],
   "source": [
    "import numpy as np\n",
    "import scipy\n",
    "nd_cb = df_os[df_os[\"Benefit\"]==\"CB\"][[1,2]]\n",
    "nd_ncb = df_os[df_os[\"Benefit\"]==\"NCB\"][[1,2]]\n",
    "nd_icb = df_os[df_os[\"Benefit\"]==\"ICB\"][[1,2]]\n",
    "nd_cb_minus =  nd_cb[1] - nd_cb[2]\n",
    "nd_ncb_minus =  nd_ncb[1] - nd_ncb[2]\n",
    "nd_icb_minus =  nd_icb[1] - nd_icb[2]\n",
    "print(np.mean(nd_cb_minus))\n",
    "print(np.mean(nd_icb_minus))\n",
    "print(np.mean(nd_ncb_minus))\n",
    "#cb vs ncb\n",
    "print(scipy.stats.levene(nd_cb_minus,nd_ncb_minus))\n",
    "print(scipy.stats.ttest_ind(nd_cb_minus,nd_ncb_minus,equal_var=True))\n",
    "#cb vs icb\n",
    "print(scipy.stats.levene(nd_cb_minus,nd_icb_minus))\n",
    "print(scipy.stats.ttest_ind(nd_cb_minus,nd_icb_minus,equal_var=True))\n",
    "#icb vs ncb\n",
    "print(scipy.stats.levene(nd_icb_minus,nd_ncb_minus))\n",
    "print(scipy.stats.ttest_ind(nd_icb_minus,nd_ncb_minus,equal_var=True))"
   ]
  },
  {
   "cell_type": "code",
   "execution_count": 10,
   "id": "ebadc0ca-caca-4028-bec2-7e638241e500",
   "metadata": {},
   "outputs": [
    {
     "name": "stdout",
     "output_type": "stream",
     "text": [
      "True\n"
     ]
    }
   ],
   "source": [
    "rest = scipy.stats.ttest_ind(nd_cb_minus,nd_ncb_minus,equal_var=True)\n",
    "print(rest.pvalue<0.05)"
   ]
  },
  {
   "cell_type": "code",
   "execution_count": 11,
   "id": "0d80de45-c16e-441b-96d8-fac375f5fd73",
   "metadata": {},
   "outputs": [
    {
     "data": {
      "text/plain": [
       "Text(0.5, 1.0, 'network distance: cb vs icb vs ncb')"
      ]
     },
     "execution_count": 11,
     "metadata": {},
     "output_type": "execute_result"
    },
    {
     "data": {
      "image/png": "[encoded data removed]",
      "text/plain": [
       "<Figure size 900x200 with 1 Axes>"
      ]
     },
     "metadata": {},
     "output_type": "display_data"
    }
   ],
   "source": [
    "import matplotlib.pyplot as plt\n",
    "\n",
    "\n",
    "fig, axs = plt.subplots(nrows=1, ncols=1, figsize=(9, 2))\n",
    "axs.violinplot([nd_cb_minus,nd_icb_minus,nd_ncb_minus],\n",
    "                  showmeans=False,\n",
    "                  showmedians=True)\n",
    "axs.set_title('network distance: cb vs icb vs ncb')"
   ]
  },
  {
   "cell_type": "code",
   "execution_count": 12,
   "id": "dbc9e618-5666-40b7-900a-4dc6827e7dff",
   "metadata": {},
   "outputs": [
    {
     "name": "stdout",
     "output_type": "stream",
     "text": [
      "                coef     exp(coef)  se(coef)  coef lower 95%  coef upper 95%  \\\n",
      "covariate                                                                      \n",
      "nd        -29.019333  2.494961e-13  6.922569       -42.58732      -15.451346   \n",
      "\n",
      "           exp(coef) lower 95%  exp(coef) upper 95%  cmp to         z  \\\n",
      "covariate                                                               \n",
      "nd                3.195671e-19         1.947895e-07     0.0 -4.191989   \n",
      "\n",
      "                  p   -log2(p)  \n",
      "covariate                       \n",
      "nd         0.000028  15.142258  \n"
     ]
    }
   ],
   "source": [
    "df_os[\"nd\"] = df_os[1] - df_os[2]\n",
    "from lifelines import CoxPHFitter\n",
    "df_os1 = df_os[[\"nd\",'OS', 'OS_CNSR']]\n",
    "cph = CoxPHFitter()\n",
    "cph.fit(df_os1, duration_col='OS', event_col='OS_CNSR')\n",
    "print(cph.summary)"
   ]
  },
  {
   "cell_type": "code",
   "execution_count": 13,
   "id": "9c2f0349-4715-467a-bea8-4c2e36fdbcd9",
   "metadata": {},
   "outputs": [
    {
     "data": {
      "text/plain": [
       "<matplotlib.legend.Legend at 0x7f13e8b4f010>"
      ]
     },
     "execution_count": 13,
     "metadata": {},
     "output_type": "execute_result"
    },
    {
     "data": {
      "image/png": "[encoded data removed]",
      "text/plain": [
       "<Figure size 640x480 with 1 Axes>"
      ]
     },
     "metadata": {},
     "output_type": "display_data"
    }
   ],
   "source": [
    "%matplotlib inline\n",
    "import matplotlib.pyplot as plt\n",
    "from sksurv.nonparametric import kaplan_meier_estimator\n",
    "\n",
    "df_os[\"OS_CNSR\"] = df_os[\"OS_CNSR\"]==1\n",
    "tar =\"nd\"\n",
    "time, survival_prob, conf_int = kaplan_meier_estimator(\n",
    "    df_os[df_os[tar]>-0.065][\"OS_CNSR\"], \\\n",
    "    df_os[df_os[tar]>-0.065][\"OS\"], conf_type=\"log-log\"\n",
    ")\n",
    "plt.step(time, survival_prob, where=\"post\", label=\"upper\")\n",
    "plt.fill_between(time, conf_int[0], conf_int[1], alpha=0.25, step=\"post\")\n",
    "\n",
    "time, survival_prob, conf_int = kaplan_meier_estimator(\n",
    "    df_os[df_os[tar]<-0.065][\"OS_CNSR\"], \\\n",
    "    df_os[df_os[tar]<-0.065][\"OS\"], conf_type=\"log-log\"\n",
    ")\n",
    "plt.step(time, survival_prob, where=\"post\", label=\"lower\")\n",
    "plt.fill_between(time, conf_int[0], conf_int[1], alpha=0.25, step=\"post\")\n",
    "\n",
    "plt.ylim(0, 1)\n",
    "plt.ylabel(\"est. probability of survival \")\n",
    "plt.xlabel(\"time:month\")\n",
    "plt.legend(loc=\"best\")"
   ]
  },
  {
   "cell_type": "code",
   "execution_count": 14,
   "id": "c7b24f9a-c8d2-48ed-a56e-964d3579410a",
   "metadata": {},
   "outputs": [
    {
     "name": "stdout",
     "output_type": "stream",
     "text": [
      "5.082211077065679 0.024172524825805036\n"
     ]
    }
   ],
   "source": [
    "from sksurv.compare import compare_survival\n",
    "import numpy as np\n",
    "y = df_os[[\"OS_CNSR\",\"OS\"]].values\n",
    "y = np.array([ (i[0],i[1]) for i in y],dtype=\"bool,f\")\n",
    "\n",
    "#df_os_fl[df_os_fl[tar]>df_os[tar].quantile(0.65)] = \"higher\"\n",
    "group_indicator = [\"high\" if i > -0.065 else \"low\" for i in df_os[tar]] \n",
    "\n",
    "chi2, pvalue= compare_survival(y,group_indicator)\n",
    "\n",
    "print(chi2, pvalue)"
   ]
  },
  {
   "cell_type": "code",
   "execution_count": 15,
   "id": "8abd976f-0ab7-490b-84aa-7e24f785aace",
   "metadata": {},
   "outputs": [
    {
     "data": {
      "text/plain": [
       "<matplotlib.legend.Legend at 0x7f13e8da70d0>"
      ]
     },
     "execution_count": 15,
     "metadata": {},
     "output_type": "execute_result"
    },
    {
     "data": {
      "image/png": "[encoded data removed]",
      "text/plain": [
       "<Figure size 640x480 with 1 Axes>"
      ]
     },
     "metadata": {},
     "output_type": "display_data"
    }
   ],
   "source": [
    "%matplotlib inline\n",
    "import matplotlib.pyplot as plt\n",
    "from sksurv.nonparametric import kaplan_meier_estimator\n",
    "\n",
    "df_os[\"PFS_CNSR\"] = df_os[\"PFS_CNSR\"]==1\n",
    "tar =\"nd\"\n",
    "time, survival_prob, conf_int = kaplan_meier_estimator(\n",
    "    df_os[df_os[tar]>-0.065][\"PFS_CNSR\"], \\\n",
    "    df_os[df_os[tar]>-0.065][\"PFS\"], conf_type=\"log-log\"\n",
    ")\n",
    "plt.step(time, survival_prob, where=\"post\", label=\"upper\")\n",
    "plt.fill_between(time, conf_int[0], conf_int[1], alpha=0.25, step=\"post\")\n",
    "\n",
    "time, survival_prob, conf_int = kaplan_meier_estimator(\n",
    "    df_os[df_os[tar]<-0.065][\"PFS_CNSR\"], \\\n",
    "    df_os[df_os[tar]<-0.065][\"PFS\"], conf_type=\"log-log\"\n",
    ")\n",
    "plt.step(time, survival_prob, where=\"post\", label=\"lower\")\n",
    "plt.fill_between(time, conf_int[0], conf_int[1], alpha=0.25, step=\"post\")\n",
    "\n",
    "plt.ylim(0, 1)\n",
    "plt.ylabel(\"est. probability of survival \")\n",
    "plt.xlabel(\"time:month\")\n",
    "plt.legend(loc=\"best\")"
   ]
  },
  {
   "cell_type": "code",
   "execution_count": 16,
   "id": "a5194497-c019-4184-a20b-d7c8d0b1c353",
   "metadata": {},
   "outputs": [
    {
     "name": "stdout",
     "output_type": "stream",
     "text": [
      "2.50868138974086 0.1132206317716273\n"
     ]
    }
   ],
   "source": [
    "from sksurv.compare import compare_survival\n",
    "import numpy as np\n",
    "y = df_os[[\"PFS_CNSR\",\"PFS\"]].values\n",
    "y = np.array([ (i[0],i[1]) for i in y],dtype=\"bool,f\")\n",
    "\n",
    "#df_os_fl[df_os_fl[tar]>df_os[tar].quantile(0.65)] = \"higher\"\n",
    "group_indicator = [\"high\" if i > -0.065 else \"low\" for i in df_os[tar]] \n",
    "\n",
    "chi2, pvalue= compare_survival(y,group_indicator)\n",
    "\n",
    "print(chi2, pvalue)"
   ]
  },
  {
   "cell_type": "code",
   "execution_count": null,
   "id": "f9a8eb62-e1e2-4b9d-ad19-7d4370566f01",
   "metadata": {},
   "outputs": [],
   "source": []
  }
 ],
 "metadata": {
  "kernelspec": {
   "display_name": "Python 3 (ipykernel)",
   "language": "python",
   "name": "python3"
  },
  "language_info": {
   "codemirror_mode": {
    "name": "ipython",
    "version": 3
   },
   "file_extension": ".py",
   "mimetype": "text/x-python",
   "name": "python",
   "nbconvert_exporter": "python",
   "pygments_lexer": "ipython3",
   "version": "3.11.4"
  }
 },
 "nbformat": 4,
 "nbformat_minor": 5
}
