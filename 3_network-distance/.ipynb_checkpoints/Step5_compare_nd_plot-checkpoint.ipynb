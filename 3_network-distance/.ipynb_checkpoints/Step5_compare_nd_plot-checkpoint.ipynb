{
 "cells": [
  {
   "cell_type": "code",
   "execution_count": 1,
   "id": "a1c339e6-6fdf-49fe-8bdd-4966ae1a96b9",
   "metadata": {},
   "outputs": [],
   "source": [
    "import pandas as pd\n",
    "from matplotlib import pyplot as plt\n",
    "import seaborn as sns\n",
    "sns.set_context(\"notebook\", rc={\"lines.linewidth\": 3})\n",
    "##################################################\n",
    "plt.style.use('tableau-colorblind10')\n",
    "##################################################"
   ]
  },
  {
   "cell_type": "code",
   "execution_count": 2,
   "id": "199e4993-650b-4f2f-adf5-61180d9af7fc",
   "metadata": {},
   "outputs": [],
   "source": [
    "sampleGroup = \"primaryNivo\""
   ]
  },
  {
   "cell_type": "code",
   "execution_count": 3,
   "id": "b7b1e862-5138-41cc-998c-e4ba5f8427e8",
   "metadata": {},
   "outputs": [],
   "source": [
    "df_nd = pd.read_csv(f\"all_sample_{sampleGroup}_edge_number.r_filter.txt\",sep=\" \",header=None)\n",
    "#df_nd = pd.read_csv(f\"all_sample_{sampleGroup}_edge_number.k10_z1.txt\",sep=\" \",header=None)\n",
    "#df_nd = pd.read_csv(f\"all_sample_{sampleGroup}_edge_number.0_1.txt\",sep=\" \",header=None)\n",
    "#df_nd = pd.read_csv(f\"all_sample_{sampleGroup}_edge_number.above0.txt\",sep=\" \",header=None)\n",
    "#df_nd = pd.read_csv(f\"all_sample_{sampleGroup}_edge_number.above1.txt\",sep=\" \",header=None)\n",
    "df_cl = pd.read_csv(\"../braun_data_log2_or_not/braun_data_clinical_data.csv\")\n",
    "df_os = pd.merge(df_nd,df_cl,how='left', left_on=0, right_on=\"RNA_ID\")"
   ]
  },
  {
   "cell_type": "code",
   "execution_count": 4,
   "id": "8aa870c2-c426-4461-b166-38383ace21ea",
   "metadata": {},
   "outputs": [
    {
     "name": "stderr",
     "output_type": "stream",
     "text": [
      "/tmp/ipykernel_57851/2941694849.py:7: SettingWithCopyWarning: \n",
      "A value is trying to be set on a copy of a slice from a DataFrame.\n",
      "Try using .loc[row_indexer,col_indexer] = value instead\n",
      "\n",
      "See the caveats in the documentation: https://pandas.pydata.org/pandas-docs/stable/user_guide/indexing.html#returning-a-view-versus-a-copy\n",
      "  df_sns_temp[1] = zscore(df_sns_temp[1])\n",
      "/tmp/ipykernel_57851/2941694849.py:8: SettingWithCopyWarning: \n",
      "A value is trying to be set on a copy of a slice from a DataFrame.\n",
      "Try using .loc[row_indexer,col_indexer] = value instead\n",
      "\n",
      "See the caveats in the documentation: https://pandas.pydata.org/pandas-docs/stable/user_guide/indexing.html#returning-a-view-versus-a-copy\n",
      "  df_sns_temp[2] = zscore(df_sns_temp[2])\n"
     ]
    }
   ],
   "source": [
    "df_os.sort_values(by=\"Benefit\",inplace=True)\n",
    "import seaborn as sns\n",
    "from scipy.stats import zscore\n",
    "colors = df_os[\"Benefit\"].replace(\"ICB\",\"yellow\").replace(\"NCB\",\"red\").replace(\"CB\",\"green\").tolist()\n",
    "df_sns_temp = df_os[[0,1,2]]\n",
    "df_sns_temp.set_index(0,inplace=True)\n",
    "df_sns_temp[1] = zscore(df_sns_temp[1])\n",
    "df_sns_temp[2] = zscore(df_sns_temp[2])\n",
    "#sns.clustermap(df_sns_temp,method=\"weighted\",row_colors= colors,row_cluster=False)"
   ]
  },
  {
   "cell_type": "code",
   "execution_count": 5,
   "id": "fb619a22-96eb-42a7-b7c7-edf363ac20b7",
   "metadata": {},
   "outputs": [],
   "source": [
    "import numpy as np\n",
    "import scipy\n",
    "nd_cb = df_os[df_os[\"Benefit\"]==\"CB\"][[1,2]]\n",
    "nd_ncb = df_os[df_os[\"Benefit\"]==\"NCB\"][[1,2]]\n",
    "nd_icb = df_os[df_os[\"Benefit\"]==\"ICB\"][[1,2]]\n",
    "nd_cb_minus =  nd_cb[1] - nd_cb[2]\n",
    "nd_ncb_minus =  nd_ncb[1] - nd_ncb[2]\n",
    "nd_icb_minus =  nd_icb[1] - nd_icb[2]\n"
   ]
  },
  {
   "cell_type": "code",
   "execution_count": 10,
   "id": "58cd326e-9e86-4db1-889b-0b27c02d0555",
   "metadata": {},
   "outputs": [
    {
     "name": "stdout",
     "output_type": "stream",
     "text": [
      "0.12427212777883535\n",
      "0.11698818138214821\n",
      "0.11478296086258957\n",
      "TtestResult(statistic=2.8870102223206255, pvalue=0.004892866801741933, df=88.0)\n",
      "TtestResult(statistic=3.481524601915739, pvalue=0.0007896783301290833, df=85.0)\n",
      "TtestResult(statistic=-0.6642950888915842, pvalue=0.5082582963228897, df=87.0)\n",
      "RanksumsResult(statistic=3.0026700536039685, pvalue=0.0026762240794026603)\n",
      "RanksumsResult(statistic=3.285486491770025, pvalue=0.0010180642386194714)\n",
      "RanksumsResult(statistic=-0.5829275395334123, pvalue=0.5599420805164714)\n"
     ]
    },
    {
     "data": {
      "image/png": "[encoded data removed]",
      "text/plain": [
       "<Figure size 180x136.8 with 1 Axes>"
      ]
     },
     "metadata": {
      "needs_background": "light"
     },
     "output_type": "display_data"
    }
   ],
   "source": [
    "#compare network distance from cb network\n",
    "import matplotlib as mpl\n",
    "print(np.mean(nd_cb[1]))\n",
    "print(np.mean(nd_ncb[1]))\n",
    "print(np.mean(nd_icb[1]))\n",
    "\n",
    "#cb vs ncb\n",
    "print(scipy.stats.ttest_ind(nd_cb[1],nd_ncb[1],\\\n",
    "                            equal_var=[scipy.stats.levene(nd_cb[2],nd_ncb[2])[1] > 0.05]))\n",
    "#cb vs icb\n",
    "print(scipy.stats.ttest_ind(nd_cb[1],nd_icb[1],\\\n",
    "                            equal_var=[scipy.stats.levene(nd_cb[2],nd_icb[2])[1] > 0.05]))\n",
    "#icb vs ncb\n",
    "print(scipy.stats.ttest_ind(nd_icb[1],nd_ncb[1],\\\n",
    "                            equal_var=[scipy.stats.levene(nd_icb[2],nd_ncb[2])[1] > 0.05]))\n",
    "\n",
    "#cb vs ncb\n",
    "print(scipy.stats.ranksums(nd_cb[1],nd_ncb[1]))\n",
    "#cb vs icb\n",
    "print(scipy.stats.ranksums(nd_cb[1],nd_icb[1]))\n",
    "#icb vs ncb\n",
    "print(scipy.stats.ranksums(nd_icb[1],nd_ncb[1]))\n",
    "\n",
    "from gseapy import barplot, dotplot\n",
    "import scienceplots\n",
    "plt.rc('font', family='DejaVu Sans')\n",
    "\n",
    "fig, axs = plt.subplots(nrows=1, ncols=1, figsize=(2.5, 1.9))\n",
    "\n",
    "bplot1 = axs.boxplot([nd_cb[1],nd_icb[1], nd_ncb[1]],patch_artist=True, widths =0.5,\n",
    "            showfliers=False,meanline=True,medianprops=None)\n",
    "\n",
    "colors =  ['#005baa','#6d6e71','#E7131A']\n",
    "for patch, color in zip(bplot1['boxes'], colors):\n",
    "    patch.set_facecolor(color)\n",
    "        \n",
    "axs.xaxis.set_ticks([1,2,3])\n",
    "axs.set_xticklabels([\"CB\",\"ICB\",\"NCB\"])\n",
    "axs.yaxis.set_major_formatter(mpl.ticker.StrMethodFormatter('{x:,.2f}'))\n",
    "\"\"\"\n",
    "y, h, col = nd_cb[1].max() + 0.2, 0.2, 'k'\n",
    "x1, x2 = 1, 2\n",
    "axs.text((x1+x2)*.5, y+h, \"ns\", ha='center', va='bottom', color=col)\n",
    "\"\"\"\n",
    "plt.ylabel('Nd_CB')\n",
    "#plt.yticks(rotation=90, ha='center', rotation_mode='anchor')\n",
    "plt.tight_layout()\n",
    "plt.savefig(f'f1_{sampleGroup}_cb.tif',dpi=600)\n",
    "plt.savefig(f'f1_{sampleGroup}_cb.svg',dpi=600)"
   ]
  },
  {
   "cell_type": "code",
   "execution_count": 11,
   "id": "82a74acf-58d7-4499-9000-83d5f7cc4950",
   "metadata": {},
   "outputs": [
    {
     "name": "stdout",
     "output_type": "stream",
     "text": [
      "0.20410788664818796\n",
      "0.22436812559099775\n",
      "0.20586309307301082\n",
      "TtestResult(statistic=-4.234047826386269, pvalue=5.623212023851648e-05, df=88.0)\n",
      "TtestResult(statistic=-0.2719823780177504, pvalue=0.7862951191780666, df=85.0)\n",
      "TtestResult(statistic=-3.6392558317641113, pvalue=0.00046322536643880947, df=87.0)\n"
     ]
    },
    {
     "data": {
      "image/png": "[encoded data removed]",
      "text/plain": [
       "<Figure size 180x136.8 with 1 Axes>"
      ]
     },
     "metadata": {
      "needs_background": "light"
     },
     "output_type": "display_data"
    }
   ],
   "source": [
    "#compare network distance from ncb network\n",
    "print(np.mean(nd_cb[2]))\n",
    "print(np.mean(nd_ncb[2]))\n",
    "print(np.mean(nd_icb[2]))\n",
    "\n",
    "#cb vs ncb\n",
    "print(scipy.stats.ttest_ind(nd_cb[2],nd_ncb[2],\\\n",
    "                            equal_var=[scipy.stats.levene(nd_cb[2],nd_ncb[2])[1] > 0.05]))\n",
    "#cb vs icb\n",
    "print(scipy.stats.ttest_ind(nd_cb[2],nd_icb[2],\\\n",
    "                            equal_var=[scipy.stats.levene(nd_cb[2],nd_icb[2])[1] > 0.05]))\n",
    "#icb vs ncb\n",
    "print(scipy.stats.ttest_ind(nd_icb[2],nd_ncb[2],\\\n",
    "                            equal_var=[scipy.stats.levene(nd_icb[2],nd_ncb[2])[1] > 0.05]))\n",
    "\n",
    "fig, axs = plt.subplots(nrows=1, ncols=1, figsize=(2.5, 1.9))\n",
    "\n",
    "#axs.violinplot([nd_cb[2],nd_icb[2], nd_ncb[2]],showmeans=False,showmedians=True)\n",
    "bplot1 = axs.boxplot([nd_cb[2],nd_icb[2], nd_ncb[2]],patch_artist=True, widths =0.5,\n",
    "            showfliers=False,meanline=True,medianprops=None)\n",
    "\n",
    "colors =  ['#005baa','#6d6e71','#E7131A']\n",
    "for patch, color in zip(bplot1['boxes'], colors):\n",
    "    patch.set_facecolor(color)\n",
    "        \n",
    "axs.xaxis.set_ticks([1,2,3])\n",
    "axs.set_xticklabels([\"CB\",\"ICB\",\"NCB\"])\n",
    "axs.yaxis.set_major_formatter(mpl.ticker.StrMethodFormatter('{x:,.2f}'))\n",
    "plt.ylabel('Nd_NCB')\n",
    "plt.tight_layout()\n",
    "plt.savefig(f'f1_{sampleGroup}_ncb.tif',dpi=600)\n",
    "plt.savefig(f'f1_{sampleGroup}_ncb.svg',dpi=600)\n",
    "#plt.boxplot([nd_cb[2],nd_icb[2], nd_ncb[2]])"
   ]
  },
  {
   "cell_type": "code",
   "execution_count": 12,
   "id": "80c834bf-8b18-46e0-a154-bd841b05baf6",
   "metadata": {},
   "outputs": [
    {
     "name": "stdout",
     "output_type": "stream",
     "text": [
      "-0.0798357588693526\n",
      "-0.09108013221042123\n",
      "-0.10737994420884957\n",
      "tar -0.0943236231051944\n",
      "TtestResult(statistic=7.148757139686714, pvalue=2.4442546841997335e-10, df=88.0)\n",
      "TtestResult(statistic=2.534940105243141, pvalue=0.013078192767435012, df=85.0)\n",
      "TtestResult(statistic=5.1295031709185865, pvalue=1.7427352510743616e-06, df=87.0)\n"
     ]
    },
    {
     "data": {
      "image/png": "[encoded data removed]",
      "text/plain": [
       "<Figure size 180x136.8 with 1 Axes>"
      ]
     },
     "metadata": {
      "needs_background": "light"
     },
     "output_type": "display_data"
    }
   ],
   "source": [
    "#compare network distance from cb network to ncb network\n",
    "print(np.mean(nd_cb_minus))\n",
    "print(np.mean(nd_icb_minus))\n",
    "print(np.mean(nd_ncb_minus))\n",
    "\n",
    "print(\"tar\",(np.median(nd_cb_minus)+np.median(nd_ncb_minus))/2)\n",
    "#cb vs ncb\n",
    "\n",
    "print(scipy.stats.ttest_ind(nd_cb_minus,nd_ncb_minus,\\\n",
    "                            equal_var=[scipy.stats.levene(nd_cb_minus,nd_ncb_minus)[1] > 0.05]))\n",
    "#cb vs icb\n",
    "\n",
    "print(scipy.stats.ttest_ind(nd_cb_minus,nd_icb_minus,\\\n",
    "                            equal_var=[scipy.stats.levene(nd_cb_minus,nd_icb_minus)[1] > 0.05]))\n",
    "#icb vs ncb\n",
    "\n",
    "print(scipy.stats.ttest_ind(nd_icb_minus,nd_ncb_minus,\\\n",
    "                            equal_var=[scipy.stats.levene(nd_icb_minus,nd_ncb_minus)[1] > 0.05]))\n",
    "\n",
    "\n",
    "fig, axs = plt.subplots(nrows=1, ncols=1, figsize=(2.5, 1.9))\n",
    "\n",
    "#axs.violinplot([nd_cb_minus,nd_icb_minus,nd_ncb_minus],showmeans=False,  showmedians=True)\n",
    "bplot1 = axs.boxplot([nd_cb_minus,nd_icb_minus,nd_ncb_minus],patch_artist=True, widths =0.5,\n",
    "            showfliers=False,meanline=True,medianprops=None)\n",
    "\n",
    "colors =  ['#005baa','#6d6e71','#E7131A']\n",
    "for patch, color in zip(bplot1['boxes'], colors):\n",
    "    patch.set_facecolor(color)\n",
    "        \n",
    "axs.xaxis.set_ticks([1,2,3])\n",
    "axs.set_xticklabels([\"CB\",\"ICB\",\"NCB\"])\n",
    "axs.yaxis.set_major_formatter(mpl.ticker.StrMethodFormatter('{x:,.2f}'))\n",
    "plt.ylabel('Nd_CB2NCB')\n",
    "#plt.yticks(rotation=30, ha='center', rotation_mode='anchor')\n",
    "plt.tight_layout()\n",
    "plt.savefig(f'f1_{sampleGroup}_normalized.tif',dpi=600)\n",
    "plt.savefig(f'f1_{sampleGroup}_normalized.svg',dpi=600)"
   ]
  },
  {
   "cell_type": "code",
   "execution_count": 13,
   "id": "acb84988-d54d-460d-8874-72a11e4ce9ac",
   "metadata": {},
   "outputs": [
    {
     "data": {
      "text/plain": [
       "105    -6.591598\n",
       "25     -6.608222\n",
       "26     -7.954102\n",
       "27     -8.909007\n",
       "28     -9.255090\n",
       "         ...    \n",
       "86    -11.202843\n",
       "90    -10.321056\n",
       "91    -10.126473\n",
       "50    -11.092329\n",
       "66     -9.136021\n",
       "Name: nd, Length: 133, dtype: float64"
      ]
     },
     "execution_count": 13,
     "metadata": {},
     "output_type": "execute_result"
    }
   ],
   "source": [
    "df_os[\"nd\"] = (df_os[1] - df_os[2])*100\n",
    "df_os[\"nd\"]"
   ]
  },
  {
   "cell_type": "code",
   "execution_count": 14,
   "id": "3f642715-ef32-4f19-96ce-8ea5cf37427d",
   "metadata": {},
   "outputs": [
    {
     "name": "stdout",
     "output_type": "stream",
     "text": [
      "-------OS --------                coef  exp(coef)  se(coef)  coef lower 95%  coef upper 95%  \\\n",
      "covariate                                                                  \n",
      "nd        -0.290193   0.748119  0.069226       -0.425873       -0.154513   \n",
      "\n",
      "           exp(coef) lower 95%  exp(coef) upper 95%  cmp to         z  \\\n",
      "covariate                                                               \n",
      "nd                    0.653199             0.856832     0.0 -4.191989   \n",
      "\n",
      "                  p   -log2(p)  \n",
      "covariate                       \n",
      "nd         0.000028  15.142258  \n",
      "-------PFS --------                coef  exp(coef)  se(coef)  coef lower 95%  coef upper 95%  \\\n",
      "covariate                                                                  \n",
      "nd        -0.240559   0.786188  0.058006       -0.354248       -0.126869   \n",
      "\n",
      "           exp(coef) lower 95%  exp(coef) upper 95%  cmp to         z  \\\n",
      "covariate                                                               \n",
      "nd                    0.701701             0.880849     0.0 -4.147144   \n",
      "\n",
      "                  p   -log2(p)  \n",
      "covariate                       \n",
      "nd         0.000034  14.858399  \n"
     ]
    }
   ],
   "source": [
    "df_os[\"nd\"] = (df_os[1] - df_os[2])*100\n",
    "#df_os[\"nd\"] = df_os[1]*100\n",
    "fos = open(\"cph_os.txt\",\"a\")\n",
    "ffps = open(\"cph_fps.txt\",\"a\")\n",
    "from lifelines import CoxPHFitter\n",
    "df_os1 = df_os[[\"nd\",'OS', 'OS_CNSR']]\n",
    "cph = CoxPHFitter()\n",
    "cph.fit(df_os1, duration_col='OS', event_col='OS_CNSR')\n",
    "\n",
    "print(\"-------OS --------\",cph.summary)\n",
    "fos.write(sampleGroup+\"\\t\"+\"\\t\".join([str(i) for i in cph.summary.values.tolist()[0]])+\"\\n\")\n",
    "\n",
    "df_os1 = df_os[[\"nd\",'PFS', 'PFS_CNSR']]\n",
    "cph = CoxPHFitter()\n",
    "cph.fit(df_os1, duration_col='PFS', event_col='PFS_CNSR')\n",
    "\n",
    "print(\"-------PFS --------\",cph.summary)\n",
    "ffps.write(sampleGroup+\"\\t\"+\"\\t\".join([str(i) for i in cph.summary.values.tolist()[0]])+\"\\n\")\n",
    "fos.close()\n",
    "ffps.close()"
   ]
  },
  {
   "cell_type": "code",
   "execution_count": 15,
   "id": "c1cc4d33-dc93-4372-bd2e-b300187b921b",
   "metadata": {},
   "outputs": [
    {
     "data": {
      "image/png": "[encoded data removed]",
      "text/plain": [
       "<Figure size 309.6x180 with 1 Axes>"
      ]
     },
     "metadata": {
      "needs_background": "light"
     },
     "output_type": "display_data"
    }
   ],
   "source": [
    "#OS survival analysis\n",
    "%matplotlib inline\n",
    "from lifelines.plotting import add_at_risk_counts\n",
    "from lifelines import KaplanMeierFitter\n",
    "from lifelines.datasets import load_waltons\n",
    "from sksurv.compare import compare_survival\n",
    "import numpy as np\n",
    "from lifelines.plotting import add_at_risk_counts\n",
    "\n",
    "tar =\"nd\"\n",
    "determined_diff = (np.median(nd_cb_minus)+np.median(nd_ncb_minus))/2 * 100\n",
    "#### log rank test \n",
    "y = df_os[[\"OS_CNSR\",\"OS\"]].values\n",
    "y = np.array([ (i[0],i[1]) for i in y],dtype=\"bool,f\")\n",
    "group_indicator = [\"high\" if i > determined_diff else \"low\" for i in df_os[tar]] \n",
    "#print(group_indicator)\n",
    "chi2, pvalue= compare_survival(y,group_indicator)\n",
    "\n",
    "\n",
    "ix = ix = df_os[tar] >= determined_diff\n",
    "\n",
    "fig, ax = plt.subplots(nrows=1, ncols=1, figsize=(4.3, 2.5))\n",
    "\n",
    "\n",
    "\n",
    "kmf_control = KaplanMeierFitter()\n",
    "ax = kmf_control.fit(df_os.loc[ix][\"PFS\"], df_os.loc[ix][\"OS_CNSR\"], label='higher nd').plot_survival_function(ax=ax,ci_show =False,color='#2e3092')\n",
    "\n",
    "kmf_exp = KaplanMeierFitter()\n",
    "ax = kmf_exp.fit(df_os.loc[~ix][\"PFS\"], df_os.loc[~ix][\"OS_CNSR\"], label='lower nd').plot_survival_function(ax=ax,ci_show =False,color='#e40c69')\n",
    "\n",
    "\n",
    "\n",
    "#add_at_risk_counts(kmf_exp, kmf_control, ax=ax)\n",
    "\n",
    "ax.text(0.53, 0.52, \"p = \"+str(round(pvalue,4)), transform=ax.transAxes, fontsize=14,\n",
    "        verticalalignment='top')\n",
    "#plt.xlim(0,60)\n",
    "plt.ylabel(\"Survival probability\")\n",
    "plt.xlabel(\"Time: months (overall survival)\")\n",
    "plt.tight_layout()\n",
    "plt.savefig(f'f1_{sampleGroup}_os.tif',dpi=600)\n",
    "plt.savefig(f'f1_{sampleGroup}_os.svg',dpi=600)"
   ]
  },
  {
   "cell_type": "code",
   "execution_count": 16,
   "id": "acadf286-9ace-4436-b0e8-f2b18551e562",
   "metadata": {},
   "outputs": [
    {
     "data": {
      "image/png": "[encoded data removed]",
      "text/plain": [
       "<Figure size 309.6x180 with 1 Axes>"
      ]
     },
     "metadata": {
      "needs_background": "light"
     },
     "output_type": "display_data"
    }
   ],
   "source": [
    "#PFS survival analysis\n",
    "%matplotlib inline\n",
    "from lifelines.plotting import add_at_risk_counts\n",
    "from lifelines import KaplanMeierFitter\n",
    "from lifelines.datasets import load_waltons\n",
    "from sksurv.compare import compare_survival\n",
    "import numpy as np\n",
    "\n",
    "#### log rank test \n",
    "y = df_os[[\"PFS_CNSR\",\"PFS\"]].values\n",
    "y = np.array([ (i[0],i[1]) for i in y],dtype=\"bool,f\")\n",
    "group_indicator = [\"high\" if i > determined_diff else \"low\" for i in df_os[tar]] \n",
    "chi2, pvalue= compare_survival(y,group_indicator)\n",
    "\n",
    "ix = ix = df_os[tar] >= determined_diff\n",
    "\n",
    "fig, ax = plt.subplots(nrows=1, ncols=1, figsize=(4.3, 2.5))\n",
    "\n",
    "kmf_control = KaplanMeierFitter()\n",
    "ax = kmf_control.fit(df_os.loc[ix][\"PFS\"], df_os.loc[ix][\"PFS_CNSR\"], label='higher nd').plot_survival_function(ax=ax,ci_show =False,color='#2e3092')\n",
    "\n",
    "kmf_exp = KaplanMeierFitter()\n",
    "ax = kmf_exp.fit(df_os.loc[~ix][\"PFS\"], df_os.loc[~ix][\"PFS_CNSR\"], label='lower nd').plot_survival_function(ax=ax,ci_show =False,color='#e40c69')\n",
    "\n",
    "\n",
    "from lifelines.plotting import add_at_risk_counts\n",
    "#add_at_risk_counts(kmf_exp, kmf_control, ax=ax)\n",
    "\n",
    "ax.text(0.53, 0.5, \"p = \"+str(round(pvalue,4)), transform=ax.transAxes, fontsize=14,\n",
    "        verticalalignment='top')\n",
    "\n",
    "plt.ylabel(\"Survival probability\")\n",
    "plt.xlabel(\"Time: months (progression free survival)\")\n",
    "plt.tight_layout()\n",
    "plt.savefig(f'f1_{sampleGroup}_pfs.tif',dpi=600)\n",
    "plt.savefig(f'f1_{sampleGroup}_pfs.svg',dpi=600)\n",
    "plt.show()\n",
    "plt.close()"
   ]
  },
  {
   "cell_type": "code",
   "execution_count": null,
   "id": "99de1167-afd9-4b94-8055-557d47e1fb8b",
   "metadata": {},
   "outputs": [],
   "source": []
  }
 ],
 "metadata": {
  "kernelspec": {
   "display_name": "Python 3 (ipykernel)",
   "language": "python",
   "name": "python3"
  },
  "language_info": {
   "codemirror_mode": {
    "name": "ipython",
    "version": 3
   },
   "file_extension": ".py",
   "mimetype": "text/x-python",
   "name": "python",
   "nbconvert_exporter": "python",
   "pygments_lexer": "ipython3",
   "version": "3.11.4"
  }
 },
 "nbformat": 4,
 "nbformat_minor": 5
}
