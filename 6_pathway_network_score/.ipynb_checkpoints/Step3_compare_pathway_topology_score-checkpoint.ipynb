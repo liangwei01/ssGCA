{
 "cells": [
  {
   "cell_type": "code",
   "execution_count": 10,
   "id": "a20e1177-181a-4e1c-9c30-591400eeac39",
   "metadata": {},
   "outputs": [],
   "source": [
    "import pandas as pd\n",
    "import numpy as np\n",
    "\n",
    "def get_sample_pair(sampleGroup):\n",
    "    all_sample = []\n",
    "    with open(f\"../leave_one_out/{sampleGroup}.weight.txt\") as f_w:\n",
    "        for i in f_w:\n",
    "            i= i.strip().split()\n",
    "            all_sample.append(i[0])\n",
    "    return all_sample\n",
    "\n",
    "cate = \"primaryNivo\"\n",
    "sampleGroup = get_sample_pair(cate)"
   ]
  },
  {
   "cell_type": "code",
   "execution_count": null,
   "id": "7cdd9a66-d049-43fd-ace2-1e7972033446",
   "metadata": {},
   "outputs": [],
   "source": [
    "source = \"c2kegg_pathway_topology_k10\"\n",
    "\n",
    "df = pd.read_csv(f\"{source}/pathway_{sampleGroup[0]}.txt\",sep=\"\\t\")\n",
    "\n",
    "df_gene_number = df[[\"pathway\",\"total_genes\",\"genesnetwork\"]].copy()\n",
    "df_gene_number.columns = [\"pathway\",\"total_genes\",sampleGroup[0]]\n",
    "df_eigne_centrality = df[[\"pathway\",\"eigne-centrality\"]].copy()\n",
    "df_eigne_centrality.columns = [\"pathway\",sampleGroup[0]]\n",
    "df_eccentricity = df[[\"pathway\",\"eccentricity\"]].copy()\n",
    "df_eccentricity.columns = [\"pathway\",sampleGroup[0]]\n",
    "df_edgebetween = df[[\"pathway\",\"edgebetween\"]].copy()\n",
    "df_edgebetween.columns = [\"pathway\",sampleGroup[0]]\n",
    "df_closeness = df[[\"pathway\",\"closeness\"]].copy()\n",
    "df_closeness.columns = [\"pathway\",sampleGroup[0]]\n",
    "df_coreness = df[[\"pathway\",\"coreness\"]].copy()\n",
    "df_coreness.columns = [\"pathway\",sampleGroup[0]]\n",
    "\n",
    "for  i in sampleGroup[1:]:\n",
    "    \n",
    "    dfp = pd.read_csv(f\"{source}/pathway_{i}.txt\",sep=\"\\t\")\n",
    "\n",
    "    #pd.concat([df1, df4], axis=1)\n",
    "    \n",
    "    df_gene_number[i] = dfp[\"genesnetwork\"].copy()\n",
    "    \n",
    "    df_eigne_centrality[i] = dfp[\"eigne-centrality\"].copy()\n",
    "\n",
    "    df_eccentricity[i] = dfp[\"eccentricity\"].copy()\n",
    "\n",
    "    df_edgebetween[i] = dfp[\"edgebetween\"].copy()\n",
    "\n",
    "    df_closeness[i] = dfp[\"closeness\"].copy()\n",
    "\n",
    "    df_coreness[i] = dfp[\"coreness\"].copy()\n"
   ]
  },
  {
   "cell_type": "code",
   "execution_count": 12,
   "id": "6b1e64f1-070c-4405-89b5-5ab2cad708c2",
   "metadata": {},
   "outputs": [],
   "source": [
    "source_name = \"c2\"\n",
    "\n",
    "df_gene_number.to_csv(f\"{source_name}_pathway_gene_number_{cate}.txt\",index=None)\n",
    "\n",
    "df_eigne_centrality.to_csv(f\"{source_name}_pathway_eigne_centrality_{cate}.txt\",index=None)\n",
    "\n",
    "df_eccentricity.to_csv(f\"{source_name}_pathway_eccentricity_{cate}.txt\",index=None)\n",
    "\n",
    "df_edgebetween.to_csv(f\"{source_name}_pathway_edgebetween_{cate}.txt\",index=None)\n",
    "\n",
    "df_closeness.to_csv(f\"{source_name}_pathway_closeness_{cate}.txt\",index=None)\n",
    "\n",
    "df_coreness.to_csv(f\"{source_name}_pathway_coreness_{cate}.txt\",index=None)"
   ]
  },
  {
   "cell_type": "code",
   "execution_count": null,
   "id": "891a74a4-039d-43b7-a0ad-e78907fd714b",
   "metadata": {},
   "outputs": [],
   "source": []
  },
  {
   "cell_type": "code",
   "execution_count": null,
   "id": "4ac4fd5d-2c1d-4455-9eb5-ae4e48c1a13c",
   "metadata": {},
   "outputs": [],
   "source": []
  }
 ],
 "metadata": {
  "kernelspec": {
   "display_name": "Python 3 (ipykernel)",
   "language": "python",
   "name": "python3"
  },
  "language_info": {
   "codemirror_mode": {
    "name": "ipython",
    "version": 3
   },
   "file_extension": ".py",
   "mimetype": "text/x-python",
   "name": "python",
   "nbconvert_exporter": "python",
   "pygments_lexer": "ipython3",
   "version": "3.11.4"
  }
 },
 "nbformat": 4,
 "nbformat_minor": 5
}
