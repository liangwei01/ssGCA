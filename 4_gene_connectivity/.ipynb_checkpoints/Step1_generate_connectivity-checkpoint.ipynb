{
 "cells": [
  {
   "cell_type": "code",
   "execution_count": 41,
   "id": "e079b566-edff-4cc3-a668-ce980209266b",
   "metadata": {},
   "outputs": [],
   "source": [
    "sampleGroup = \"metaEver\"\n",
    "all_sample = []\n",
    "with open(f\"../leave_one_out/{sampleGroup}.weight.txt\") as f_w:\n",
    "    for i in f_w:\n",
    "        i= i.strip().split()\n",
    "        file = i[0]\n",
    "        all_sample.append(file)\n",
    "    #add the cohort level GCN            \n",
    "#cohort = f\"../leave_one_out/all_sample_k_10/cohort_{sampleGroup}.txt\""
   ]
  },
  {
   "cell_type": "code",
   "execution_count": 42,
   "id": "eec86a80-e5f1-429c-9c28-c7df65aa8609",
   "metadata": {},
   "outputs": [],
   "source": [
    "import pandas as pd"
   ]
  },
  {
   "cell_type": "code",
   "execution_count": 43,
   "id": "7745e2c2-bbec-467b-a38a-5be4a8eeb406",
   "metadata": {},
   "outputs": [],
   "source": [
    "def get_connect(file_source):\n",
    "    df_source = pd.read_csv(f\"../leave_one_out/all_sample_k_10/sample_specific_{file_source}.txt\",sep=\"\\t\",header=None)\n",
    "    df_source.columns = [\"node1\", \"node2\",\"weight\" ]\n",
    "    ###############################################\n",
    "    #df_source[\"weight\"] = abs(df_source[\"weight\"])\n",
    "    df_source = df_source[df_source[\"weight\"]>0]\n",
    "    #df_source[\"weight\"] = abs(df_source[\"weight\"])\n",
    "    ###############################################\n",
    "    df_source1 = df_source[[\"node2\", \"node1\",\"weight\" ]].copy()\n",
    "    df_source1.columns = [\"node1\", \"node2\",\"weight\" ]\n",
    "    dfsum = pd.concat([df_source, df_source1]).drop_duplicates()\n",
    "    df_source_table = dfsum.pivot(index='node1', columns='node2', values='weight')\n",
    "    \n",
    "    df_source_connectivity = df_source_table.fillna(0).sum().reset_index()\n",
    "    df_source_connectivity.columns = [\"Gene\",file_source]\n",
    "    return df_source_connectivity"
   ]
  },
  {
   "cell_type": "code",
   "execution_count": 44,
   "id": "c807922a-a1b6-4300-9984-3b883a55fa14",
   "metadata": {},
   "outputs": [],
   "source": [
    "df_all = get_connect(all_sample[0])\n",
    "\n",
    "for i in all_sample[1:]:\n",
    "    df_num = get_connect(i)\n",
    "    df_all =pd.merge(df_all,df_num,on=\"Gene\", how=\"outer\")\n"
   ]
  },
  {
   "cell_type": "code",
   "execution_count": 45,
   "id": "aa350545-674b-4983-8ef9-088cb2482e81",
   "metadata": {},
   "outputs": [],
   "source": [
    "df_all.to_csv(f\"{sampleGroup}.positive.connectivity.txt\",index=None)"
   ]
  },
  {
   "cell_type": "code",
   "execution_count": null,
   "id": "ec619f9c-3518-4a27-bf52-8cde91f89f3e",
   "metadata": {},
   "outputs": [],
   "source": []
  },
  {
   "cell_type": "code",
   "execution_count": null,
   "id": "90039597-6ef3-4ade-b622-48b4eb84c8fb",
   "metadata": {},
   "outputs": [],
   "source": []
  }
 ],
 "metadata": {
  "kernelspec": {
   "display_name": "Python 3 (ipykernel)",
   "language": "python",
   "name": "python3"
  },
  "language_info": {
   "codemirror_mode": {
    "name": "ipython",
    "version": 3
   },
   "file_extension": ".py",
   "mimetype": "text/x-python",
   "name": "python",
   "nbconvert_exporter": "python",
   "pygments_lexer": "ipython3",
   "version": "3.11.4"
  }
 },
 "nbformat": 4,
 "nbformat_minor": 5
}
