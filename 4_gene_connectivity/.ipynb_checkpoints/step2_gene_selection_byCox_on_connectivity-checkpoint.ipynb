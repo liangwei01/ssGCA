{
 "cells": [
  {
   "cell_type": "code",
   "execution_count": 1,
   "id": "f28c4db6-6014-4c85-af91-53265c6cbe59",
   "metadata": {},
   "outputs": [],
   "source": [
    "import pandas as pd\n",
    "from matplotlib import pyplot as plt\n",
    "import seaborn as sns\n",
    "sns.set_context(\"notebook\", rc={\"lines.linewidth\": 3})\n",
    "##################################################\n",
    "plt.style.use('tableau-colorblind10')\n",
    "##################################################"
   ]
  },
  {
   "cell_type": "code",
   "execution_count": 2,
   "id": "c03fa68e-8ae1-479d-9f49-f55f8c400dce",
   "metadata": {},
   "outputs": [],
   "source": [
    "cate = \"primaryNivo\"\n",
    "ano = \".positive.\""
   ]
  },
  {
   "cell_type": "code",
   "execution_count": 3,
   "id": "bd2ff811-2c19-4514-a823-134aad0571c9",
   "metadata": {},
   "outputs": [],
   "source": [
    "df_cate = pd.read_csv(f\"{cate}{ano}connectivity.txt\",index_col=0)"
   ]
  },
  {
   "cell_type": "code",
   "execution_count": 4,
   "id": "304b169e-2414-44a5-93ab-2d4915f80046",
   "metadata": {},
   "outputs": [],
   "source": [
    "df_cl = pd.read_csv(\"../leave_one_out/braun_data_clinical_data.csv\")\n",
    "df_merge = pd.merge(df_cate.T.reset_index(),df_cl,how='left', left_on=\"index\", right_on=\"RNA_ID\" )"
   ]
  },
  {
   "cell_type": "code",
   "execution_count": 5,
   "id": "58bc7ed2-b401-40c4-84bd-eb1eca67946b",
   "metadata": {},
   "outputs": [],
   "source": [
    "import numpy as np\n",
    "def replace_outlier(pd_series):\n",
    "    l = pd_series.to_numpy()\n",
    "    low = pd_series.quantile(0.02)\n",
    "    up = pd_series.quantile(0.98)\n",
    "    l = [e if (low < e) else low for e in l]\n",
    "    l = [e if (up > e) else up for e in l]\n",
    "    return l"
   ]
  },
  {
   "cell_type": "code",
   "execution_count": 6,
   "id": "7e9da864-bd45-44c5-8482-a7a82b1c8d18",
   "metadata": {},
   "outputs": [],
   "source": [
    "def next_replace_out(pdf):\n",
    "    gene_tar = pdf.columns.to_list()[1:-13]\n",
    "    for i in gene_tar:\n",
    "        pdf[i] = replace_outlier(pdf[i])\n",
    "    return pdf\n",
    "\n",
    "pdf = next_replace_out(df_merge.copy())"
   ]
  },
  {
   "cell_type": "code",
   "execution_count": 7,
   "id": "ea2d900d-a42e-4589-b466-12ae55a8dde5",
   "metadata": {},
   "outputs": [],
   "source": [
    "pdf.columns = [\"samples\"] + pdf.columns.tolist()[1:]\n",
    "#pdf"
   ]
  },
  {
   "cell_type": "code",
   "execution_count": 8,
   "id": "f8b83c19-8f64-4eab-b9d3-ead540cf4512",
   "metadata": {},
   "outputs": [],
   "source": [
    "pdf.fillna(0,inplace=True)\n",
    "gene_var = pdf[pdf.columns.to_list()[1:-13]].var().sort_values(ascending=False)[:5000].index.tolist()"
   ]
  },
  {
   "cell_type": "code",
   "execution_count": 9,
   "id": "67aaa359-8a40-41bc-bb3f-303ef26a6533",
   "metadata": {},
   "outputs": [
    {
     "data": {
      "text/plain": [
       "5000"
      ]
     },
     "execution_count": 9,
     "metadata": {},
     "output_type": "execute_result"
    }
   ],
   "source": [
    "len(gene_var)"
   ]
  },
  {
   "cell_type": "markdown",
   "id": "a40a565f-3eda-44b0-85f4-0d129466792f",
   "metadata": {},
   "source": [
    "from lifelines import CoxPHFitter\n",
    "df_cox = pd.DataFrame()\n",
    "\n",
    "for i in gene_var:\n",
    "    try:\n",
    "        df_pe1 = pdf[[i,'OS', 'OS_CNSR']].copy()\n",
    "        df_pe1[i] = df_pe1[i] /1000\n",
    "        cph = CoxPHFitter()\n",
    "        cph.fit(df_pe1, duration_col='OS', event_col='OS_CNSR')\n",
    "        df_cox = pd.concat([df_cox,cph.summary])\n",
    "        #print(cph.summary)\n",
    "    except:\n",
    "        pass\n",
    "    #break\n",
    "\n",
    "\"\"\"        \n",
    "import scipy\n",
    "\n",
    "plist = []\n",
    "for i in gene_var:\n",
    "    cb = pdf[pdf[\"Benefit\"]==\"CB\"][i].tolist()\n",
    "    ncb = pdf[pdf[\"Benefit\"]==\"NCB\"][i].tolist()\n",
    "    \n",
    "    t_Pvalue = scipy.stats.ttest_ind(cb,ncb,\\\n",
    "                            equal_var=[scipy.stats.levene(cb,ncb)[1] > 0.05])[1]\n",
    "    plist.append(t_Pvalue)\n",
    "    \n",
    "df_cox[\"ttest\"] = plist\n",
    "\"\"\"\n",
    "df_cox.to_csv(f\"{cate}{ano}_os_significant_nodes_by_connectivity.txt\")\n"
   ]
  },
  {
   "cell_type": "markdown",
   "id": "a14eb685-f243-40f9-b5e1-573aba139619",
   "metadata": {},
   "source": [
    "from lifelines import CoxPHFitter\n",
    "df_cox = pd.DataFrame()\n",
    "\n",
    "for i in gene_var:\n",
    "\n",
    "    try:\n",
    "        df_pe1 = pdf[[i,'PFS', 'PFS_CNSR']].copy()\n",
    "        df_pe1[i] = df_pe1[i]/1000\n",
    "        cph = CoxPHFitter()\n",
    "        cph.fit(df_pe1, duration_col='PFS', event_col='PFS_CNSR')\n",
    "        df_cox = pd.concat([df_cox,cph.summary])\n",
    "        #print(df_cox)\n",
    "    except:\n",
    "        pass\n",
    "    #break\n",
    "\"\"\"\n",
    "import scipy\n",
    "plist = []\n",
    "for i in gene_var:\n",
    "    cb = pdf[pdf[\"Benefit\"]==\"CB\"][i].tolist()\n",
    "    ncb = pdf[pdf[\"Benefit\"]==\"NCB\"][i].tolist()\n",
    "    \n",
    "    t_Pvalue = scipy.stats.ttest_ind(cb,ncb,\\\n",
    "                            equal_var=[scipy.stats.levene(cb,ncb)[1] > 0.05])[1]\n",
    "    plist.append(t_Pvalue)\n",
    "df_cox[\"ttest\"] = plist\n",
    "\"\"\"\n",
    "df_cox.to_csv(f\"{cate}{ano}_pfs_significant_nodes_by_connectivity.txt\")\n"
   ]
  },
  {
   "cell_type": "markdown",
   "id": "7fd8153f-8f63-4121-a2d8-b075bbf0d080",
   "metadata": {},
   "source": [
    "#scipy.stats.wilcoxon\n",
    "import scipy\n",
    "resos = pd.read_csv(f\"{cate}_os_significant_nodes_by_connectivity.txt\")\n",
    "respfs = pd.read_csv(f\"{cate}_pfs_significant_nodes_by_connectivity.txt\")\n",
    "\n",
    "osplist = []\n",
    "for i in resos[\"covariate\"].tolist():\n",
    "    cb = pdf[pdf[\"Benefit\"]==\"CB\"][i].tolist()\n",
    "    ncb = pdf[pdf[\"Benefit\"]==\"NCB\"][i].tolist()\n",
    "    \n",
    "    w_Pvalue = scipy.stats.wilcoxon(cb,ncb)\n",
    "    osplist.append(w_Pvalue)\n",
    "w_Pvalue"
   ]
  },
  {
   "cell_type": "code",
   "execution_count": 10,
   "id": "b6c4e295-c341-438e-b051-bc80526045cd",
   "metadata": {},
   "outputs": [],
   "source": [
    "pdf.set_index(\"samples\",inplace=True)"
   ]
  },
  {
   "cell_type": "markdown",
   "id": "9a8e6502-5989-4c66-b241-deffb2fc8b2e",
   "metadata": {},
   "source": [
    "#read cox regression result file"
   ]
  },
  {
   "cell_type": "code",
   "execution_count": 11,
   "id": "afa8fd7b-0f37-41bd-83b8-981d3c0256e5",
   "metadata": {},
   "outputs": [
    {
     "name": "stdout",
     "output_type": "stream",
     "text": [
      "21\n"
     ]
    }
   ],
   "source": [
    "resos = pd.read_csv(f\"{cate}{ano}_os_significant_nodes_by_connectivity.txt\")\n",
    "respfs = pd.read_csv(f\"{cate}{ano}_pfs_significant_nodes_by_connectivity.txt\")\n",
    "#significant_gene = set(resos[resos[\"ttest\"]<0.05][\"covariate\"].tolist()).union(respfs[respfs[\"ttest\"]<0.05][\"covariate\"].tolist())#\n",
    "\n",
    "\n",
    "####### 1st choice\n",
    "#significant_gene = set(resos[resos[\"ttest\"]<0.01][\"covariate\"].tolist()).intersection(respfs[respfs[\"ttest\"]<0.01][\"covariate\"].tolist())\n",
    "significant_gene = set(resos[resos[\"p\"]<0.01][\"covariate\"].tolist()).intersection(respfs[respfs[\"p\"]<0.01][\"covariate\"].tolist())\n",
    "#significant_gene = set(resos[resos[\"p\"]<0.01][\"covariate\"].tolist()).union(respfs[respfs[\"p\"]<0.01][\"covariate\"].tolist())\n",
    "####### 2st choice --os\n",
    "#significant_gene = resos[resos[\"ttest\"]<0.005][\"covariate\"].tolist()\n",
    "\n",
    "####### 3st choice --pfs\n",
    "#significant_gene = respfs[respfs[\"p\"]<0.001][\"covariate\"].tolist()\n",
    "\n",
    "\n",
    "#print(set(resos[resos[\"ttest\"]<0.01][\"covariate\"].tolist()).intersection(respfs[respfs[\"ttest\"]<0.01][\"covariate\"].tolist()))\n",
    "\n",
    "print(len(significant_gene))\n",
    "#resos[resos[\"p\"]<0.01][\"covariate\"].tolist()"
   ]
  },
  {
   "cell_type": "code",
   "execution_count": 12,
   "id": "9220dd09-9d7b-4626-95fa-90d841cbbc6e",
   "metadata": {},
   "outputs": [
    {
     "data": {
      "text/plain": [
       "Index(['ACAP3', 'PLCB3', 'ACIN1', 'COPG2', 'INF2', 'PUS3', 'TCIRG1', 'LRCH4',\n",
       "       'SETD1B', 'PPP1R18', 'WFDC10A', 'NLRC5', 'MYO9B', 'MAPK8IP3', 'COX6B1',\n",
       "       'MIR31HG', 'DDX39B-AS1', 'IGLV11-55', 'MICAL1', 'SLC39A12-AS1',\n",
       "       'WFDC11'],\n",
       "      dtype='object')"
      ]
     },
     "execution_count": 12,
     "metadata": {},
     "output_type": "execute_result"
    }
   ],
   "source": [
    "tar = pdf[list(significant_gene)]\n",
    "tar.columns"
   ]
  },
  {
   "cell_type": "code",
   "execution_count": 14,
   "id": "2f987071-1a4c-47e6-a021-3216bf17f0ef",
   "metadata": {},
   "outputs": [
    {
     "data": {
      "text/html": [
       "<div>\n",
       "<style scoped>\n",
       "    .dataframe tbody tr th:only-of-type {\n",
       "        vertical-align: middle;\n",
       "    }\n",
       "\n",
       "    .dataframe tbody tr th {\n",
       "        vertical-align: top;\n",
       "    }\n",
       "\n",
       "    .dataframe thead th {\n",
       "        text-align: right;\n",
       "    }\n",
       "</style>\n",
       "<table border=\"1\" class=\"dataframe\">\n",
       "  <thead>\n",
       "    <tr style=\"text-align: right;\">\n",
       "      <th></th>\n",
       "      <th>ACAP3</th>\n",
       "      <th>PLCB3</th>\n",
       "      <th>ACIN1</th>\n",
       "      <th>COPG2</th>\n",
       "      <th>INF2</th>\n",
       "      <th>PUS3</th>\n",
       "      <th>TCIRG1</th>\n",
       "      <th>LRCH4</th>\n",
       "      <th>SETD1B</th>\n",
       "      <th>PPP1R18</th>\n",
       "      <th>...</th>\n",
       "      <th>NLRC5</th>\n",
       "      <th>MYO9B</th>\n",
       "      <th>MAPK8IP3</th>\n",
       "      <th>COX6B1</th>\n",
       "      <th>MIR31HG</th>\n",
       "      <th>DDX39B-AS1</th>\n",
       "      <th>IGLV11-55</th>\n",
       "      <th>MICAL1</th>\n",
       "      <th>SLC39A12-AS1</th>\n",
       "      <th>WFDC11</th>\n",
       "    </tr>\n",
       "    <tr>\n",
       "      <th>samples</th>\n",
       "      <th></th>\n",
       "      <th></th>\n",
       "      <th></th>\n",
       "      <th></th>\n",
       "      <th></th>\n",
       "      <th></th>\n",
       "      <th></th>\n",
       "      <th></th>\n",
       "      <th></th>\n",
       "      <th></th>\n",
       "      <th></th>\n",
       "      <th></th>\n",
       "      <th></th>\n",
       "      <th></th>\n",
       "      <th></th>\n",
       "      <th></th>\n",
       "      <th></th>\n",
       "      <th></th>\n",
       "      <th></th>\n",
       "      <th></th>\n",
       "      <th></th>\n",
       "    </tr>\n",
       "  </thead>\n",
       "  <tbody>\n",
       "    <tr>\n",
       "      <th>EA595500</th>\n",
       "      <td>544.962263</td>\n",
       "      <td>413.352698</td>\n",
       "      <td>354.267842</td>\n",
       "      <td>58.421606</td>\n",
       "      <td>535.041454</td>\n",
       "      <td>287.866849</td>\n",
       "      <td>392.808165</td>\n",
       "      <td>306.216870</td>\n",
       "      <td>378.430499</td>\n",
       "      <td>120.694658</td>\n",
       "      <td>...</td>\n",
       "      <td>225.099572</td>\n",
       "      <td>206.964832</td>\n",
       "      <td>406.265472</td>\n",
       "      <td>364.087870</td>\n",
       "      <td>11.401194</td>\n",
       "      <td>8.499666</td>\n",
       "      <td>2.712576</td>\n",
       "      <td>299.988377</td>\n",
       "      <td>4.830571</td>\n",
       "      <td>5.049438</td>\n",
       "    </tr>\n",
       "    <tr>\n",
       "      <th>EA595522</th>\n",
       "      <td>435.251143</td>\n",
       "      <td>321.413630</td>\n",
       "      <td>380.905789</td>\n",
       "      <td>65.515128</td>\n",
       "      <td>444.594049</td>\n",
       "      <td>150.849463</td>\n",
       "      <td>487.248771</td>\n",
       "      <td>431.101175</td>\n",
       "      <td>427.398312</td>\n",
       "      <td>162.745250</td>\n",
       "      <td>...</td>\n",
       "      <td>280.098398</td>\n",
       "      <td>322.156814</td>\n",
       "      <td>473.971846</td>\n",
       "      <td>755.575040</td>\n",
       "      <td>13.064999</td>\n",
       "      <td>8.889098</td>\n",
       "      <td>3.953820</td>\n",
       "      <td>459.233848</td>\n",
       "      <td>5.248723</td>\n",
       "      <td>26.132406</td>\n",
       "    </tr>\n",
       "    <tr>\n",
       "      <th>EA595529</th>\n",
       "      <td>413.812749</td>\n",
       "      <td>275.758692</td>\n",
       "      <td>237.454939</td>\n",
       "      <td>143.060131</td>\n",
       "      <td>399.620772</td>\n",
       "      <td>166.500718</td>\n",
       "      <td>362.310026</td>\n",
       "      <td>460.803360</td>\n",
       "      <td>282.020574</td>\n",
       "      <td>146.392025</td>\n",
       "      <td>...</td>\n",
       "      <td>217.869626</td>\n",
       "      <td>294.299114</td>\n",
       "      <td>465.916746</td>\n",
       "      <td>769.978087</td>\n",
       "      <td>9.354005</td>\n",
       "      <td>7.139416</td>\n",
       "      <td>1.865193</td>\n",
       "      <td>256.371655</td>\n",
       "      <td>3.550454</td>\n",
       "      <td>1.351601</td>\n",
       "    </tr>\n",
       "    <tr>\n",
       "      <th>EA595624</th>\n",
       "      <td>531.261646</td>\n",
       "      <td>427.278317</td>\n",
       "      <td>493.866170</td>\n",
       "      <td>96.637772</td>\n",
       "      <td>483.222270</td>\n",
       "      <td>123.970420</td>\n",
       "      <td>630.251284</td>\n",
       "      <td>556.382615</td>\n",
       "      <td>547.628888</td>\n",
       "      <td>394.952221</td>\n",
       "      <td>...</td>\n",
       "      <td>379.333840</td>\n",
       "      <td>492.019347</td>\n",
       "      <td>529.763377</td>\n",
       "      <td>422.478113</td>\n",
       "      <td>14.418413</td>\n",
       "      <td>10.448825</td>\n",
       "      <td>4.355069</td>\n",
       "      <td>567.106380</td>\n",
       "      <td>4.821722</td>\n",
       "      <td>2.579082</td>\n",
       "    </tr>\n",
       "    <tr>\n",
       "      <th>EA595635</th>\n",
       "      <td>406.933457</td>\n",
       "      <td>268.577009</td>\n",
       "      <td>314.416922</td>\n",
       "      <td>457.888012</td>\n",
       "      <td>482.012457</td>\n",
       "      <td>306.904506</td>\n",
       "      <td>370.024355</td>\n",
       "      <td>345.344146</td>\n",
       "      <td>435.513570</td>\n",
       "      <td>168.586810</td>\n",
       "      <td>...</td>\n",
       "      <td>217.916391</td>\n",
       "      <td>217.285773</td>\n",
       "      <td>477.837972</td>\n",
       "      <td>639.964615</td>\n",
       "      <td>1159.182227</td>\n",
       "      <td>7.572437</td>\n",
       "      <td>376.638368</td>\n",
       "      <td>334.479394</td>\n",
       "      <td>4.403563</td>\n",
       "      <td>239.508015</td>\n",
       "    </tr>\n",
       "    <tr>\n",
       "      <th>...</th>\n",
       "      <td>...</td>\n",
       "      <td>...</td>\n",
       "      <td>...</td>\n",
       "      <td>...</td>\n",
       "      <td>...</td>\n",
       "      <td>...</td>\n",
       "      <td>...</td>\n",
       "      <td>...</td>\n",
       "      <td>...</td>\n",
       "      <td>...</td>\n",
       "      <td>...</td>\n",
       "      <td>...</td>\n",
       "      <td>...</td>\n",
       "      <td>...</td>\n",
       "      <td>...</td>\n",
       "      <td>...</td>\n",
       "      <td>...</td>\n",
       "      <td>...</td>\n",
       "      <td>...</td>\n",
       "      <td>...</td>\n",
       "      <td>...</td>\n",
       "    </tr>\n",
       "    <tr>\n",
       "      <th>P66511-01E-Run1_S17_L002</th>\n",
       "      <td>473.428780</td>\n",
       "      <td>403.192438</td>\n",
       "      <td>368.068289</td>\n",
       "      <td>112.779726</td>\n",
       "      <td>516.361080</td>\n",
       "      <td>162.482412</td>\n",
       "      <td>505.787972</td>\n",
       "      <td>422.576868</td>\n",
       "      <td>463.676587</td>\n",
       "      <td>196.924651</td>\n",
       "      <td>...</td>\n",
       "      <td>284.246648</td>\n",
       "      <td>315.172182</td>\n",
       "      <td>471.442285</td>\n",
       "      <td>451.405380</td>\n",
       "      <td>14.390554</td>\n",
       "      <td>11.340570</td>\n",
       "      <td>3.521321</td>\n",
       "      <td>433.387072</td>\n",
       "      <td>5.515513</td>\n",
       "      <td>133.426790</td>\n",
       "    </tr>\n",
       "    <tr>\n",
       "      <th>P66511-05E-Run1_S11_L001</th>\n",
       "      <td>476.282409</td>\n",
       "      <td>423.817809</td>\n",
       "      <td>495.361743</td>\n",
       "      <td>88.510866</td>\n",
       "      <td>464.827458</td>\n",
       "      <td>112.258074</td>\n",
       "      <td>623.801282</td>\n",
       "      <td>471.883100</td>\n",
       "      <td>476.561622</td>\n",
       "      <td>336.425765</td>\n",
       "      <td>...</td>\n",
       "      <td>237.128616</td>\n",
       "      <td>420.146998</td>\n",
       "      <td>433.269509</td>\n",
       "      <td>428.876686</td>\n",
       "      <td>1052.435014</td>\n",
       "      <td>840.317491</td>\n",
       "      <td>2.281116</td>\n",
       "      <td>348.173012</td>\n",
       "      <td>507.769259</td>\n",
       "      <td>467.488619</td>\n",
       "    </tr>\n",
       "    <tr>\n",
       "      <th>P66511-06G-Run1_S16_L001</th>\n",
       "      <td>428.708011</td>\n",
       "      <td>382.275002</td>\n",
       "      <td>328.275153</td>\n",
       "      <td>78.304160</td>\n",
       "      <td>534.920499</td>\n",
       "      <td>64.010202</td>\n",
       "      <td>425.602183</td>\n",
       "      <td>406.416057</td>\n",
       "      <td>467.808180</td>\n",
       "      <td>180.529532</td>\n",
       "      <td>...</td>\n",
       "      <td>257.020224</td>\n",
       "      <td>272.201733</td>\n",
       "      <td>466.952871</td>\n",
       "      <td>452.116325</td>\n",
       "      <td>14.384863</td>\n",
       "      <td>10.162774</td>\n",
       "      <td>3.499327</td>\n",
       "      <td>410.572145</td>\n",
       "      <td>5.246126</td>\n",
       "      <td>2.164375</td>\n",
       "    </tr>\n",
       "    <tr>\n",
       "      <th>P66511-07H-Run1_S19_L002</th>\n",
       "      <td>466.613287</td>\n",
       "      <td>413.325937</td>\n",
       "      <td>365.995683</td>\n",
       "      <td>112.063452</td>\n",
       "      <td>460.336194</td>\n",
       "      <td>135.491330</td>\n",
       "      <td>481.519521</td>\n",
       "      <td>411.784181</td>\n",
       "      <td>447.480372</td>\n",
       "      <td>195.651861</td>\n",
       "      <td>...</td>\n",
       "      <td>265.294425</td>\n",
       "      <td>306.150273</td>\n",
       "      <td>453.485903</td>\n",
       "      <td>463.071590</td>\n",
       "      <td>14.838663</td>\n",
       "      <td>10.972626</td>\n",
       "      <td>98.822049</td>\n",
       "      <td>410.759899</td>\n",
       "      <td>6.024653</td>\n",
       "      <td>2.568856</td>\n",
       "    </tr>\n",
       "    <tr>\n",
       "      <th>P66511-09B-Run1_S26_L002</th>\n",
       "      <td>714.917662</td>\n",
       "      <td>430.697214</td>\n",
       "      <td>464.782147</td>\n",
       "      <td>457.888012</td>\n",
       "      <td>760.464229</td>\n",
       "      <td>350.127882</td>\n",
       "      <td>489.347637</td>\n",
       "      <td>555.451315</td>\n",
       "      <td>687.835312</td>\n",
       "      <td>258.207253</td>\n",
       "      <td>...</td>\n",
       "      <td>153.346458</td>\n",
       "      <td>192.047934</td>\n",
       "      <td>636.726026</td>\n",
       "      <td>261.836755</td>\n",
       "      <td>7.158137</td>\n",
       "      <td>6.764284</td>\n",
       "      <td>1.416317</td>\n",
       "      <td>309.521684</td>\n",
       "      <td>3.097918</td>\n",
       "      <td>0.473953</td>\n",
       "    </tr>\n",
       "  </tbody>\n",
       "</table>\n",
       "<p>133 rows × 21 columns</p>\n",
       "</div>"
      ],
      "text/plain": [
       "                               ACAP3       PLCB3       ACIN1       COPG2  \\\n",
       "samples                                                                    \n",
       "EA595500                  544.962263  413.352698  354.267842   58.421606   \n",
       "EA595522                  435.251143  321.413630  380.905789   65.515128   \n",
       "EA595529                  413.812749  275.758692  237.454939  143.060131   \n",
       "EA595624                  531.261646  427.278317  493.866170   96.637772   \n",
       "EA595635                  406.933457  268.577009  314.416922  457.888012   \n",
       "...                              ...         ...         ...         ...   \n",
       "P66511-01E-Run1_S17_L002  473.428780  403.192438  368.068289  112.779726   \n",
       "P66511-05E-Run1_S11_L001  476.282409  423.817809  495.361743   88.510866   \n",
       "P66511-06G-Run1_S16_L001  428.708011  382.275002  328.275153   78.304160   \n",
       "P66511-07H-Run1_S19_L002  466.613287  413.325937  365.995683  112.063452   \n",
       "P66511-09B-Run1_S26_L002  714.917662  430.697214  464.782147  457.888012   \n",
       "\n",
       "                                INF2        PUS3      TCIRG1       LRCH4  \\\n",
       "samples                                                                    \n",
       "EA595500                  535.041454  287.866849  392.808165  306.216870   \n",
       "EA595522                  444.594049  150.849463  487.248771  431.101175   \n",
       "EA595529                  399.620772  166.500718  362.310026  460.803360   \n",
       "EA595624                  483.222270  123.970420  630.251284  556.382615   \n",
       "EA595635                  482.012457  306.904506  370.024355  345.344146   \n",
       "...                              ...         ...         ...         ...   \n",
       "P66511-01E-Run1_S17_L002  516.361080  162.482412  505.787972  422.576868   \n",
       "P66511-05E-Run1_S11_L001  464.827458  112.258074  623.801282  471.883100   \n",
       "P66511-06G-Run1_S16_L001  534.920499   64.010202  425.602183  406.416057   \n",
       "P66511-07H-Run1_S19_L002  460.336194  135.491330  481.519521  411.784181   \n",
       "P66511-09B-Run1_S26_L002  760.464229  350.127882  489.347637  555.451315   \n",
       "\n",
       "                              SETD1B     PPP1R18  ...       NLRC5       MYO9B  \\\n",
       "samples                                           ...                           \n",
       "EA595500                  378.430499  120.694658  ...  225.099572  206.964832   \n",
       "EA595522                  427.398312  162.745250  ...  280.098398  322.156814   \n",
       "EA595529                  282.020574  146.392025  ...  217.869626  294.299114   \n",
       "EA595624                  547.628888  394.952221  ...  379.333840  492.019347   \n",
       "EA595635                  435.513570  168.586810  ...  217.916391  217.285773   \n",
       "...                              ...         ...  ...         ...         ...   \n",
       "P66511-01E-Run1_S17_L002  463.676587  196.924651  ...  284.246648  315.172182   \n",
       "P66511-05E-Run1_S11_L001  476.561622  336.425765  ...  237.128616  420.146998   \n",
       "P66511-06G-Run1_S16_L001  467.808180  180.529532  ...  257.020224  272.201733   \n",
       "P66511-07H-Run1_S19_L002  447.480372  195.651861  ...  265.294425  306.150273   \n",
       "P66511-09B-Run1_S26_L002  687.835312  258.207253  ...  153.346458  192.047934   \n",
       "\n",
       "                            MAPK8IP3      COX6B1      MIR31HG  DDX39B-AS1  \\\n",
       "samples                                                                     \n",
       "EA595500                  406.265472  364.087870    11.401194    8.499666   \n",
       "EA595522                  473.971846  755.575040    13.064999    8.889098   \n",
       "EA595529                  465.916746  769.978087     9.354005    7.139416   \n",
       "EA595624                  529.763377  422.478113    14.418413   10.448825   \n",
       "EA595635                  477.837972  639.964615  1159.182227    7.572437   \n",
       "...                              ...         ...          ...         ...   \n",
       "P66511-01E-Run1_S17_L002  471.442285  451.405380    14.390554   11.340570   \n",
       "P66511-05E-Run1_S11_L001  433.269509  428.876686  1052.435014  840.317491   \n",
       "P66511-06G-Run1_S16_L001  466.952871  452.116325    14.384863   10.162774   \n",
       "P66511-07H-Run1_S19_L002  453.485903  463.071590    14.838663   10.972626   \n",
       "P66511-09B-Run1_S26_L002  636.726026  261.836755     7.158137    6.764284   \n",
       "\n",
       "                           IGLV11-55      MICAL1  SLC39A12-AS1      WFDC11  \n",
       "samples                                                                     \n",
       "EA595500                    2.712576  299.988377      4.830571    5.049438  \n",
       "EA595522                    3.953820  459.233848      5.248723   26.132406  \n",
       "EA595529                    1.865193  256.371655      3.550454    1.351601  \n",
       "EA595624                    4.355069  567.106380      4.821722    2.579082  \n",
       "EA595635                  376.638368  334.479394      4.403563  239.508015  \n",
       "...                              ...         ...           ...         ...  \n",
       "P66511-01E-Run1_S17_L002    3.521321  433.387072      5.515513  133.426790  \n",
       "P66511-05E-Run1_S11_L001    2.281116  348.173012    507.769259  467.488619  \n",
       "P66511-06G-Run1_S16_L001    3.499327  410.572145      5.246126    2.164375  \n",
       "P66511-07H-Run1_S19_L002   98.822049  410.759899      6.024653    2.568856  \n",
       "P66511-09B-Run1_S26_L002    1.416317  309.521684      3.097918    0.473953  \n",
       "\n",
       "[133 rows x 21 columns]"
      ]
     },
     "execution_count": 14,
     "metadata": {},
     "output_type": "execute_result"
    }
   ],
   "source": [
    "tar"
   ]
  },
  {
   "cell_type": "code",
   "execution_count": 15,
   "id": "b2d69a81-300f-479c-a592-726f175594ca",
   "metadata": {},
   "outputs": [
    {
     "data": {
      "text/plain": [
       "samples\n",
       "EA595500                    #E7131A\n",
       "EA595522                    #6d6e71\n",
       "EA595529                    #6d6e71\n",
       "EA595624                    #005baa\n",
       "EA595635                    #E7131A\n",
       "                             ...   \n",
       "P66511-01E-Run1_S17_L002    #6d6e71\n",
       "P66511-05E-Run1_S11_L001    #E7131A\n",
       "P66511-06G-Run1_S16_L001    #6d6e71\n",
       "P66511-07H-Run1_S19_L002    #6d6e71\n",
       "P66511-09B-Run1_S26_L002    #6d6e71\n",
       "Name: Benefit, Length: 133, dtype: object"
      ]
     },
     "execution_count": 15,
     "metadata": {},
     "output_type": "execute_result"
    }
   ],
   "source": [
    "#colors =  ['#005baa','#6d6e71','#E7131A']\n",
    "row_colors =  pdf[\"Benefit\"].copy().replace(\"ICB\",\"#6d6e71\").replace(\"NCB\",\"#E7131A\").replace(\"CB\",\"#005baa\")\n",
    "row_colors"
   ]
  },
  {
   "cell_type": "code",
   "execution_count": 28,
   "id": "2113d5e7-be04-488e-a638-121b903652d6",
   "metadata": {},
   "outputs": [
    {
     "data": {
      "image/png": "[encoded data removed]",
      "text/plain": [
       "<Figure size 1000x1000 with 5 Axes>"
      ]
     },
     "metadata": {},
     "output_type": "display_data"
    }
   ],
   "source": [
    "import seaborn as sns\n",
    "from matplotlib import pyplot as plt\n",
    "import scienceplots\n",
    "\n",
    "#plt.figure(figsize=(10, 2))\n",
    "g1 = sns.clustermap(tar.T, cmap=sns.color_palette(\"coolwarm\", 7),method=\"ward\",metric=\"cosine\",\n",
    "                    col_cluster=True,row_cluster=False\n",
    "                    ,col_colors=row_colors,xticklabels=False,z_score=0,yticklabels=True)\n",
    "\n",
    "plt.setp(g1.ax_heatmap.get_xticklabels(), rotation=90) \n",
    "ax = g1.ax_heatmap\n",
    "ax.set_ylabel(\"\")\n",
    "g1.ax_cbar.set_position((1, .2, .03, .4))\n",
    "\n",
    "dic = {\"ICB\":\"#6d6e71\",\"NCB\":\"#E7131A\",\"CB\":\"#005baa\"}\n",
    "\n",
    "for label in [\"CB\",\"ICB\",\"NCB\"]:\n",
    "    g1.ax_col_dendrogram.bar(0, 0, color=dic[label], label=label, linewidth=0)\n",
    "l1 = g1.ax_col_dendrogram.legend(title='samples', loc=\"best\", ncol=1, bbox_to_anchor=(1.3, 0.10))\n",
    "for a in g1.ax_col_dendrogram.collections:\n",
    "    a.set_linewidth(2)\n",
    "\n",
    "\n",
    "#plt.tight_layout()\n",
    "plt.savefig(f\"f3.{cate}{ano}_connectivity.tif\",dpi=600,bbox_inches='tight')\n",
    "plt.savefig(f\"f3.{cate}{ano}_connectivity.svg\",dpi=600,bbox_inches='tight')\n",
    "plt.show()\n",
    "plt.close()\n",
    "#replace(\"CB\",\"green\").replace(\"ICB\",\"yellow\").replace(\"NCB\",\"pink\")"
   ]
  },
  {
   "cell_type": "code",
   "execution_count": 17,
   "id": "a1cfaa82-2103-4910-a2f9-e866927e9e58",
   "metadata": {},
   "outputs": [
    {
     "data": {
      "image/png": "[encoded data removed]",
      "text/plain": [
       "<Figure size 432x288 with 1 Axes>"
      ]
     },
     "metadata": {
      "needs_background": "light"
     },
     "output_type": "display_data"
    }
   ],
   "source": [
    "from scipy.cluster.hierarchy import dendrogram, linkage\n",
    "from scipy.spatial.distance import pdist\n",
    "from scipy import stats\n",
    "\n",
    "linkage_data = linkage(pdist(stats.zscore(tar), 'cosine'), method='ward', metric='euclidean')\n",
    "dn = dendrogram(linkage_data)\n",
    "\n",
    "plt.show() "
   ]
  },
  {
   "cell_type": "code",
   "execution_count": 18,
   "id": "5a60f3f2-ad2a-4d75-b5dc-d8b8d4ed2f5a",
   "metadata": {},
   "outputs": [],
   "source": [
    "def swapPositions(lis):\n",
    "    newlis = []\n",
    "    for i in lis:\n",
    "        if i == 1:\n",
    "            newlis.append(2)\n",
    "        if i == 2:\n",
    "            newlis.append(1)\n",
    "    return newlis"
   ]
  },
  {
   "cell_type": "code",
   "execution_count": 19,
   "id": "b79cc7c3-26cf-468d-8ba9-110f6bae820c",
   "metadata": {},
   "outputs": [
    {
     "name": "stdout",
     "output_type": "stream",
     "text": [
      "[1 1 1 2 2 1 2 1 2 1 1 2 2 2 2 1 1 1 1 2 2 2 2 1 1 1 1 1 2 1 2 1 2 2 1 1 2\n",
      " 1 1 2 2 1 2 1 1 1 1 1 1 2 2 2 2 1 2 2 1 2 2 2 1 1 1 1 1 1 1 1 1 2 2 2 1 2\n",
      " 1 2 2 1 2 1 2 2 1 1 1 2 2 1 1 2 1 2 1 2 1 1 1 2 1 2 2 2 2 1 1 2 2 1 2 1 1\n",
      " 2 2 1 1 1 2 2 1 2 2 1 1 1 1 2 1 2 2 2 1 2 2]\n"
     ]
    },
    {
     "name": "stderr",
     "output_type": "stream",
     "text": [
      "/tmp/ipykernel_1296423/3249993828.py:6: PerformanceWarning: DataFrame is highly fragmented.  This is usually the result of calling `frame.insert` many times, which has poor performance.  Consider joining all columns at once using pd.concat(axis=1) instead. To get a de-fragmented frame, use `newframe = frame.copy()`\n",
      "  pdf[\"cres\"] =fl\n"
     ]
    },
    {
     "data": {
      "text/plain": [
       "{1, 2}"
      ]
     },
     "execution_count": 19,
     "metadata": {},
     "output_type": "execute_result"
    }
   ],
   "source": [
    "from scipy.cluster.hierarchy import fcluster\n",
    "\n",
    "fl = fcluster(linkage_data,2,criterion='maxclust')\n",
    "print(fl)\n",
    "#pdf[\"cres\"] = [2 if i != 3 else i for i in fl ]\n",
    "pdf[\"cres\"] =fl\n",
    "#pdf[\"cres\"] =swapPositions(fl)\n",
    "set(pdf[\"cres\"])"
   ]
  },
  {
   "cell_type": "code",
   "execution_count": 20,
   "id": "2d7f0d4e-adf1-4f90-9fbc-a5047b89c1d0",
   "metadata": {},
   "outputs": [],
   "source": [
    "pdf[list(significant_gene)+[\"cres\"]].to_csv(f\"{cate}{ano}connectivity.bycluster.txt\")"
   ]
  },
  {
   "cell_type": "code",
   "execution_count": 21,
   "id": "9204030a-e536-492f-9784-4f35622704dc",
   "metadata": {},
   "outputs": [
    {
     "name": "stdout",
     "output_type": "stream",
     "text": [
      "           ACAP3       PLCB3       ACIN1       COPG2        INF2        PUS3  \\\n",
      "cres                                                                           \n",
      "1     417.855985  337.401142  327.559372  110.266771  453.343253  122.483769   \n",
      "2     511.827664  424.164647  411.058998  131.537653  543.923678  162.870102   \n",
      "\n",
      "          TCIRG1       LRCH4      SETD1B     PPP1R18  ...       NLRC5  \\\n",
      "cres                                                  ...               \n",
      "1     436.722440  366.391563  406.362272  185.427339  ...  257.769463   \n",
      "2     532.704808  470.426537  501.989447  242.613760  ...  323.801728   \n",
      "\n",
      "           MYO9B    MAPK8IP3      COX6B1    MIR31HG  DDX39B-AS1  IGLV11-55  \\\n",
      "cres                                                                         \n",
      "1     268.056476  405.570358  426.169556  12.821095    9.530908   4.366927   \n",
      "2     374.136494  503.010228  433.840936  84.309283   61.972160  46.138182   \n",
      "\n",
      "          MICAL1  SLC39A12-AS1     WFDC11  \n",
      "cres                                       \n",
      "1     371.505174      4.843469   2.203260  \n",
      "2     467.724938     55.044636  50.652397  \n",
      "\n",
      "[2 rows x 21 columns]\n"
     ]
    }
   ],
   "source": [
    "a = pdf[list(significant_gene)+[\"cres\"]]\n",
    "print(a.groupby(\"cres\").mean())"
   ]
  },
  {
   "cell_type": "markdown",
   "id": "9bcb2ebf-8e96-492f-bb8a-87c49bc6be7c",
   "metadata": {},
   "source": [
    "pdf[\"cres\"].to_csv(f\"../clustering_comparison/{cate}{ano}.label.txt\")"
   ]
  },
  {
   "cell_type": "code",
   "execution_count": 26,
   "id": "547e5e05-14a2-4532-8e73-fadd2c4b4b24",
   "metadata": {},
   "outputs": [
    {
     "name": "stdout",
     "output_type": "stream",
     "text": [
      "(133, 20559)\n",
      "133\n",
      "0.00012422853158377325\n"
     ]
    },
    {
     "data": {
      "image/png": "[encoded data removed]",
      "text/plain": [
       "<Figure size 400x220 with 1 Axes>"
      ]
     },
     "metadata": {},
     "output_type": "display_data"
    }
   ],
   "source": [
    "from lifelines import KaplanMeierFitter\n",
    "from lifelines.datasets import load_waltons\n",
    "from sksurv.compare import compare_survival\n",
    "import numpy as np\n",
    "\n",
    "pdf1 = pdf.copy()\n",
    "print(pdf1.shape)\n",
    "y = pdf[[\"OS_CNSR\",\"OS\"]].values\n",
    "y = np.array([ (i[0],i[1]) for i in y],dtype=\"bool,f\")\n",
    "\n",
    "#df_os_fl[df_os_fl[tar]>df_os[tar].quantile(0.65)] = \"higher\"\n",
    "group_indicator = pdf1[\"cres\"]\n",
    "print(len(group_indicator))\n",
    "chi2, pvalue= compare_survival(y,group_indicator)\n",
    "print(pvalue)\n",
    "\n",
    "ix = pdf1['cres'] == 1\n",
    "\n",
    "fig, ax = plt.subplots(nrows=1, ncols=1, figsize=(4, 2.2))\n",
    "\n",
    "######################\n",
    "plt.rcParams.update(plt.rcParamsDefault)\n",
    "%matplotlib inline\n",
    "plt.style.use('default')\n",
    "#####################\n",
    "kmf_control = KaplanMeierFitter()\n",
    "ax = kmf_control.fit(pdf1.loc[ix][\"OS\"], pdf1.loc[ix][\"OS_CNSR\"], label='c1').plot_survival_function(ax=ax,ci_show =False,color='#2e3092')\n",
    "\n",
    "kmf_exp = KaplanMeierFitter()\n",
    "ax = kmf_exp.fit(pdf1.loc[~ix][\"OS\"], pdf1.loc[~ix][\"OS_CNSR\"], label='c2').plot_survival_function(ax=ax,ci_show =False,color='#e40c69')\n",
    "\n",
    "\n",
    "#from lifelines.plotting import add_at_risk_counts\n",
    "#add_at_risk_counts(kmf_exp, kmf_control, ax=ax)\n",
    "\n",
    "ax.text(0.02, 0.2, \"p = \"+str(round(pvalue,5)), transform=ax.transAxes, fontsize=14, verticalalignment='top')\n",
    "#ax.text(0.00, 0.15, \"p < 0.00001\", transform=ax.transAxes, fontsize=14, verticalalignment='top')\n",
    "\n",
    "plt.ylabel(\"Survival probability\")\n",
    "plt.xlabel(\"Time: months (OS)\")\n",
    "plt.tight_layout()\n",
    "plt.savefig(f\"f3.{cate}{ano}_connectivity_os.tif\",dpi=600,bbox_inches='tight')\n",
    "plt.savefig(f\"f3.{cate}{ano}_connectivity_os.svg\",dpi=600,bbox_inches='tight')"
   ]
  },
  {
   "cell_type": "code",
   "execution_count": 27,
   "id": "055c02c8-c903-4c56-9fae-d96e9e644964",
   "metadata": {},
   "outputs": [
    {
     "name": "stdout",
     "output_type": "stream",
     "text": [
      "(133, 20559)\n",
      "133\n",
      "0.0003929973283357593\n"
     ]
    },
    {
     "data": {
      "image/png": "[encoded data removed]",
      "text/plain": [
       "<Figure size 400x220 with 1 Axes>"
      ]
     },
     "metadata": {},
     "output_type": "display_data"
    }
   ],
   "source": [
    "\n",
    "pdf1 = pdf.copy()\n",
    "print(pdf1.shape)\n",
    "y = pdf[[\"PFS_CNSR\",\"PFS\"]].values\n",
    "y = np.array([ (i[0],i[1]) for i in y],dtype=\"bool,f\")\n",
    "\n",
    "#df_os_fl[df_os_fl[tar]>df_os[tar].quantile(0.65)] = \"higher\"\n",
    "group_indicator = pdf1[\"cres\"]\n",
    "print(len(group_indicator))\n",
    "chi2, pvalue= compare_survival(y,group_indicator)\n",
    "print(float(pvalue))\n",
    "\n",
    "\n",
    "fig, ax = plt.subplots(nrows=1, ncols=1, figsize=(4, 2.2))\n",
    "\n",
    "kmf_control = KaplanMeierFitter()\n",
    "ax = kmf_control.fit(pdf1.loc[ix][\"PFS\"], pdf1.loc[ix][\"PFS_CNSR\"], label='c1').plot_survival_function(ax=ax,ci_show =False,color='#2e3092')\n",
    "\n",
    "\n",
    "kmf_exp = KaplanMeierFitter()\n",
    "ax = kmf_exp.fit(pdf1.loc[~ix][\"PFS\"], pdf1.loc[~ix][\"OS_CNSR\"], label='c2').plot_survival_function(ax=ax,ci_show =False,color='#e40c69')\n",
    "\n",
    "\n",
    "#from lifelines.plotting import add_at_risk_counts\n",
    "#add_at_risk_counts(kmf_exp, kmf_control, ax=ax)\n",
    "\n",
    "ax.text(0.6, 0.3, \"p = \"+str(round(pvalue,5)), transform=ax.transAxes, fontsize=14, verticalalignment='top')\n",
    "#ax.text(0.6, 0.4, \"p < 0.00001\", transform=ax.transAxes, fontsize=14, verticalalignment='top')\n",
    "\n",
    "plt.ylabel(\"Survival probability\")\n",
    "plt.xlabel(\"Time: months (PFS)\")\n",
    "plt.tight_layout()\n",
    "plt.savefig(f\"f3.{cate}{ano}_connectivity_pfs.tif\",dpi=600,bbox_inches='tight')\n",
    "plt.savefig(f\"f3.{cate}{ano}_connectivity_pfs.svg\",dpi=600,bbox_inches='tight')"
   ]
  },
  {
   "cell_type": "markdown",
   "id": "e5c1d3e5-60b9-4512-953b-767a6afb7225",
   "metadata": {},
   "source": [
    "resos = pd.read_csv(\"pn_os_significant_nodes_by_degree.txt\")\n",
    "respfs = pd.read_csv(\"pn_pfs_significant_nodes_by_degree.txt\")\n",
    "psignificant_gene = set(resos[resos[\"ttest\"]<0.05][\"covariate\"].tolist()).intersection(respfs[respfs[\"ttest\"]<0.05][\"covariate\"].tolist())\n",
    "print(len(psignificant_gene))\n",
    "\n",
    "resos = pd.read_csv(\"pe_os_significant_nodes_by_degree.txt\")\n",
    "respfs = pd.read_csv(\"pe_pfs_significant_nodes_by_degree.txt\")\n",
    "pesignificant_gene = set(resos[resos[\"ttest\"]<0.05][\"covariate\"].tolist()).intersection(respfs[respfs[\"ttest\"]<0.05][\"covariate\"].tolist())\n",
    "print(len(pesignificant_gene))\n",
    "\n",
    "resos = pd.read_csv(\"mn_os_significant_nodes_by_degree.txt\")\n",
    "respfs = pd.read_csv(\"mn_pfs_significant_nodes_by_degree.txt\")\n",
    "mnsignificant_gene = set(resos[resos[\"ttest\"]<0.05][\"covariate\"].tolist()).intersection(respfs[respfs[\"ttest\"]<0.05][\"covariate\"].tolist())\n",
    "print(len(mnsignificant_gene))\n",
    "\n",
    "\n",
    "resos = pd.read_csv(\"me_os_significant_nodes_by_degree.txt\")\n",
    "respfs = pd.read_csv(\"me_pfs_significant_nodes_by_degree.txt\")\n",
    "mesignificant_gene = set(resos[resos[\"ttest\"]<0.05][\"covariate\"].tolist()).union(respfs[respfs[\"ttest\"]<0.05][\"covariate\"].tolist())\n",
    "print(len(mesignificant_gene))\n",
    "\n",
    "b = list(psignificant_gene) + list(pesignificant_gene) + list(mnsignificant_gene) + list(mesignificant_gene)\n",
    "print(len(set(b)))"
   ]
  },
  {
   "cell_type": "markdown",
   "id": "3dbcff68-2885-4529-86fb-b2fb204bd574",
   "metadata": {},
   "source": [
    "resos = pd.read_csv(f\"{cate}.positive._os_significant_nodes_by_connectivity.txt\")\n",
    "respfs = pd.read_csv(f\"{cate}.positive._pfs_significant_nodes_by_connectivity.txt\")\n",
    "s1 = set(resos[resos[\"p\"]<0.01][\"covariate\"].tolist()).intersection(respfs[respfs[\"p\"]<0.01][\"covariate\"].tolist())\n",
    "\n",
    "resos = pd.read_csv(f\"{cate}.negative._os_significant_nodes_by_connectivity.txt\")\n",
    "respfs = pd.read_csv(f\"{cate}.negative._pfs_significant_nodes_by_connectivity.txt\")\n",
    "s2 = set(resos[resos[\"p\"]<0.01][\"covariate\"].tolist()).intersection(respfs[respfs[\"p\"]<0.01][\"covariate\"].tolist())"
   ]
  },
  {
   "cell_type": "markdown",
   "id": "e8de88ec-2da7-4ca8-a12c-270c36cc1b82",
   "metadata": {},
   "source": [
    "for i in s1.intersection(s2):\n",
    "    print(i)"
   ]
  },
  {
   "cell_type": "code",
   "execution_count": null,
   "id": "141e7ff7-f0c0-454c-9ca0-770c80a9f8ab",
   "metadata": {},
   "outputs": [],
   "source": []
  },
  {
   "cell_type": "code",
   "execution_count": null,
   "id": "b95ff47a-ab04-4e50-8f25-a9de8651d375",
   "metadata": {},
   "outputs": [],
   "source": []
  },
  {
   "cell_type": "code",
   "execution_count": null,
   "id": "a45aa850-a23c-47ba-b973-94a8937682b9",
   "metadata": {},
   "outputs": [],
   "source": []
  }
 ],
 "metadata": {
  "kernelspec": {
   "display_name": "Python 3 (ipykernel)",
   "language": "python",
   "name": "python3"
  },
  "language_info": {
   "codemirror_mode": {
    "name": "ipython",
    "version": 3
   },
   "file_extension": ".py",
   "mimetype": "text/x-python",
   "name": "python",
   "nbconvert_exporter": "python",
   "pygments_lexer": "ipython3",
   "version": "3.11.4"
  }
 },
 "nbformat": 4,
 "nbformat_minor": 5
}
