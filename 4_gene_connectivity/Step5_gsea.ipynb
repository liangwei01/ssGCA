{
 "cells": [
  {
   "cell_type": "code",
   "execution_count": 1,
   "id": "08236be2-8183-40cf-ad11-9e21cae06d6f",
   "metadata": {},
   "outputs": [],
   "source": [
    "import pandas as pd\n",
    "import numpy as np\n",
    "from matplotlib import pyplot as plt\n",
    "import seaborn as sns\n",
    "import gseapy as gp\n",
    "sns.set_context(\"notebook\", rc={\"lines.linewidth\": 2})\n",
    "##################################################\n",
    "plt.style.use('tableau-colorblind10')\n",
    "##################################################"
   ]
  },
  {
   "cell_type": "code",
   "execution_count": 8,
   "id": "94c5cfb1-1afe-4a30-91fb-e12e56486692",
   "metadata": {},
   "outputs": [
    {
     "name": "stdout",
     "output_type": "stream",
     "text": [
      "229\n",
      "108\n"
     ]
    }
   ],
   "source": [
    "cate = \"primaryNivo\"\n",
    "ano = \".negative.\"\n",
    "df = pd.read_csv(f\"{cate}{ano}_os_significant_nodes_by_connectivity.txt\")\n",
    "df1 = pd.read_csv(f\"{cate}{ano}_pfs_significant_nodes_by_connectivity.txt\")\n",
    "gene_list = list(set(df[df[\"p\"]<0.01][\"covariate\"].tolist() + df1[df1[\"p\"]<0.01][\"covariate\"].tolist()))\n",
    "df[df[\"p\"]<0.01][\"covariate\"]\n",
    "print(len(df[df[\"p\"]<0.01][\"covariate\"].tolist()))\n",
    "print(len(df1[df1[\"p\"]<0.01][\"covariate\"].tolist()))"
   ]
  },
  {
   "cell_type": "code",
   "execution_count": 9,
   "id": "ccb279b4-a9dd-4f02-968d-10552c5554f1",
   "metadata": {},
   "outputs": [
    {
     "data": {
      "text/plain": [
       "289"
      ]
     },
     "execution_count": 9,
     "metadata": {},
     "output_type": "execute_result"
    }
   ],
   "source": [
    "interlist = list(set(df[df[\"p\"]<0.01][\"covariate\"]).intersection(df1[df1[\"p\"]<0.01][\"covariate\"].tolist()))\n",
    "len(list(set(df[df[\"p\"]<0.01][\"covariate\"]).union(df1[df1[\"p\"]<0.01][\"covariate\"].tolist())))\n"
   ]
  },
  {
   "cell_type": "code",
   "execution_count": 10,
   "id": "6008a354-c2a1-4e1f-8d14-3a670ef7b208",
   "metadata": {},
   "outputs": [
    {
     "data": {
      "text/plain": [
       "289"
      ]
     },
     "execution_count": 10,
     "metadata": {},
     "output_type": "execute_result"
    }
   ],
   "source": [
    "len(set(gene_list))"
   ]
  },
  {
   "cell_type": "code",
   "execution_count": 11,
   "id": "7808899e-c033-48fe-be49-39d0caed3c9f",
   "metadata": {},
   "outputs": [
    {
     "name": "stderr",
     "output_type": "stream",
     "text": [
      "/opt/conda/lib/python3.11/site-packages/gseapy/plot.py:671: FutureWarning: The 'method' keyword in Series.replace is deprecated and will be removed in a future version.\n",
      "  df[self.colname].replace(\n",
      "/opt/conda/lib/python3.11/site-packages/gseapy/plot.py:671: FutureWarning: A value is trying to be set on a copy of a DataFrame or Series through chained assignment using an inplace method.\n",
      "The behavior will change in pandas 3.0. This inplace method will never work because the intermediate object on which we are setting values always behaves as a copy.\n",
      "\n",
      "For example, when doing 'df[col].method(value, inplace=True)', try using 'df.method({col: value}, inplace=True)' or df[col] = df[col].method(value) instead, to perform the operation inplace on the original object.\n",
      "\n",
      "\n",
      "  df[self.colname].replace(\n",
      "/opt/conda/lib/python3.11/site-packages/gseapy/plot.py:671: FutureWarning: The 'method' keyword in Series.replace is deprecated and will be removed in a future version.\n",
      "  df[self.colname].replace(\n",
      "/opt/conda/lib/python3.11/site-packages/gseapy/plot.py:671: FutureWarning: A value is trying to be set on a copy of a DataFrame or Series through chained assignment using an inplace method.\n",
      "The behavior will change in pandas 3.0. This inplace method will never work because the intermediate object on which we are setting values always behaves as a copy.\n",
      "\n",
      "For example, when doing 'df[col].method(value, inplace=True)', try using 'df.method({col: value}, inplace=True)' or df[col] = df[col].method(value) instead, to perform the operation inplace on the original object.\n",
      "\n",
      "\n",
      "  df[self.colname].replace(\n",
      "/opt/conda/lib/python3.11/site-packages/gseapy/plot.py:671: FutureWarning: The 'method' keyword in Series.replace is deprecated and will be removed in a future version.\n",
      "  df[self.colname].replace(\n",
      "/opt/conda/lib/python3.11/site-packages/gseapy/plot.py:671: FutureWarning: A value is trying to be set on a copy of a DataFrame or Series through chained assignment using an inplace method.\n",
      "The behavior will change in pandas 3.0. This inplace method will never work because the intermediate object on which we are setting values always behaves as a copy.\n",
      "\n",
      "For example, when doing 'df[col].method(value, inplace=True)', try using 'df.method({col: value}, inplace=True)' or df[col] = df[col].method(value) instead, to perform the operation inplace on the original object.\n",
      "\n",
      "\n",
      "  df[self.colname].replace(\n"
     ]
    }
   ],
   "source": [
    "# if you are only intrested in dataframe that enrichr returned, please set outdir=None\n",
    "enr = gp.enrichr(gene_list=gene_list , # or \"./tests/data/gene_list.txt\",\n",
    "                 gene_sets=['MSigDB_Hallmark_2020','KEGG_2021_Human','CellMarker_Augmented_2021'],\n",
    "                 organism='human', # don't forget to set organism to the one you desired! e.g. Yeast\n",
    "                 cutoff=0.9,\n",
    "                 outdir=f\"./{cate}{ano}\", # don't write to disk\n",
    "                )\n",
    "\n"
   ]
  },
  {
   "cell_type": "markdown",
   "id": "cdb21b81-086a-4fe4-a5bf-2693b4054265",
   "metadata": {},
   "source": [
    "enr.results.head(10)"
   ]
  },
  {
   "cell_type": "code",
   "execution_count": 12,
   "id": "fce5afe2-09bf-4c35-a086-e1fb44442279",
   "metadata": {},
   "outputs": [
    {
     "data": {
      "text/html": [
       "<div>\n",
       "<style scoped>\n",
       "    .dataframe tbody tr th:only-of-type {\n",
       "        vertical-align: middle;\n",
       "    }\n",
       "\n",
       "    .dataframe tbody tr th {\n",
       "        vertical-align: top;\n",
       "    }\n",
       "\n",
       "    .dataframe thead th {\n",
       "        text-align: right;\n",
       "    }\n",
       "</style>\n",
       "<table border=\"1\" class=\"dataframe\">\n",
       "  <thead>\n",
       "    <tr style=\"text-align: right;\">\n",
       "      <th></th>\n",
       "      <th>Gene_set</th>\n",
       "      <th>Term</th>\n",
       "      <th>Overlap</th>\n",
       "      <th>P-value</th>\n",
       "      <th>Adjusted P-value</th>\n",
       "      <th>Old P-value</th>\n",
       "      <th>Old Adjusted P-value</th>\n",
       "      <th>Odds Ratio</th>\n",
       "      <th>Combined Score</th>\n",
       "      <th>Genes</th>\n",
       "    </tr>\n",
       "  </thead>\n",
       "  <tbody>\n",
       "    <tr>\n",
       "      <th>0</th>\n",
       "      <td>MSigDB_Hallmark_2020</td>\n",
       "      <td>Oxidative Phosphorylation</td>\n",
       "      <td>15/200</td>\n",
       "      <td>2.325280e-07</td>\n",
       "      <td>0.000009</td>\n",
       "      <td>0</td>\n",
       "      <td>0</td>\n",
       "      <td>5.778063</td>\n",
       "      <td>88.255604</td>\n",
       "      <td>COX7B;ACADVL;NDUFA6;MAOB;UQCRB;NDUFA5;NDUFB4;N...</td>\n",
       "    </tr>\n",
       "    <tr>\n",
       "      <th>1</th>\n",
       "      <td>MSigDB_Hallmark_2020</td>\n",
       "      <td>Myc Targets V1</td>\n",
       "      <td>11/200</td>\n",
       "      <td>1.648429e-04</td>\n",
       "      <td>0.003214</td>\n",
       "      <td>0</td>\n",
       "      <td>0</td>\n",
       "      <td>4.087054</td>\n",
       "      <td>35.600357</td>\n",
       "      <td>CCT2;RSL1D1;HDDC2;LDHA;YWHAQ;CBX3;RPL34;VDAC1;...</td>\n",
       "    </tr>\n",
       "    <tr>\n",
       "      <th>2</th>\n",
       "      <td>MSigDB_Hallmark_2020</td>\n",
       "      <td>Fatty Acid Metabolism</td>\n",
       "      <td>7/158</td>\n",
       "      <td>8.203487e-03</td>\n",
       "      <td>0.106645</td>\n",
       "      <td>0</td>\n",
       "      <td>0</td>\n",
       "      <td>3.215443</td>\n",
       "      <td>15.444404</td>\n",
       "      <td>LDHA;ACADVL;ACADL;ALDH1A1;SMS;NBN;S100A10</td>\n",
       "    </tr>\n",
       "    <tr>\n",
       "      <th>3</th>\n",
       "      <td>MSigDB_Hallmark_2020</td>\n",
       "      <td>p53 Pathway</td>\n",
       "      <td>7/200</td>\n",
       "      <td>2.656667e-02</td>\n",
       "      <td>0.259025</td>\n",
       "      <td>0</td>\n",
       "      <td>0</td>\n",
       "      <td>2.510308</td>\n",
       "      <td>9.107642</td>\n",
       "      <td>LDHB;HINT1;CCNG1;DNTTIP2;RPS27L;TM7SF3;S100A10</td>\n",
       "    </tr>\n",
       "    <tr>\n",
       "      <th>4</th>\n",
       "      <td>MSigDB_Hallmark_2020</td>\n",
       "      <td>Reactive Oxygen Species Pathway</td>\n",
       "      <td>3/49</td>\n",
       "      <td>3.377084e-02</td>\n",
       "      <td>0.263413</td>\n",
       "      <td>0</td>\n",
       "      <td>0</td>\n",
       "      <td>4.484266</td>\n",
       "      <td>15.193399</td>\n",
       "      <td>NDUFA6;NDUFB4;GSR</td>\n",
       "    </tr>\n",
       "    <tr>\n",
       "      <th>...</th>\n",
       "      <td>...</td>\n",
       "      <td>...</td>\n",
       "      <td>...</td>\n",
       "      <td>...</td>\n",
       "      <td>...</td>\n",
       "      <td>...</td>\n",
       "      <td>...</td>\n",
       "      <td>...</td>\n",
       "      <td>...</td>\n",
       "      <td>...</td>\n",
       "    </tr>\n",
       "    <tr>\n",
       "      <th>726</th>\n",
       "      <td>CellMarker_Augmented_2021</td>\n",
       "      <td>Astrocyte:Brain</td>\n",
       "      <td>1/164</td>\n",
       "      <td>9.090027e-01</td>\n",
       "      <td>0.916609</td>\n",
       "      <td>0</td>\n",
       "      <td>0</td>\n",
       "      <td>0.416411</td>\n",
       "      <td>0.039729</td>\n",
       "      <td>IL11RA</td>\n",
       "    </tr>\n",
       "    <tr>\n",
       "      <th>727</th>\n",
       "      <td>CellMarker_Augmented_2021</td>\n",
       "      <td>CD1C-CD141- Dendritic cell:Blood</td>\n",
       "      <td>2/314</td>\n",
       "      <td>9.433098e-01</td>\n",
       "      <td>0.949218</td>\n",
       "      <td>0</td>\n",
       "      <td>0</td>\n",
       "      <td>0.433284</td>\n",
       "      <td>0.025287</td>\n",
       "      <td>NLRP1;ITM2B</td>\n",
       "    </tr>\n",
       "    <tr>\n",
       "      <th>728</th>\n",
       "      <td>CellMarker_Augmented_2021</td>\n",
       "      <td>Retinoid Acid Signaling-Responsive Fetal Germ ...</td>\n",
       "      <td>1/219</td>\n",
       "      <td>9.594500e-01</td>\n",
       "      <td>0.963448</td>\n",
       "      <td>0</td>\n",
       "      <td>0</td>\n",
       "      <td>0.310477</td>\n",
       "      <td>0.012852</td>\n",
       "      <td>REC8</td>\n",
       "    </tr>\n",
       "    <tr>\n",
       "      <th>729</th>\n",
       "      <td>CellMarker_Augmented_2021</td>\n",
       "      <td>Mitotic Arrest Phase Fetal Germ cell:Fetal Gonad</td>\n",
       "      <td>7/948</td>\n",
       "      <td>9.852854e-01</td>\n",
       "      <td>0.987334</td>\n",
       "      <td>0</td>\n",
       "      <td>0</td>\n",
       "      <td>0.495135</td>\n",
       "      <td>0.007340</td>\n",
       "      <td>PACS2;SYPL1;ZFR2;SMS;TSC2;BAZ1A;SLU7</td>\n",
       "    </tr>\n",
       "    <tr>\n",
       "      <th>730</th>\n",
       "      <td>CellMarker_Augmented_2021</td>\n",
       "      <td>Paneth cell:Large Intestine</td>\n",
       "      <td>1/311</td>\n",
       "      <td>9.895612e-01</td>\n",
       "      <td>0.989561</td>\n",
       "      <td>0</td>\n",
       "      <td>0</td>\n",
       "      <td>0.217305</td>\n",
       "      <td>0.002280</td>\n",
       "      <td>CORO7</td>\n",
       "    </tr>\n",
       "  </tbody>\n",
       "</table>\n",
       "<p>731 rows × 10 columns</p>\n",
       "</div>"
      ],
      "text/plain": [
       "                      Gene_set  \\\n",
       "0         MSigDB_Hallmark_2020   \n",
       "1         MSigDB_Hallmark_2020   \n",
       "2         MSigDB_Hallmark_2020   \n",
       "3         MSigDB_Hallmark_2020   \n",
       "4         MSigDB_Hallmark_2020   \n",
       "..                         ...   \n",
       "726  CellMarker_Augmented_2021   \n",
       "727  CellMarker_Augmented_2021   \n",
       "728  CellMarker_Augmented_2021   \n",
       "729  CellMarker_Augmented_2021   \n",
       "730  CellMarker_Augmented_2021   \n",
       "\n",
       "                                                  Term Overlap       P-value  \\\n",
       "0                            Oxidative Phosphorylation  15/200  2.325280e-07   \n",
       "1                                       Myc Targets V1  11/200  1.648429e-04   \n",
       "2                                Fatty Acid Metabolism   7/158  8.203487e-03   \n",
       "3                                          p53 Pathway   7/200  2.656667e-02   \n",
       "4                      Reactive Oxygen Species Pathway    3/49  3.377084e-02   \n",
       "..                                                 ...     ...           ...   \n",
       "726                                    Astrocyte:Brain   1/164  9.090027e-01   \n",
       "727                   CD1C-CD141- Dendritic cell:Blood   2/314  9.433098e-01   \n",
       "728  Retinoid Acid Signaling-Responsive Fetal Germ ...   1/219  9.594500e-01   \n",
       "729   Mitotic Arrest Phase Fetal Germ cell:Fetal Gonad   7/948  9.852854e-01   \n",
       "730                        Paneth cell:Large Intestine   1/311  9.895612e-01   \n",
       "\n",
       "     Adjusted P-value  Old P-value  Old Adjusted P-value  Odds Ratio  \\\n",
       "0            0.000009            0                     0    5.778063   \n",
       "1            0.003214            0                     0    4.087054   \n",
       "2            0.106645            0                     0    3.215443   \n",
       "3            0.259025            0                     0    2.510308   \n",
       "4            0.263413            0                     0    4.484266   \n",
       "..                ...          ...                   ...         ...   \n",
       "726          0.916609            0                     0    0.416411   \n",
       "727          0.949218            0                     0    0.433284   \n",
       "728          0.963448            0                     0    0.310477   \n",
       "729          0.987334            0                     0    0.495135   \n",
       "730          0.989561            0                     0    0.217305   \n",
       "\n",
       "     Combined Score                                              Genes  \n",
       "0         88.255604  COX7B;ACADVL;NDUFA6;MAOB;UQCRB;NDUFA5;NDUFB4;N...  \n",
       "1         35.600357  CCT2;RSL1D1;HDDC2;LDHA;YWHAQ;CBX3;RPL34;VDAC1;...  \n",
       "2         15.444404          LDHA;ACADVL;ACADL;ALDH1A1;SMS;NBN;S100A10  \n",
       "3          9.107642     LDHB;HINT1;CCNG1;DNTTIP2;RPS27L;TM7SF3;S100A10  \n",
       "4         15.193399                                  NDUFA6;NDUFB4;GSR  \n",
       "..              ...                                                ...  \n",
       "726        0.039729                                             IL11RA  \n",
       "727        0.025287                                        NLRP1;ITM2B  \n",
       "728        0.012852                                               REC8  \n",
       "729        0.007340               PACS2;SYPL1;ZFR2;SMS;TSC2;BAZ1A;SLU7  \n",
       "730        0.002280                                              CORO7  \n",
       "\n",
       "[731 rows x 10 columns]"
      ]
     },
     "execution_count": 12,
     "metadata": {},
     "output_type": "execute_result"
    }
   ],
   "source": [
    "enr.results"
   ]
  },
  {
   "cell_type": "code",
   "execution_count": 13,
   "id": "d053b600-1289-468e-98e6-96caae429f35",
   "metadata": {},
   "outputs": [
    {
     "name": "stderr",
     "output_type": "stream",
     "text": [
      "/opt/conda/lib/python3.11/site-packages/gseapy/plot.py:671: FutureWarning: The 'method' keyword in Series.replace is deprecated and will be removed in a future version.\n",
      "  df[self.colname].replace(\n",
      "/opt/conda/lib/python3.11/site-packages/gseapy/plot.py:671: FutureWarning: A value is trying to be set on a copy of a DataFrame or Series through chained assignment using an inplace method.\n",
      "The behavior will change in pandas 3.0. This inplace method will never work because the intermediate object on which we are setting values always behaves as a copy.\n",
      "\n",
      "For example, when doing 'df[col].method(value, inplace=True)', try using 'df.method({col: value}, inplace=True)' or df[col] = df[col].method(value) instead, to perform the operation inplace on the original object.\n",
      "\n",
      "\n",
      "  df[self.colname].replace(\n"
     ]
    },
    {
     "data": {
      "image/png": "[encoded data removed]",
      "text/plain": [
       "<Figure size 216x360 with 2 Axes>"
      ]
     },
     "metadata": {
      "needs_background": "light"
     },
     "output_type": "display_data"
    }
   ],
   "source": [
    "from gseapy import barplot, dotplot\n",
    "import scienceplots\n",
    "plt.rc('font', family='DejaVu Sans')\n",
    "\n",
    "ax = dotplot(enr.results,\n",
    "              column=\"Adjusted P-value\",#vAdjusted \n",
    "              x='Gene_set', # set x axis, so you could do a multi-sample/library comparsion\n",
    "              size=10,\n",
    "              top_term=5,\n",
    "             thresh=0.8,\n",
    "              figsize=(3,5),\n",
    "              xticklabels_rot=45, # rotate xtick labels\n",
    "             yticklabels_rot=0,\n",
    "              show_ring=True, # set to False to revmove outer ring\n",
    "              marker='o')\n",
    "\n",
    "plt.savefig(f\"f3.{cate}{ano}_ora_genes.svg\",dpi=600,bbox_inches='tight')\n",
    "plt.savefig(f\"f3.{cate}{ano}_ora_genes.tif\",dpi=600,bbox_inches='tight')"
   ]
  },
  {
   "cell_type": "code",
   "execution_count": null,
   "id": "67d2ad14-41d8-4be8-9cd6-e19a832ff42d",
   "metadata": {},
   "outputs": [],
   "source": [
    "ax = barplot(enr.results,\n",
    "              column=\"P-value\",\n",
    "              group='Gene_set', # set group, so you could do a multi-sample/library comparsion\n",
    "              size=10,\n",
    "              top_term=5,\n",
    "              figsize=(3,5),\n",
    "              color=['darkred', 'darkblue'] # set colors for group\n",
    "             ,cutoff = 0.05\n",
    "             )"
   ]
  },
  {
   "cell_type": "code",
   "execution_count": null,
   "id": "39b7c168-b24a-416f-be9b-0f118618d82c",
   "metadata": {},
   "outputs": [],
   "source": []
  }
 ],
 "metadata": {
  "kernelspec": {
   "display_name": "Python 3 (ipykernel)",
   "language": "python",
   "name": "python3"
  },
  "language_info": {
   "codemirror_mode": {
    "name": "ipython",
    "version": 3
   },
   "file_extension": ".py",
   "mimetype": "text/x-python",
   "name": "python",
   "nbconvert_exporter": "python",
   "pygments_lexer": "ipython3",
   "version": "3.11.4"
  }
 },
 "nbformat": 4,
 "nbformat_minor": 5
}
