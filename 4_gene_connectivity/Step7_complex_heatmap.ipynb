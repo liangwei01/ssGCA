{
 "cells": [
  {
   "cell_type": "code",
   "execution_count": 1,
   "id": "575b3651-4e88-4d8c-8c86-b6854e8eae93",
   "metadata": {},
   "outputs": [
    {
     "name": "stderr",
     "output_type": "stream",
     "text": [
      "/tmp/ipykernel_1296429/3853288686.py:38: FutureWarning: Downcasting object dtype arrays on .fillna, .ffill, .bfill is deprecated and will change in a future version. Call result.infer_objects(copy=False) instead. To opt-in to the future behavior, set `pd.set_option('future.no_silent_downcasting', True)`\n",
      "  pdf.fillna(0,inplace=True)\n"
     ]
    }
   ],
   "source": [
    "# https://dingwb.github.io/PyComplexHeatmap/build/html/notebooks/composite_heatmaps.html\n",
    "import pandas as pd\n",
    "from matplotlib import pyplot as plt\n",
    "import seaborn as sns\n",
    "sns.set_context(\"notebook\", rc={\"lines.linewidth\": 3})\n",
    "##################################################\n",
    "plt.style.use('tableau-colorblind10')\n",
    "##################################################\n",
    "import numpy as np\n",
    "\n",
    "cate = \"primaryNivo\"\n",
    "ano = \".positive.\"\n",
    "\n",
    "df_cate = pd.read_csv(f\"{cate}{ano}connectivity.txt\",index_col=0)\n",
    "\n",
    "df_cl = pd.read_csv(\"../braun_data_log2_or_not/braun_data_S1_Clinical_and_Immune_Data.csv\")\n",
    "\n",
    "df_merge = pd.merge(df_cate.T.reset_index(),df_cl,how='left', left_on=\"index\", right_on=\"RNA_ID\" )\n",
    "\n",
    "def replace_outlier(pd_series):\n",
    "    l = pd_series.to_numpy()\n",
    "    low = pd_series.quantile(0.02)\n",
    "    up = pd_series.quantile(0.98)\n",
    "    l = [e if (low < e) else low for e in l]\n",
    "    l = [e if (up > e) else up for e in l]\n",
    "    return l\n",
    "    \n",
    "def next_replace_out(pdf):\n",
    "    gene_tar = pdf.columns.to_list()[1:-121]\n",
    "    for i in gene_tar:\n",
    "        pdf[i] = replace_outlier(pdf[i])\n",
    "    return pdf\n",
    "\n",
    "pdf = next_replace_out(df_merge.copy())\n",
    "pdf.columns = [\"samples\"] + pdf.columns.tolist()[1:]\n",
    "pdf.set_index(\"samples\",inplace=True)\n",
    "\n",
    "pdf.fillna(0,inplace=True)"
   ]
  },
  {
   "cell_type": "code",
   "execution_count": 2,
   "id": "8bf55a4d-3732-4ea5-b628-ba53da123da2",
   "metadata": {},
   "outputs": [
    {
     "name": "stdout",
     "output_type": "stream",
     "text": [
      "21\n"
     ]
    },
    {
     "data": {
      "image/png": "[encoded data removed]",
      "text/plain": [
       "<Figure size 432x288 with 1 Axes>"
      ]
     },
     "metadata": {
      "needs_background": "light"
     },
     "output_type": "display_data"
    }
   ],
   "source": [
    "#ano=\"\"\n",
    "resos = pd.read_csv(f\"{cate}{ano}_os_significant_nodes_by_connectivity.txt\")\n",
    "respfs = pd.read_csv(f\"{cate}{ano}_pfs_significant_nodes_by_connectivity.txt\")\n",
    "#significant_gene = set(resos[resos[\"ttest\"]<0.05][\"covariate\"].tolist()).union(respfs[respfs[\"ttest\"]<0.05][\"covariate\"].tolist())#\n",
    "\n",
    "\n",
    "####### 1st choice\n",
    "significant_gene_inter = set(resos[resos[\"p\"]<0.01][\"covariate\"].tolist()).intersection(respfs[respfs[\"p\"]<0.01][\"covariate\"].tolist())\n",
    "#significant_gene_inter = set(resos[resos[\"p\"]<0.01][\"covariate\"].tolist()).union(respfs[respfs[\"p\"]<0.01][\"covariate\"].tolist())\n",
    "\n",
    "print(len(significant_gene_inter))\n",
    "\n",
    "tar = pdf[list(significant_gene_inter)]\n",
    "from scipy.cluster.hierarchy import dendrogram, linkage\n",
    "from scipy.spatial.distance import pdist\n",
    "from scipy import stats\n",
    "\n",
    "linkage_data = linkage(pdist(stats.zscore(tar), 'cosine'), method='ward', metric='euclidean')\n",
    "dn = dendrogram(linkage_data)\n",
    "plt.show() "
   ]
  },
  {
   "cell_type": "code",
   "execution_count": 3,
   "id": "358ef022-529e-44ec-a898-0bbfb8e434f4",
   "metadata": {},
   "outputs": [
    {
     "name": "stdout",
     "output_type": "stream",
     "text": [
      "[1 1 1 2 2 1 2 1 2 1 1 2 2 2 2 1 1 1 1 2 2 2 2 1 1 1 1 1 2 1 2 1 2 2 1 1 2\n",
      " 1 1 2 2 1 2 1 1 1 1 1 1 2 2 2 2 1 2 2 1 2 2 2 1 1 1 1 1 1 1 1 1 2 2 2 1 2\n",
      " 1 2 2 1 2 1 2 2 1 1 1 2 2 1 1 2 1 2 1 2 1 1 1 2 1 2 2 2 2 1 1 2 2 1 2 1 1\n",
      " 2 2 1 1 1 2 2 1 2 2 1 1 1 1 2 1 2 2 2 1 2 2]\n"
     ]
    },
    {
     "name": "stderr",
     "output_type": "stream",
     "text": [
      "/tmp/ipykernel_1296429/1619751478.py:16: PerformanceWarning: DataFrame is highly fragmented.  This is usually the result of calling `frame.insert` many times, which has poor performance.  Consider joining all columns at once using pd.concat(axis=1) instead. To get a de-fragmented frame, use `newframe = frame.copy()`\n",
      "  pdf[\"cres\"] =fl\n"
     ]
    },
    {
     "data": {
      "text/plain": [
       "{1, 2}"
      ]
     },
     "execution_count": 3,
     "metadata": {},
     "output_type": "execute_result"
    }
   ],
   "source": [
    "from scipy.cluster.hierarchy import fcluster\n",
    "\n",
    "fl = fcluster(linkage_data,2,criterion='maxclust')\n",
    "print(fl)\n",
    "#pdf[\"cres\"] = [2 if i != 3 else i for i in fl ]\n",
    "\n",
    "def swapPositions(lis):\n",
    "    newlis = []\n",
    "    for i in lis:\n",
    "        if i == 1:\n",
    "            newlis.append(2)\n",
    "        if i == 2:\n",
    "            newlis.append(1)\n",
    "    return newlis\n",
    "    \n",
    "pdf[\"cres\"] =fl\n",
    "#pdf[\"cres\"] =swapPositions(fl)\n",
    "set(pdf[\"cres\"])"
   ]
  },
  {
   "cell_type": "code",
   "execution_count": 4,
   "id": "7ea02028-1d83-4168-9385-84759a8f21c1",
   "metadata": {},
   "outputs": [
    {
     "name": "stdout",
     "output_type": "stream",
     "text": [
      "(133, 20667)\n"
     ]
    },
    {
     "data": {
      "image/png": "[encoded data removed]",
      "text/plain": [
       "<Figure size 324x144 with 1 Axes>"
      ]
     },
     "metadata": {
      "needs_background": "light"
     },
     "output_type": "display_data"
    }
   ],
   "source": [
    "from lifelines import KaplanMeierFitter\n",
    "from lifelines.datasets import load_waltons\n",
    "from sksurv.compare import compare_survival\n",
    "import numpy as np\n",
    "\n",
    "pdf1 = pdf.copy()\n",
    "print(pdf1.shape)\n",
    "y = pdf[[\"OS_CNSR\",\"OS\"]].values\n",
    "y = np.array([ (i[0],i[1]) for i in y],dtype=\"bool,f\")\n",
    "\n",
    "ix = pdf1['cres'] == 1\n",
    "\n",
    "fig, ax = plt.subplots(nrows=1, ncols=1, figsize=(4.5, 2))\n",
    "\n",
    "######################\n",
    "plt.rcParams.update(plt.rcParamsDefault)\n",
    "%matplotlib inline\n",
    "plt.style.use('default')\n",
    "#####################\n",
    "kmf_control = KaplanMeierFitter()\n",
    "ax = kmf_control.fit(pdf1.loc[ix][\"OS\"], pdf1.loc[ix][\"OS_CNSR\"], label='c1').plot_survival_function(ax=ax,ci_show =False,color='#2e3092')\n",
    "\n",
    "kmf_exp = KaplanMeierFitter()\n",
    "ax = kmf_exp.fit(pdf1.loc[~ix][\"OS\"], pdf1.loc[~ix][\"OS_CNSR\"], label='c2').plot_survival_function(ax=ax,ci_show =False,color='#e40c69')\n",
    "plt.show()"
   ]
  },
  {
   "cell_type": "code",
   "execution_count": 5,
   "id": "206a3cc6-947c-4188-ac36-a59a81bd06b6",
   "metadata": {},
   "outputs": [],
   "source": [
    "\"\"\"\n",
    "selected_mutation = ['Amplification_1q32.1', 'Amplification_8p11.21', 'Deletion_5q14.1',\n",
    "       'Deletion_9p21.3', 'Deletion_9q34.3', 'Deletion_10q23.31',\n",
    "       'Deletion_10q26.3', 'Deletion_11q12.3', 'Deletion_11q23.1',\n",
    "       'Deletion_12q24.33', 'PBRM1_y', 'SETD2_y']\n",
    "\"\"\"\n",
    "all_mutation = pdf.columns[-72:-6].tolist()\n",
    "selected_mutation = []"
   ]
  },
  {
   "cell_type": "code",
   "execution_count": 6,
   "id": "3a3104b3-ccfe-413e-84c5-e2925d9f13a0",
   "metadata": {},
   "outputs": [],
   "source": [
    "import numpy as np\n",
    "from scipy.stats import fisher_exact\n",
    "dic_mutation = {}\n",
    "for  i in all_mutation:#pdf.columns[-72:-6].tolist():\n",
    "    #print(set(pdf[pdf[\"cres\"]==1][i].tolist()),pdf[pdf[\"cres\"]==1][i].tolist().count(0))\n",
    "    c1o = pdf[pdf[\"cres\"]==1][i].tolist().count(\"MUT\") + pdf[pdf[\"cres\"]==1][i].tolist().count(\"WT\")\n",
    "    c1 = pdf[pdf[\"cres\"]==1][i].tolist().count(\"MUT\")\n",
    "    c2o = pdf[pdf[\"cres\"]==2][i].tolist().count(\"MUT\") + pdf[pdf[\"cres\"]==2][i].tolist().count(\"WT\")\n",
    "    c2 = pdf[pdf[\"cres\"]==2][i].tolist().count(\"MUT\")\n",
    "    \"\"\"\n",
    "    c3o = pdf[pdf[\"cres\"]==3][i].tolist().count(\"MUT\") + pdf[pdf[\"cres\"]==3][i].tolist().count(\"WT\")\n",
    "    c3 = pdf[pdf[\"cres\"]==3][i].tolist().count(\"MUT\")\n",
    "    c4o = pdf[pdf[\"cres\"]==4][i].tolist().count(\"MUT\") + pdf[pdf[\"cres\"]==4][i].tolist().count(\"WT\")\n",
    "    c4 = pdf[pdf[\"cres\"]==4][i].tolist().count(\"MUT\")\n",
    "    table = np.array([[c1o, c2o], [c1, c2]])\n",
    "    res = fisher_exact(table, alternative='two-sided')\n",
    "    #print(table,i, res.pvalue   )\n",
    "    dic_mutation[i] =  [c1o, c2o,c3o,c4o, c1, c2,c3,c4,res.pvalue]\"\"\"\n",
    "    table = np.array([[c1o, c2o], [c1, c2]])\n",
    "    res = fisher_exact(table, alternative='two-sided')\n",
    "    if res.pvalue < 0.4:\n",
    "        selected_mutation.append(i)\n",
    "        dic_mutation[i] =  [c1o, c2o, c1, c2,res.pvalue]"
   ]
  },
  {
   "cell_type": "code",
   "execution_count": 7,
   "id": "aca26629-0dd6-463e-9bfb-c089a34ec859",
   "metadata": {},
   "outputs": [
    {
     "name": "stdout",
     "output_type": "stream",
     "text": [
      "['WT', 'MUT', 'None']\n"
     ]
    },
    {
     "data": {
      "text/html": [
       "<div>\n",
       "<style scoped>\n",
       "    .dataframe tbody tr th:only-of-type {\n",
       "        vertical-align: middle;\n",
       "    }\n",
       "\n",
       "    .dataframe tbody tr th {\n",
       "        vertical-align: top;\n",
       "    }\n",
       "\n",
       "    .dataframe thead th {\n",
       "        text-align: right;\n",
       "    }\n",
       "</style>\n",
       "<table border=\"1\" class=\"dataframe\">\n",
       "  <thead>\n",
       "    <tr style=\"text-align: right;\">\n",
       "      <th></th>\n",
       "      <th>SampleID</th>\n",
       "      <th>Genes</th>\n",
       "      <th>Variants</th>\n",
       "      <th>WT</th>\n",
       "      <th>MUT</th>\n",
       "      <th>None</th>\n",
       "    </tr>\n",
       "  </thead>\n",
       "  <tbody>\n",
       "    <tr>\n",
       "      <th>2</th>\n",
       "      <td>EA595500</td>\n",
       "      <td>Amplification_1q32.1</td>\n",
       "      <td>WT</td>\n",
       "      <td>1</td>\n",
       "      <td>0</td>\n",
       "      <td>0</td>\n",
       "    </tr>\n",
       "    <tr>\n",
       "      <th>11</th>\n",
       "      <td>EA595500</td>\n",
       "      <td>Amplification_8p11.21</td>\n",
       "      <td>WT</td>\n",
       "      <td>1</td>\n",
       "      <td>0</td>\n",
       "      <td>0</td>\n",
       "    </tr>\n",
       "    <tr>\n",
       "      <th>26</th>\n",
       "      <td>EA595500</td>\n",
       "      <td>Deletion_5q14.1</td>\n",
       "      <td>WT</td>\n",
       "      <td>1</td>\n",
       "      <td>0</td>\n",
       "      <td>0</td>\n",
       "    </tr>\n",
       "    <tr>\n",
       "      <th>32</th>\n",
       "      <td>EA595500</td>\n",
       "      <td>Deletion_9p21.3</td>\n",
       "      <td>MUT</td>\n",
       "      <td>0</td>\n",
       "      <td>1</td>\n",
       "      <td>0</td>\n",
       "    </tr>\n",
       "    <tr>\n",
       "      <th>33</th>\n",
       "      <td>EA595500</td>\n",
       "      <td>Deletion_9q34.3</td>\n",
       "      <td>MUT</td>\n",
       "      <td>0</td>\n",
       "      <td>1</td>\n",
       "      <td>0</td>\n",
       "    </tr>\n",
       "    <tr>\n",
       "      <th>...</th>\n",
       "      <td>...</td>\n",
       "      <td>...</td>\n",
       "      <td>...</td>\n",
       "      <td>...</td>\n",
       "      <td>...</td>\n",
       "      <td>...</td>\n",
       "    </tr>\n",
       "    <tr>\n",
       "      <th>8748</th>\n",
       "      <td>P66511-09B-Run1_S26_L002</td>\n",
       "      <td>Deletion_11q12.3</td>\n",
       "      <td>WT</td>\n",
       "      <td>1</td>\n",
       "      <td>0</td>\n",
       "      <td>0</td>\n",
       "    </tr>\n",
       "    <tr>\n",
       "      <th>8749</th>\n",
       "      <td>P66511-09B-Run1_S26_L002</td>\n",
       "      <td>Deletion_11q23.1</td>\n",
       "      <td>WT</td>\n",
       "      <td>1</td>\n",
       "      <td>0</td>\n",
       "      <td>0</td>\n",
       "    </tr>\n",
       "    <tr>\n",
       "      <th>8750</th>\n",
       "      <td>P66511-09B-Run1_S26_L002</td>\n",
       "      <td>Deletion_12q24.33</td>\n",
       "      <td>WT</td>\n",
       "      <td>1</td>\n",
       "      <td>0</td>\n",
       "      <td>0</td>\n",
       "    </tr>\n",
       "    <tr>\n",
       "      <th>8763</th>\n",
       "      <td>P66511-09B-Run1_S26_L002</td>\n",
       "      <td>PBRM1_y</td>\n",
       "      <td>MUT</td>\n",
       "      <td>0</td>\n",
       "      <td>1</td>\n",
       "      <td>0</td>\n",
       "    </tr>\n",
       "    <tr>\n",
       "      <th>8768</th>\n",
       "      <td>P66511-09B-Run1_S26_L002</td>\n",
       "      <td>SETD2_y</td>\n",
       "      <td>MUT</td>\n",
       "      <td>0</td>\n",
       "      <td>1</td>\n",
       "      <td>0</td>\n",
       "    </tr>\n",
       "  </tbody>\n",
       "</table>\n",
       "<p>1596 rows × 6 columns</p>\n",
       "</div>"
      ],
      "text/plain": [
       "                      SampleID                  Genes Variants  WT  MUT  None\n",
       "2                     EA595500   Amplification_1q32.1       WT   1    0     0\n",
       "11                    EA595500  Amplification_8p11.21       WT   1    0     0\n",
       "26                    EA595500        Deletion_5q14.1       WT   1    0     0\n",
       "32                    EA595500        Deletion_9p21.3      MUT   0    1     0\n",
       "33                    EA595500        Deletion_9q34.3      MUT   0    1     0\n",
       "...                        ...                    ...      ...  ..  ...   ...\n",
       "8748  P66511-09B-Run1_S26_L002       Deletion_11q12.3       WT   1    0     0\n",
       "8749  P66511-09B-Run1_S26_L002       Deletion_11q23.1       WT   1    0     0\n",
       "8750  P66511-09B-Run1_S26_L002      Deletion_12q24.33       WT   1    0     0\n",
       "8763  P66511-09B-Run1_S26_L002                PBRM1_y      MUT   0    1     0\n",
       "8768  P66511-09B-Run1_S26_L002                SETD2_y      MUT   0    1     0\n",
       "\n",
       "[1596 rows x 6 columns]"
      ]
     },
     "execution_count": 7,
     "metadata": {},
     "output_type": "execute_result"
    }
   ],
   "source": [
    "data_complex = pdf[pdf.columns[-72:-6].tolist()].stack().reset_index().copy() #[\"cres\",\"Benefit\"]\n",
    "data_complex = data_complex.replace(0,\"None\")\n",
    "data_complex.columns=['SampleID','Genes','Variants']\n",
    "data_complex= data_complex[data_complex[\"Genes\"].isin(selected_mutation)].copy()\n",
    "\n",
    "unique_variants=[]\n",
    "for var in data_complex.Variants.dropna().unique():\n",
    "    for v1 in var.split(';'):\n",
    "        v1=v1.strip()\n",
    "        if v1=='':\n",
    "            continue\n",
    "        if v1 not in unique_variants:\n",
    "            unique_variants.append(v1)\n",
    "print(unique_variants)\n",
    "for var in unique_variants:\n",
    "    data_complex[var]=data_complex.Variants.fillna('').apply(lambda x:1 if var in x else 0)\n",
    "\n",
    "data_complex"
   ]
  },
  {
   "cell_type": "code",
   "execution_count": 14,
   "id": "ef8956de-5114-4bdc-a72e-4f32ba70d1db",
   "metadata": {},
   "outputs": [
    {
     "name": "stdout",
     "output_type": "stream",
     "text": [
      "[[40 32]\n",
      " [24 16]] SignificanceResult(statistic=0.8333333333333334, pvalue=0.6938076392894021)\n"
     ]
    }
   ],
   "source": [
    "import numpy as np\n",
    "from scipy.stats import fisher_exact\n",
    "\n",
    "for  i in [\"MSKCC\"]:#pdf.columns[-72:-6].tolist():\n",
    "    #print(set(pdf[pdf[\"cres\"]==1][i].tolist()),pdf[pdf[\"cres\"]==1][i].tolist().count(0))\n",
    "    c1o = pdf[pdf[\"cres\"]==1][i].tolist().count(\"FAVORABLE\") + pdf[pdf[\"cres\"]==1][i].tolist().count(\"POOR\")\n",
    "    c1 = pdf[pdf[\"cres\"]==1][i].tolist().count(\"FAVORABLE\")\n",
    "    c2o = pdf[pdf[\"cres\"]==2][i].tolist().count(\"FAVORABLE\") + pdf[pdf[\"cres\"]==2][i].tolist().count(\"POOR\")\n",
    "    c2 = pdf[pdf[\"cres\"]==2][i].tolist().count(\"FAVORABLE\")\n",
    "    table = np.array([[c1o, c2o], [c1, c2]])\n",
    "    res = fisher_exact(table, alternative='two-sided')\n",
    "    print(table,res)"
   ]
  },
  {
   "cell_type": "code",
   "execution_count": null,
   "id": "25948474-8363-46e2-b980-cb05d3ebffeb",
   "metadata": {},
   "outputs": [],
   "source": [
    "import numpy as np\n",
    "from scipy.stats import fisher_exact\n",
    "\n",
    "for  i in [\"MSKCC\"]:#pdf.columns[-72:-6].tolist():\n",
    "    #print(set(pdf[pdf[\"cres\"]==1][i].tolist()),pdf[pdf[\"cres\"]==1][i].tolist().count(0))\n",
    "    c1o = pdf[pdf[\"cres\"]==1][i].tolist().count(\"FAVORABLE\") + pdf[pdf[\"cres\"]==1][i].tolist().count(\"POOR\")\n",
    "    c1 = pdf[pdf[\"cres\"]==1][i].tolist().count(\"FAVORABLE\")\n",
    "    c2o = pdf[pdf[\"cres\"]==2][i].tolist().count(\"FAVORABLE\") + pdf[pdf[\"cres\"]==2][i].tolist().count(\"POOR\")\n",
    "    c2 = pdf[pdf[\"cres\"]==2][i].tolist().count(\"FAVORABLE\")\n",
    "    table = np.array([[c1o, c2o], [c1, c2]])\n",
    "    res = fisher_exact(table, alternative='two-sided')\n",
    "    print(table,res)"
   ]
  },
  {
   "cell_type": "code",
   "execution_count": 15,
   "id": "cd223875-5c2f-4e6d-b971-2d845bf2d6a0",
   "metadata": {},
   "outputs": [
    {
     "data": {
      "text/html": [
       "<div>\n",
       "<style scoped>\n",
       "    .dataframe tbody tr th:only-of-type {\n",
       "        vertical-align: middle;\n",
       "    }\n",
       "\n",
       "    .dataframe tbody tr th {\n",
       "        vertical-align: top;\n",
       "    }\n",
       "\n",
       "    .dataframe thead th {\n",
       "        text-align: right;\n",
       "    }\n",
       "</style>\n",
       "<table border=\"1\" class=\"dataframe\">\n",
       "  <thead>\n",
       "    <tr style=\"text-align: right;\">\n",
       "      <th></th>\n",
       "      <th>MSKCC</th>\n",
       "      <th>cres</th>\n",
       "    </tr>\n",
       "    <tr>\n",
       "      <th>samples</th>\n",
       "      <th></th>\n",
       "      <th></th>\n",
       "    </tr>\n",
       "  </thead>\n",
       "  <tbody>\n",
       "    <tr>\n",
       "      <th>EA595500</th>\n",
       "      <td>INTERMEDIATE</td>\n",
       "      <td>1</td>\n",
       "    </tr>\n",
       "    <tr>\n",
       "      <th>EA595522</th>\n",
       "      <td>INTERMEDIATE</td>\n",
       "      <td>1</td>\n",
       "    </tr>\n",
       "    <tr>\n",
       "      <th>EA595529</th>\n",
       "      <td>POOR</td>\n",
       "      <td>1</td>\n",
       "    </tr>\n",
       "    <tr>\n",
       "      <th>EA595624</th>\n",
       "      <td>INTERMEDIATE</td>\n",
       "      <td>2</td>\n",
       "    </tr>\n",
       "    <tr>\n",
       "      <th>EA595635</th>\n",
       "      <td>INTERMEDIATE</td>\n",
       "      <td>2</td>\n",
       "    </tr>\n",
       "    <tr>\n",
       "      <th>...</th>\n",
       "      <td>...</td>\n",
       "      <td>...</td>\n",
       "    </tr>\n",
       "    <tr>\n",
       "      <th>P66511-01E-Run1_S17_L002</th>\n",
       "      <td>INTERMEDIATE</td>\n",
       "      <td>2</td>\n",
       "    </tr>\n",
       "    <tr>\n",
       "      <th>P66511-05E-Run1_S11_L001</th>\n",
       "      <td>INTERMEDIATE</td>\n",
       "      <td>2</td>\n",
       "    </tr>\n",
       "    <tr>\n",
       "      <th>P66511-06G-Run1_S16_L001</th>\n",
       "      <td>INTERMEDIATE</td>\n",
       "      <td>1</td>\n",
       "    </tr>\n",
       "    <tr>\n",
       "      <th>P66511-07H-Run1_S19_L002</th>\n",
       "      <td>INTERMEDIATE</td>\n",
       "      <td>2</td>\n",
       "    </tr>\n",
       "    <tr>\n",
       "      <th>P66511-09B-Run1_S26_L002</th>\n",
       "      <td>FAVORABLE</td>\n",
       "      <td>2</td>\n",
       "    </tr>\n",
       "  </tbody>\n",
       "</table>\n",
       "<p>133 rows × 2 columns</p>\n",
       "</div>"
      ],
      "text/plain": [
       "                                 MSKCC  cres\n",
       "samples                                     \n",
       "EA595500                  INTERMEDIATE     1\n",
       "EA595522                  INTERMEDIATE     1\n",
       "EA595529                          POOR     1\n",
       "EA595624                  INTERMEDIATE     2\n",
       "EA595635                  INTERMEDIATE     2\n",
       "...                                ...   ...\n",
       "P66511-01E-Run1_S17_L002  INTERMEDIATE     2\n",
       "P66511-05E-Run1_S11_L001  INTERMEDIATE     2\n",
       "P66511-06G-Run1_S16_L001  INTERMEDIATE     1\n",
       "P66511-07H-Run1_S19_L002  INTERMEDIATE     2\n",
       "P66511-09B-Run1_S26_L002     FAVORABLE     2\n",
       "\n",
       "[133 rows x 2 columns]"
      ]
     },
     "execution_count": 15,
     "metadata": {},
     "output_type": "execute_result"
    }
   ],
   "source": [
    "pdf[[\"MSKCC\",\"cres\"]]"
   ]
  },
  {
   "cell_type": "code",
   "execution_count": 9,
   "id": "8969f024-f9db-4413-b488-cd768270072f",
   "metadata": {},
   "outputs": [
    {
     "data": {
      "text/plain": [
       "{'0.03', '0.19', '0.24', '0.25', '0.28', '0.34', '0.36', '0.39'}"
      ]
     },
     "execution_count": 9,
     "metadata": {},
     "output_type": "execute_result"
    }
   ],
   "source": [
    "df_p = pd.DataFrame.from_dict(dic_mutation, orient='index',\n",
    "                              columns=[\"sub1\",\"sub2\",\"sub1_mut\",\"sub2_mut\",\"p\"])\n",
    "df_p[\"c1_ratio\"] =df_p[\"sub1_mut\"]/df_p[\"sub1\"]\n",
    "df_p[\"c2_ratio\"] =df_p[\"sub2_mut\"]/df_p[\"sub2\"]\n",
    "df_p[[\"c1_ratio\",\"c2_ratio\"]]\n",
    "\n",
    "df_p[\"label\"] = [str(round(i, 2)) for i in df_p[\"p\"] ]\n",
    "set(df_p[\"label\"] )"
   ]
  },
  {
   "cell_type": "code",
   "execution_count": 10,
   "id": "ba080581-b799-412c-bb07-1c3e1cf51dfa",
   "metadata": {},
   "outputs": [],
   "source": [
    "import os,sys\n",
    "%matplotlib inline\n",
    "import matplotlib.pylab as plt\n",
    "import pickle\n",
    "plt.rcParams['figure.dpi'] = 100\n",
    "plt.rcParams['savefig.dpi']=300\n",
    "plt.rcParams['font.family'] = 'DeJavu Serif'\n",
    "plt.rcParams['font.serif'] = ['Times New Roman']\n",
    "plt.rcParams['pdf.fonttype']=42\n",
    "# sys.path.append(os.path.expanduser(\"~/Projects/Github/PyComplexHeatmap/\"))\n",
    "import PyComplexHeatmap\n",
    "from PyComplexHeatmap import *\n",
    "\n"
   ]
  },
  {
   "cell_type": "code",
   "execution_count": 11,
   "id": "e22e8035-de89-4daf-b437-5743c5115bf1",
   "metadata": {},
   "outputs": [
    {
     "data": {
      "text/html": [
       "<div>\n",
       "<style scoped>\n",
       "    .dataframe tbody tr th:only-of-type {\n",
       "        vertical-align: middle;\n",
       "    }\n",
       "\n",
       "    .dataframe tbody tr th {\n",
       "        vertical-align: top;\n",
       "    }\n",
       "\n",
       "    .dataframe thead th {\n",
       "        text-align: right;\n",
       "    }\n",
       "</style>\n",
       "<table border=\"1\" class=\"dataframe\">\n",
       "  <thead>\n",
       "    <tr style=\"text-align: right;\">\n",
       "      <th></th>\n",
       "      <th>type</th>\n",
       "    </tr>\n",
       "  </thead>\n",
       "  <tbody>\n",
       "    <tr>\n",
       "      <th>Amplification_1q32.1</th>\n",
       "      <td>chromosomal_mutation</td>\n",
       "    </tr>\n",
       "    <tr>\n",
       "      <th>Amplification_8p11.21</th>\n",
       "      <td>chromosomal_mutation</td>\n",
       "    </tr>\n",
       "    <tr>\n",
       "      <th>Deletion_5q14.1</th>\n",
       "      <td>chromosomal_mutation</td>\n",
       "    </tr>\n",
       "    <tr>\n",
       "      <th>Deletion_9p21.3</th>\n",
       "      <td>chromosomal_mutation</td>\n",
       "    </tr>\n",
       "    <tr>\n",
       "      <th>Deletion_9q34.3</th>\n",
       "      <td>chromosomal_mutation</td>\n",
       "    </tr>\n",
       "    <tr>\n",
       "      <th>Deletion_10q23.31</th>\n",
       "      <td>chromosomal_mutation</td>\n",
       "    </tr>\n",
       "    <tr>\n",
       "      <th>Deletion_10q26.3</th>\n",
       "      <td>chromosomal_mutation</td>\n",
       "    </tr>\n",
       "    <tr>\n",
       "      <th>Deletion_11q12.3</th>\n",
       "      <td>chromosomal_mutation</td>\n",
       "    </tr>\n",
       "    <tr>\n",
       "      <th>Deletion_11q23.1</th>\n",
       "      <td>chromosomal_mutation</td>\n",
       "    </tr>\n",
       "    <tr>\n",
       "      <th>Deletion_12q24.33</th>\n",
       "      <td>chromosomal_mutation</td>\n",
       "    </tr>\n",
       "    <tr>\n",
       "      <th>PBRM1_y</th>\n",
       "      <td>genetic_mutation</td>\n",
       "    </tr>\n",
       "    <tr>\n",
       "      <th>SETD2_y</th>\n",
       "      <td>genetic_mutation</td>\n",
       "    </tr>\n",
       "  </tbody>\n",
       "</table>\n",
       "</div>"
      ],
      "text/plain": [
       "                                       type\n",
       "Amplification_1q32.1   chromosomal_mutation\n",
       "Amplification_8p11.21  chromosomal_mutation\n",
       "Deletion_5q14.1        chromosomal_mutation\n",
       "Deletion_9p21.3        chromosomal_mutation\n",
       "Deletion_9q34.3        chromosomal_mutation\n",
       "Deletion_10q23.31      chromosomal_mutation\n",
       "Deletion_10q26.3       chromosomal_mutation\n",
       "Deletion_11q12.3       chromosomal_mutation\n",
       "Deletion_11q23.1       chromosomal_mutation\n",
       "Deletion_12q24.33      chromosomal_mutation\n",
       "PBRM1_y                    genetic_mutation\n",
       "SETD2_y                    genetic_mutation"
      ]
     },
     "execution_count": 11,
     "metadata": {},
     "output_type": "execute_result"
    }
   ],
   "source": [
    "dic_row = {}\n",
    "for i in df_p.index:\n",
    "    if i in [\"PBRM1_y\",\"SETD2_y\"]:\n",
    "        dic_row[i] = \"genetic_mutation\"\n",
    "    else:\n",
    "        dic_row[i] = \"chromosomal_mutation\"\n",
    "df_row  = pd.DataFrame.from_dict(dic_row , orient='index',columns=[\"type\"])#,columns=[\"sub1\",\"sub2\",\"sub1_mut\",\"sub2_mut\",\"p\"]\n",
    "df_row"
   ]
  },
  {
   "cell_type": "code",
   "execution_count": 12,
   "id": "47d11906-89ec-4b5b-b005-36c024ff47ea",
   "metadata": {},
   "outputs": [],
   "source": [
    "df_col_split =pdf.replace(0,\"None\").sort_values(by=[\"USP32_y\"])[\"cres\"].copy().replace(1,\"cluster1\").replace(2,\"cluster2\").replace(3,\"cluster3\").replace(4,\"cluster4\").to_frame()"
   ]
  },
  {
   "cell_type": "code",
   "execution_count": 13,
   "id": "810aa66e-c364-4cab-9746-ca361e6a4926",
   "metadata": {},
   "outputs": [
    {
     "name": "stderr",
     "output_type": "stream",
     "text": [
      "/opt/conda/lib/python3.11/site-packages/PyComplexHeatmap/oncoPrint.py:226: FutureWarning: DataFrame.applymap has been deprecated. Use DataFrame.map instead.\n",
      "  df_sum = data2d.applymap(np.sum)\n"
     ]
    },
    {
     "name": "stdout",
     "output_type": "stream",
     "text": [
      "Starting plotting..\n",
      "Starting calculating row orders..\n",
      "Reordering rows..\n",
      "Starting calculating col orders..\n",
      "Reordering cols..\n",
      "Plotting matrix..\n",
      "Collecting legends..\n",
      "Plotting legends..\n"
     ]
    },
    {
     "data": {
      "image/png": "[encoded data removed]",
      "text/plain": [
       "<Figure size 1200x600 with 41 Axes>"
      ]
     },
     "metadata": {
      "needs_background": "light"
     },
     "output_type": "display_data"
    }
   ],
   "source": [
    "import scienceplots\n",
    "plt.rc('font', family='DejaVu Sans')\n",
    "cols=['WT','MUT',\"None\"]\n",
    "\n",
    "# calculate genes (row) mutation frequencies.\n",
    "#row_vc=data.groupby('Genes').apply(lambda x:x.loc[:,cols].sum())\n",
    "# calculate samples (cols) mutation frequencies.\n",
    "#col_vc=data.groupby('SampleID').apply(lambda x:x.loc[:,cols].sum())\n",
    "\n",
    "#Samples with variants at KRAS\n",
    "#df_col_split=pdf[\"cres\"].copy().replace(1,\"cluster1\").replace(2,\"cluster2\").replace(3,\"cluster3\").replace(4,\"cluster4\").to_frame()\n",
    "\n",
    "top_annotation=HeatmapAnnotation(axis=1,\n",
    "                                Connectivity=anno_simple(df_col_split.cres,colors={\"cluster1\":\"#2e3092\",\"cluster2\":\"#e40c69\"},add_text=True,height=6),\n",
    "                                Benefit=anno_simple(pdf[\"Benefit\"].to_frame().Benefit,colors={\"CB\":\"#005baa\",\"NCB\":\"#E7131A\",\"ICB\":\"#6d6e71\"},height=4),\n",
    "                                MSKCC=anno_simple(pdf[\"MSKCC\"].to_frame(),colors={\"FAVORABLE\":\"#005baa\",\"POOR\":\"#E7131A\",\"INTERMEDIATE\":\"#6d6e71\"},height=4),\n",
    "                                verbose=0, label_side='left', label_kws={'horizontalalignment': 'right','visible':True})\n",
    "\n",
    "#{\"ICB\":\"#6d6e71\",\"NCB\":\"#E7131A\",\"CB\":\"#005baa\"}\n",
    "right_annotation = HeatmapAnnotation(axis=0,orientation='right',\n",
    "                                ratio=anno_barplot(df_p[[\"c1_ratio\",\"c2_ratio\"]],#\"c3_ratio\",\"c4_ratio\"]],\n",
    "                                                 colors=[\"#2e3092\",\"#e40c69\"],legend=True,height=15,linewidth=0.1), #,\"Purple\",\"Red\"\n",
    "                                label=anno_label(df_p[\"label\"].to_frame(),height=1,relpos=(0,0.5)),\n",
    "                                verbose=0, label_side='top', label_kws={'horizontalalignment': 'center','rotation':0,'visible':True})\n",
    "\n",
    "plt.figure(figsize=(12,6))\n",
    "op=oncoPrintPlotter(data=data_complex,y='Genes',x='SampleID',\n",
    "                    values=['MUT','WT','None'],colors=[\"red\",\"grey\",\"white\"],subplot_gap=2,label='Alteration',\n",
    "                    top_annotation=top_annotation,right_annotation=right_annotation,\n",
    "                    col_split=df_col_split.cres,col_split_order=['cluster1','cluster2'],col_split_gap=3,\n",
    "                    legend_vpad=4,legend_hpad=4,show_rownames=True,show_colnames=False) #xticklabels_kws={'labelsize':3}\n",
    "\n",
    "plt.savefig(f\"f3.oncoPrint_{cate}{ano}tif\",dpi=600,bbox_inches='tight')\n",
    "plt.savefig(f\"f3.oncoPrint_{cate}{ano}svg\",dpi=600,bbox_inches='tight')\n",
    "plt.show()\n",
    "\n"
   ]
  },
  {
   "cell_type": "markdown",
   "id": "0f664316-14a0-4e9a-897d-196dac61aa47",
   "metadata": {},
   "source": [
    "cols=['AMP','HOMDEL','MUT']\n",
    "colors=[\"red\",\"blue\",\"#008000\"]\n",
    "row_vc=data.groupby('Genes').apply(lambda x:x.loc[:,cols].sum())\n",
    "col_vc=data.groupby('SampleID').apply(lambda x:x.loc[:,cols].sum())\n",
    "row_var_freq=data.assign(IsVar=(data.loc[:,cols].sum(axis=1)>0)).groupby('Genes').IsVar.sum() * 100 / data.SampleID.nunique()\n",
    "\n",
    "top_annotation=HeatmapAnnotation(axis=1,orientation='up',\n",
    "                                Col=anno_barplot(col_vc,colors=colors,legend=False,height=15,linewidth=0.1),\n",
    "                                verbose=0, label_side='left', label_kws={'horizontalalignment': 'right','visible':False})\n",
    "\n",
    "right_annotation = HeatmapAnnotation(axis=0,orientation='right',\n",
    "                                Row=anno_barplot(row_vc,colors=colors,legend=False,height=15,linewidth=0.1),\n",
    "                                label=anno_label(row_var_freq.apply(lambda x:str(round(x,1))+\" %\"),\n",
    "                                                 height=1,relpos=(0,0.5)),\n",
    "                                verbose=0, label_side='top',\n",
    "                                label_kws={'horizontalalignment': 'left','rotation':45,'visible':False})\n",
    "\n",
    "plt.figure(figsize=(12,8))\n",
    "op=oncoPrintPlotter(data=data,y='Genes',x='SampleID',\n",
    "                    values=cols,colors=colors,subplot_gap=3,label='Alteration',\n",
    "                    top_annotation=top_annotation,right_annotation=right_annotation,\n",
    "                   show_rownames=True,show_colnames=False,width=0.9)\n",
    "\n",
    "# remove the grid\n",
    "op.top_annotation.annotations[0].ax.grid(False)\n",
    "#remove spines for top annotation and right annotation\n",
    "despine(ax=op.top_annotation.annotations[0].ax,left=False, bottom=True, right=False, top=True)\n",
    "despine(ax=op.right_annotation.annotations[0].ax,left=True, bottom=False, right=True, top=False)\n",
    "\n",
    "plt.savefig(f\"oncoPrint{cate}{ano}.pdf\",bbox_inches='tight')\n",
    "plt.show()\n",
    "\n"
   ]
  },
  {
   "cell_type": "code",
   "execution_count": null,
   "id": "aa88f347-ca73-4b7e-84d2-26c3c426c75e",
   "metadata": {},
   "outputs": [],
   "source": []
  },
  {
   "cell_type": "code",
   "execution_count": null,
   "id": "e54520bf-4af2-49c8-8c3e-0d0be112ea97",
   "metadata": {},
   "outputs": [],
   "source": []
  }
 ],
 "metadata": {
  "kernelspec": {
   "display_name": "Python 3 (ipykernel)",
   "language": "python",
   "name": "python3"
  },
  "language_info": {
   "codemirror_mode": {
    "name": "ipython",
    "version": 3
   },
   "file_extension": ".py",
   "mimetype": "text/x-python",
   "name": "python",
   "nbconvert_exporter": "python",
   "pygments_lexer": "ipython3",
   "version": "3.11.4"
  }
 },
 "nbformat": 4,
 "nbformat_minor": 5
}
