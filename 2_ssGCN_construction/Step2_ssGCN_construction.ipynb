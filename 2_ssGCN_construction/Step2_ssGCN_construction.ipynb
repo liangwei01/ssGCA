{
 "cells": [
  {
   "cell_type": "code",
   "execution_count": 4,
   "id": "fa5050d8-6a69-4631-a574-d8475e013b7f",
   "metadata": {},
   "outputs": [
    {
     "name": "stdout",
     "output_type": "stream",
     "text": [
      "{'EA595473': '0.7822907744928459', 'EA595564': '0.7131596592905709', 'EA595565': '0.7261831700619858', 'EA595620': '0.4782769774744634', 'EA595621': '0.6540286581255743', 'EA595636': '0.2730800119474696', 'EA595660': '0.6834586100681023', 'EA595661': '0.7854018472631908', 'EA595679': '0.7666797342572501', 'EA632138': '0.7863559680653385', 'EA632151': '0.7334970378725302', 'EA632744': '0.6226410592674033', 'EA639081': '0.7648286060902388', 'EA639112': '0.7545219636781735', 'EA639114': '0.8032325217541448', 'EA639134': '0.8145815571997173', 'EA639152': '0.695288356086884', 'EA647821': '0.7327525552932744', 'EA647829': '0.8068621886545735', 'P66282-01H-Run1_S4_L001': '0.7165145306460098', 'P66282-02E-Run1_S6_L001': '0.7985870772436515', 'P66282-03A-Run1_S9_L001': '0.6321645256955488', 'P66282-03F-Run1_S12_L001': '0.7979000041897246', 'P66282-04E-Run1_S18_L002': '0.7221529762272443', 'P66282-04H-Run1_S20_L002': '0.3061859685236871', 'P66282-05F-Run1_S22_L002': '0.794386358330052', 'P66282-06B-Run1_S17_L002': '0.738561241492369', 'P66282-07G-Run1_S3_L001': '0.6744051117228543', 'P66282-09A-Run1_S8_L001': '0.7602665653287666', 'P66282-10F-Run1_S13_L002': '0.6327985083806805', 'P66282-11A-Run1_S15_L002': '0.7829358981980329', 'P66282-11B-Run1_S16_L002': '0.7721535388293936', 'P66282-11E-Run1_S19_L002': '0.598578320559918', 'P66282-12A-Run1_S22_L002': '0.763797301191025', 'P66287-01A-Run1_S16_L002': '0.6797388496949124', 'P66287-01F-Run1_S3_L001': '0.7785793500972695', 'P66287-04E-Run1_S19_L002': '0.5943023658257568', 'P66287-07G-Run1_S4_L001': '0.7894404676652221', 'P66287-11A-Run1_S20_L002': '0.7239135678318589', 'P66291-01A-Run1_S1_L001': '0.7965842208627895', 'P66291-01H-Run1_S5_L001': '0.6899911621902142', 'P66291-02E-Run1_S7_L001': '0.7881100228680391', 'P66291-05H-Run1_S23_L002': '0.7183613139972616', 'P66291-06D-Run1_S27_L002': '0.6982367725235364', 'P66291-06G-Run1_S29_L002': '0.5759384775239431', 'P66291-07D-Run1_S2_L001': '0.7282198705893843', 'P66291-08A-Run1_S6_L001': '0.6599990309306787', 'P66291-09H-Run1_S15_L001': '0.7718133397802418', 'P66291-10C-Run1_S18_L002': '0.6977618425625497', 'P66291-10E-Run1_S19_L002': '0.5679996316834052', 'P66425-01A-Run1_S1_L001': '0.8172174283807547', 'P66425-02B-Run1_S4_L001': '0.7741313373558055', 'P66425-03F-Run1_S12_L001': '0.6842368557098133', 'P66425-04C-Run1_S18_L002': '0.5559403037703096', 'P66425-08C-Run1_S5_L001': '0.7331335084926919', 'P66425-08E-Run1_S6_L001': '0.73241613561704', 'P66425-09F-Run1_S12_L001': '0.7145391793629146', 'P66425-09G-Run1_S13_L001': '0.7847838273709573', 'P66425-10G-Run1_S14_L001': '0.7480173718315632', 'P66425-11F-Run1_S14_L002': '0.7076722125546998', 'P66432-01D-Run1_S17_L002': '0.6897685952443686', 'P66432-02H-Run1_S27_L002': '0.6934216677731473', 'P66432-07A-Run1_S16_L002': '0.7980494357601509', 'P66432-08C-Run1_S24_L002': '0.7307588197707406', 'P66432-10B-Run1_S2_L001': '0.7955715844982324', 'P66432-11D-Run1_S8_L001': '0.6709079267581906', 'P66451-02A-Run1_S20_L002': '0.8225983978078073', 'P66451-02B-Run1_S21_L002': '0.7755819546273978', 'P66451-06A-Run1_S10_L001': '0.7133720906301904', 'P66451-06G-Run1_S14_L001': '0.6727292064170751', 'P66451-07C-Run1_S17_L002': '0.7031055600154115', 'P66451-07E-Run1_S19_L002': '0.7897770814075609', 'P66451-08D-Run1_S23_L002': '0.7082143062257368', 'P66507-02A-Run1_S22_L002': '0.7519311979860123', 'P66507-02H-Run1_S29_L002': '0.747951254453907', 'P66507-04C-Run1_S2_L001': '0.6930326566200113', 'P66507-06C-Run1_S10_L001': '0.7784839358707208', 'P66507-06E-Run1_S12_L001': '0.7505012657764888', 'P66507-08H-Run1_S24_L002': '0.6773681836892701', 'P66507-10B-Run1_S2_L001': '0.7065870973114968', 'P66507-10C-Run1_S3_L001': '0.7255795941748805', 'P66507-11G-Run1_S11_L001': '0.8008220907331572', 'P66507-12A-Run1_S12_L001': '0.5106119460704146', 'P66511-02H-Run1_S26_L002': '0.7476056524880418', 'P66511-04B-Run1_S2_L001': '0.621566953278961', 'P66511-04H-Run1_S7_L001': '0.7916167626051409', 'P66511-05F-Run1_S12_L001': '0.8265806097394287', 'P66511-06B-Run1_S14_L001': '0.7169962587343844', 'P66511-07G-Run1_S18_L002': '0.8432629501424688', 'P66511-08E-Run1_S22_L002': '0.729101276713031', 'P66511-09G-Run1_S31_L002': '0.732521329938443', 'P66511-10H-Run1_S5_L001': '0.6527350046550129'}\n"
     ]
    }
   ],
   "source": [
    "#SIN\n",
    "import pandas as pd\n",
    "import numpy as np\n",
    "\n",
    "sampleGroup = \"primaryEver\"\n",
    "expression_PxG_filename = \"Expression_log2_21_\" + sampleGroup + \"_braun_2020.csv\"\n",
    "# Load gene expression data\n",
    "expr_data = pd.read_csv(f\"../braun_data_log2_or_not/{expression_PxG_filename}\", sep=',', index_col=0)\n",
    "\"\"\"\n",
    "#keep only cancer genes\n",
    "df_cancer = pd.read_csv(\"./annotation/gene_id_cancer_genes.txt\",sep=\",\",header=None)\n",
    "cancer_genes =df_cancer[0].to_list()\n",
    "expr_data= expr_data.T[expr_data.T.index.isin(cancer_genes)]\n",
    "expr_data = expr_data.T\n",
    "\"\"\"\n",
    "datar = expr_data.corr(method='pearson',min_periods=1)\n",
    "#print(datar)\n",
    "#Load Sample weights\n",
    "dic_weight = {}\n",
    "with open(f\"{sampleGroup}.weight.txt\") as f_w:\n",
    "    for i in f_w:\n",
    "        i= i.strip().split()\n",
    "        dic_weight[i[0]] = i[1]\n",
    "\n",
    "print(dic_weight)"
   ]
  },
  {
   "cell_type": "code",
   "execution_count": null,
   "id": "55730938-a300-42c1-b1d7-498ea738b64d",
   "metadata": {},
   "outputs": [
    {
     "name": "stdout",
     "output_type": "stream",
     "text": [
      "['EA595473', 'EA595564', 'EA595565', 'EA595620', 'EA595621', 'EA595636', 'EA595660', 'EA595661', 'EA595679', 'EA632138', 'EA632151', 'EA632744', 'EA639081', 'EA639112', 'EA639114', 'EA639134', 'EA639152', 'EA647821', 'EA647829', 'P66282-01H-Run1_S4_L001', 'P66282-02E-Run1_S6_L001', 'P66282-03A-Run1_S9_L001', 'P66282-03F-Run1_S12_L001', 'P66282-04E-Run1_S18_L002', 'P66282-04H-Run1_S20_L002', 'P66282-05F-Run1_S22_L002', 'P66282-06B-Run1_S17_L002', 'P66282-07G-Run1_S3_L001', 'P66282-09A-Run1_S8_L001', 'P66282-10F-Run1_S13_L002', 'P66282-11A-Run1_S15_L002', 'P66282-11B-Run1_S16_L002', 'P66282-11E-Run1_S19_L002', 'P66282-12A-Run1_S22_L002', 'P66287-01A-Run1_S16_L002', 'P66287-01F-Run1_S3_L001', 'P66287-04E-Run1_S19_L002', 'P66287-07G-Run1_S4_L001', 'P66287-11A-Run1_S20_L002', 'P66291-01A-Run1_S1_L001', 'P66291-01H-Run1_S5_L001', 'P66291-02E-Run1_S7_L001', 'P66291-05H-Run1_S23_L002', 'P66291-06D-Run1_S27_L002', 'P66291-06G-Run1_S29_L002', 'P66291-07D-Run1_S2_L001', 'P66291-08A-Run1_S6_L001', 'P66291-09H-Run1_S15_L001', 'P66291-10C-Run1_S18_L002', 'P66291-10E-Run1_S19_L002', 'P66425-01A-Run1_S1_L001', 'P66425-02B-Run1_S4_L001', 'P66425-03F-Run1_S12_L001', 'P66425-04C-Run1_S18_L002', 'P66425-08C-Run1_S5_L001', 'P66425-08E-Run1_S6_L001', 'P66425-09F-Run1_S12_L001', 'P66425-09G-Run1_S13_L001', 'P66425-10G-Run1_S14_L001', 'P66425-11F-Run1_S14_L002', 'P66432-01D-Run1_S17_L002', 'P66432-02H-Run1_S27_L002', 'P66432-07A-Run1_S16_L002', 'P66432-08C-Run1_S24_L002', 'P66432-10B-Run1_S2_L001', 'P66432-11D-Run1_S8_L001', 'P66451-02A-Run1_S20_L002', 'P66451-02B-Run1_S21_L002', 'P66451-06A-Run1_S10_L001', 'P66451-06G-Run1_S14_L001', 'P66451-07C-Run1_S17_L002', 'P66451-07E-Run1_S19_L002', 'P66451-08D-Run1_S23_L002', 'P66507-02A-Run1_S22_L002', 'P66507-02H-Run1_S29_L002', 'P66507-04C-Run1_S2_L001', 'P66507-06C-Run1_S10_L001', 'P66507-06E-Run1_S12_L001', 'P66507-08H-Run1_S24_L002', 'P66507-10B-Run1_S2_L001', 'P66507-10C-Run1_S3_L001', 'P66507-11G-Run1_S11_L001', 'P66507-12A-Run1_S12_L001', 'P66511-02H-Run1_S26_L002', 'P66511-04B-Run1_S2_L001', 'P66511-04H-Run1_S7_L001', 'P66511-05F-Run1_S12_L001', 'P66511-06B-Run1_S14_L001', 'P66511-07G-Run1_S18_L002', 'P66511-08E-Run1_S22_L002', 'P66511-09G-Run1_S31_L002', 'P66511-10H-Run1_S5_L001']\n",
      "EA595473\n",
      "EA595564\n",
      "EA595565\n",
      "EA595620\n",
      "EA595621\n",
      "EA595636\n",
      "EA595660\n",
      "EA595661\n",
      "EA595679\n",
      "EA632138\n",
      "EA632151\n",
      "EA632744\n",
      "EA639081\n",
      "EA639112\n",
      "EA639114\n",
      "EA639134\n",
      "EA639152\n",
      "EA647821\n",
      "EA647829\n",
      "P66282-01H-Run1_S4_L001\n",
      "P66282-02E-Run1_S6_L001\n",
      "P66282-03A-Run1_S9_L001\n",
      "P66282-03F-Run1_S12_L001\n",
      "P66282-04E-Run1_S18_L002\n",
      "P66282-04H-Run1_S20_L002\n",
      "P66282-05F-Run1_S22_L002\n",
      "P66282-06B-Run1_S17_L002\n",
      "P66282-07G-Run1_S3_L001\n",
      "P66282-09A-Run1_S8_L001\n",
      "P66282-10F-Run1_S13_L002\n",
      "P66282-11A-Run1_S15_L002\n",
      "P66282-11B-Run1_S16_L002\n",
      "P66282-11E-Run1_S19_L002\n",
      "P66282-12A-Run1_S22_L002\n",
      "P66287-01A-Run1_S16_L002\n",
      "P66287-01F-Run1_S3_L001\n",
      "P66287-04E-Run1_S19_L002\n",
      "P66287-07G-Run1_S4_L001\n",
      "P66287-11A-Run1_S20_L002\n",
      "P66291-01A-Run1_S1_L001\n",
      "P66291-01H-Run1_S5_L001\n",
      "P66291-02E-Run1_S7_L001\n",
      "P66291-05H-Run1_S23_L002\n",
      "P66291-06D-Run1_S27_L002\n",
      "P66291-06G-Run1_S29_L002\n",
      "P66291-07D-Run1_S2_L001\n",
      "P66291-08A-Run1_S6_L001\n",
      "P66291-09H-Run1_S15_L001\n",
      "P66291-10C-Run1_S18_L002\n",
      "P66291-10E-Run1_S19_L002\n",
      "P66425-01A-Run1_S1_L001\n",
      "P66425-02B-Run1_S4_L001\n",
      "P66425-03F-Run1_S12_L001\n",
      "P66425-04C-Run1_S18_L002\n",
      "P66425-08C-Run1_S5_L001\n",
      "P66425-08E-Run1_S6_L001\n",
      "P66425-09F-Run1_S12_L001\n",
      "P66425-09G-Run1_S13_L001\n",
      "P66425-10G-Run1_S14_L001\n",
      "P66425-11F-Run1_S14_L002\n",
      "P66432-01D-Run1_S17_L002\n",
      "P66432-02H-Run1_S27_L002\n",
      "P66432-07A-Run1_S16_L002\n",
      "P66432-08C-Run1_S24_L002\n",
      "P66432-10B-Run1_S2_L001\n",
      "P66432-11D-Run1_S8_L001\n",
      "P66451-02A-Run1_S20_L002\n",
      "P66451-02B-Run1_S21_L002\n"
     ]
    }
   ],
   "source": [
    "from scipy.stats import zscore\n",
    "sample = list(expr_data.index )\n",
    "print(sample)\n",
    "sample_num = len(sample) -1\n",
    "for i in sample:\n",
    "    #sample weight\n",
    "    sam_weight = float(dic_weight[i])\n",
    "    #aggregate network\n",
    "    expr_sample19 = expr_data.drop(i,inplace=False)\n",
    "    #print(expr_sample19.shape)\n",
    "    sample19 = expr_sample19.corr(method='pearson',min_periods=1)\n",
    "    del expr_sample19\n",
    "    #sample specific r2\n",
    "    sample_r = datar - sample19\n",
    "    #sample specific confidence score\n",
    "    sample_p_score = sam_weight * sample_num * 0.5 * (sample_r) + sample19\n",
    "    del sample19 \n",
    "    #sample_p = pd.DataFrame(np.triu(sample_p_score,1),index=datar.index,columns=datar.columns)\n",
    "    #sample specific r2 > z-score\n",
    "    upper_sample_p = sample_p_score.where(np.triu(np.ones(sample_p_score.shape),1).astype(bool),np.nan)\n",
    "    df_sample_p = upper_sample_p.stack()\n",
    "    df_sample_p.index.names=['v1','v2']\n",
    "    df_sample_p = df_sample_p.reset_index()\n",
    "    df_sample_p.columns=['feat1','feat2','P']\n",
    "    z_df_sample = zscore(df_sample_p[\"P\"])\n",
    "    #GET R2 FILTERED BY Z-SCORE 2.58\n",
    "    df_sample_p.where(abs(z_df_sample)>2.58,inplace=True)\n",
    "    df_sample_p = df_sample_p.replace(0, np.nan)\n",
    "    df_sample_p.dropna(inplace=True)\n",
    "    print(i)\n",
    "    #df_sample_p.to_csv(f\"sample_specific_{i}.txt\",sep='\\t',columns=None, index=False,header=False)\n",
    "    del sample_r\n",
    "    del z_df_sample\n",
    "    del df_sample_p\n",
    "    break"
   ]
  },
  {
   "cell_type": "markdown",
   "id": "88d66fb9-40f6-4a74-8db3-55812ed5db7d",
   "metadata": {},
   "source": [
    "a = df_sample_p[\"feat1\"].to_list() + df_sample_p[\"feat2\"].to_list()\n",
    "print(len(set(a)))\n",
    "print(df_sample_p)"
   ]
  },
  {
   "cell_type": "markdown",
   "id": "1eb87af3-65e2-4e27-866d-2456317f2ef4",
   "metadata": {},
   "source": [
    "df_sample_p.to_csv(f\"sample_specific_{i}.txt\",sep='\\t',columns=None, index=False,header=False)"
   ]
  },
  {
   "cell_type": "code",
   "execution_count": null,
   "id": "018328ba-4e65-4875-9939-9fbb56e6e71d",
   "metadata": {},
   "outputs": [],
   "source": []
  }
 ],
 "metadata": {
  "kernelspec": {
   "display_name": "Python 3 (ipykernel)",
   "language": "python",
   "name": "python3"
  },
  "language_info": {
   "codemirror_mode": {
    "name": "ipython",
    "version": 3
   },
   "file_extension": ".py",
   "mimetype": "text/x-python",
   "name": "python",
   "nbconvert_exporter": "python",
   "pygments_lexer": "ipython3",
   "version": "3.11.4"
  }
 },
 "nbformat": 4,
 "nbformat_minor": 5
}
