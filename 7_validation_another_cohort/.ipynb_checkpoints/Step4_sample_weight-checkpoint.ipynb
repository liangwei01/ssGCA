{
 "cells": [
  {
   "cell_type": "code",
   "execution_count": 1,
   "id": "f51b34a7-2976-4bbe-8c26-bc1b3f397c0b",
   "metadata": {},
   "outputs": [],
   "source": [
    "#SIN weight by sample\n",
    "import pandas as pd\n",
    "import numpy as np"
   ]
  },
  {
   "cell_type": "code",
   "execution_count": 2,
   "id": "fc40e5a8-909e-48fa-b896-3122c640159a",
   "metadata": {},
   "outputs": [
    {
     "name": "stdout",
     "output_type": "stream",
     "text": [
      "                                                                           ps\n",
      "Xcdaf1a47e636b818a05fc059e5e7362e Xed91741e1dcf7f5d6daa5266d106db68  0.864313\n",
      "                                  X76ebb83ce08b46b79c0ac9188be50566  0.895600\n",
      "                                  X4fa2a1b3738de2989fb9621b6895af41  0.935328\n",
      "                                  X680a33183fd78f2b9a08c97342f7a9b0  0.951975\n",
      "                                  X16f59d5c4921b2ba45f007dabad3cbed  0.916418\n",
      "...                                                                       ...\n",
      "X5f49414082930ad3d6faa26afe948131 Xdae1b2a0bb4d7a946c6090f4b63ff3cf  0.902191\n",
      "                                  X82e18c17d30609fcaef903843d59d791  0.879921\n",
      "                                  X65267ab96e97ada6d44778c6bca9c9e8  0.911957\n",
      "                                  X33fe25b1ae7fa2d13b0cebf465cda997  0.911092\n",
      "                                  X5f6d56c13a1a7968d5c20cf44c9ed3d9  0.897855\n",
      "\n",
      "[124962 rows x 1 columns] ___________________\n"
     ]
    }
   ],
   "source": [
    "#datar = pd.DataFrame(np.triu(datar.values,1),index=datar.index,columns=datar.columns)\n",
    "def get_weight(category):\n",
    "    \"\"\"\n",
    "    generate sample weight (pearson correlation coefficient between the sample inside specified cohorts)\n",
    "    \"\"\"\n",
    "    sample_name = category\n",
    "    expr_data = pd.read_csv(sample_name, sep=',', index_col=0)\n",
    "    datar = expr_data.T.corr(method='pearson',min_periods=10)\n",
    "    data_stack = pd.DataFrame(datar.stack())\n",
    "#print(type(data_stack))\n",
    "#data_stack.reset_index(inplace=True)\n",
    "    data_stack.columns = [\"ps\"]\n",
    "    data_stack = data_stack[data_stack.ps!= 0]\n",
    "    data_stack = data_stack[data_stack.ps!= 1]\n",
    "    print(data_stack,\"___________________\")\n",
    "    r_max, r_min = np.max(data_stack.ps), np.min(data_stack.ps)\n",
    "#print(r_max, r_min)\n",
    "#print(data_stack.groupby(level=0).mean())\n",
    "    sample_mean = data_stack.groupby(level=0).mean()\n",
    "    sample_weight = (sample_mean -r_min  +0.01) / (r_max-r_min +0.01)\n",
    "    sample_weight.to_csv(f\"{category[:-4]}.weight.txt\",sep='\\t',columns=None, index=True,header=False)\n",
    "\n",
    "get_weight(\"motzer.log2.354samples.filter.txt\")"
   ]
  },
  {
   "cell_type": "code",
   "execution_count": null,
   "id": "8da455d8-27e9-48bd-9d23-dc945265da3b",
   "metadata": {},
   "outputs": [],
   "source": []
  }
 ],
 "metadata": {
  "kernelspec": {
   "display_name": "Python 3 (ipykernel)",
   "language": "python",
   "name": "python3"
  },
  "language_info": {
   "codemirror_mode": {
    "name": "ipython",
    "version": 3
   },
   "file_extension": ".py",
   "mimetype": "text/x-python",
   "name": "python",
   "nbconvert_exporter": "python",
   "pygments_lexer": "ipython3",
   "version": "3.11.4"
  }
 },
 "nbformat": 4,
 "nbformat_minor": 5
}
