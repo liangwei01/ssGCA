{
 "cells": [
  {
   "cell_type": "code",
   "execution_count": 1,
   "id": "e363daa3-25f5-4459-9669-9c44937783a7",
   "metadata": {},
   "outputs": [],
   "source": [
    "import sys\n",
    "import pandas as pd\n",
    "import numpy as np\n",
    "import os\n",
    "from scipy.stats import zscore"
   ]
  },
  {
   "cell_type": "code",
   "execution_count": 2,
   "id": "2d1bcf33-40ed-4f62-970a-f3f58dfec7bb",
   "metadata": {},
   "outputs": [],
   "source": [
    "##############need to change#############\n",
    "category, dir_k = \"motzer.log2.354samples.filter.txt\", \"sGCN\"\n",
    "#########################################\n",
    "\n",
    "expression_PxG_filename = \"motzer.log2.354samples.filter.txt\"\n",
    "\n",
    "# Load gene expression data\n",
    "expr_data = pd.read_csv(expression_PxG_filename, sep=',', index_col=0)\n",
    "\n",
    "#load cohort level network\n",
    "datar = expr_data.corr(method='pearson',min_periods=1)\n",
    "\n",
    "\n",
    "#Load Sample weights\n",
    "def get_weight(NAME):\n",
    "    dic_weight_TEMP = {}\n",
    "    with open(f\"{NAME}.weight.txt\") as f_w:\n",
    "        for i in f_w:\n",
    "            i= i.strip().split()\n",
    "            dic_weight_TEMP[i[0]] = i[1]\n",
    "    return dic_weight_TEMP\n",
    "\n",
    "dic_weight= get_weight(category[:-4])\n",
    "\n",
    "sample = list(expr_data.index )\n",
    "sample_num = len(sample) -1\n",
    "\n"
   ]
  },
  {
   "cell_type": "code",
   "execution_count": 3,
   "id": "3f6a29d3-c583-446b-9f5e-dc85127879f8",
   "metadata": {},
   "outputs": [],
   "source": [
    "def filterByZscore(aNetwork_score):\n",
    "    \"\"\"\n",
    "    apply z-score to filter weak edges\n",
    "    \"\"\"\n",
    "    aNetwork_score = aNetwork_score.where(np.triu(np.ones(aNetwork_score.shape),1).astype(bool),np.nan)\n",
    "    df_aNetwork = aNetwork_score.stack()\n",
    "    df_aNetwork.index.names=['v1','v2']\n",
    "    df_aNetwork = df_aNetwork.reset_index()\n",
    "    df_aNetwork.columns=['feat1','feat2','weight']\n",
    "    z_aNetwork = zscore(df_aNetwork[\"weight\"])\n",
    "    #GET R2 FILTERED BY Z-SCORE 2.58\n",
    "    df_aNetwork.where(abs(z_aNetwork)>2.58,inplace=True)\n",
    "    df_aNetwork = df_aNetwork.replace(0, np.nan)\n",
    "    df_aNetwork.dropna(inplace=True)    \n",
    "    return df_aNetwork\n",
    "\n",
    "def generate_sample_edge(sample_p, all_sample_r):\n",
    "    \"\"\"\n",
    "    generate sample specific network\n",
    "    using pertuberd network - reference network\n",
    "    the details can be accessed on sweet paper\n",
    "    \"\"\"\n",
    "    #aggregate network\n",
    "    expr_sample19 = expr_data.drop(sample_p,inplace=False)\n",
    "    sample19 = expr_sample19.corr(method='pearson',min_periods=1)\n",
    "    del expr_sample19\n",
    "    #sample specific network\n",
    "    sample_r = datar - sample19\n",
    "    #sample specific confidence score\n",
    "    #sample weight\n",
    "    sam_weight = float(dic_weight[sample_p])\n",
    "    k = 0.1\n",
    "    sample_p_score = sam_weight * sample_num * k * (sample_r) + sample19\n",
    "    del sample19 \n",
    "    #sample_p = pd.DataFrame(np.triu(sample_p_score,1),index=datar.index,columns=datar.columns)\n",
    "    #sample specific r2 > z-score\n",
    "    df_sample_p = filterByZscore(sample_p_score)\n",
    "    df_sample_p.to_csv(f\"./{dir_k}/sample_specific_{sample_p}.txt\",sep='\\t',columns=None, index=False,header=False)"
   ]
  },
  {
   "cell_type": "code",
   "execution_count": null,
   "id": "4542418e-aeb0-4d71-9aa4-0b727955addc",
   "metadata": {},
   "outputs": [],
   "source": [
    "#generate sample specific network\n",
    "for i in sample:\n",
    "    generate_sample_edge(i, datar)\n"
   ]
  },
  {
   "cell_type": "code",
   "execution_count": null,
   "id": "d5216653-5f09-4549-8432-530af43a7edd",
   "metadata": {},
   "outputs": [],
   "source": []
  }
 ],
 "metadata": {
  "kernelspec": {
   "display_name": "Python 3 (ipykernel)",
   "language": "python",
   "name": "python3"
  },
  "language_info": {
   "codemirror_mode": {
    "name": "ipython",
    "version": 3
   },
   "file_extension": ".py",
   "mimetype": "text/x-python",
   "name": "python",
   "nbconvert_exporter": "python",
   "pygments_lexer": "ipython3",
   "version": "3.11.4"
  }
 },
 "nbformat": 4,
 "nbformat_minor": 5
}
