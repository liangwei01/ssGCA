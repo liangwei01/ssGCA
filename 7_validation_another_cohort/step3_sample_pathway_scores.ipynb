{
 "cells": [
  {
   "cell_type": "code",
   "execution_count": 1,
   "id": "dae66ae9-176d-4302-acd2-e1004f95cf7c",
   "metadata": {},
   "outputs": [],
   "source": [
    "import pandas as pd\n",
    "import numpy as np \n",
    "import igraph as ig\n",
    "import sys\n",
    "from scipy.stats import zscore"
   ]
  },
  {
   "cell_type": "code",
   "execution_count": 2,
   "id": "ad51f460-4d82-47d8-a490-15c701fa95ac",
   "metadata": {},
   "outputs": [],
   "source": [
    "path_list = []\n",
    "with open(\"../../pathway/pathway_gene_sets/c2.cp.kegg.v2023.1.Hs.symbols.gmt\") as gmt:\n",
    "    for i in gmt:\n",
    "        path_list.append([i.split()[0]] + i.split()[2:])\n",
    "\n",
    "def read_g(sample):\n",
    "    dftemp = pd.read_csv(f\"sGCN354/sample_specific_{sample}.txt\",sep=\"\\t\",header=None)\n",
    "    dftemp.columns = [0,1,\"weight\"]\n",
    "    dftemp[\"weight\"] =abs(dftemp[\"weight\"])\n",
    "    all_genes = set(dftemp[0].tolist() + dftemp[1].tolist())\n",
    "    sGCN = ig.Graph.TupleList(dftemp.itertuples(index=False),edge_attrs=\"weight\")\n",
    "    return sGCN, all_genes\n",
    "\n",
    "def get_str(alist):\n",
    "    return \"_\".join([str(i) for i in alist])\n",
    "\n",
    "\n",
    "def get_sample_pair(sampleGroup):\n",
    "    all_sample = []\n",
    "    with open(f\"{sampleGroup}\") as f_w:\n",
    "        for i in f_w:\n",
    "            i= i.strip().split()\n",
    "            all_sample.append(i[0])\n",
    "    return all_sample\n",
    "\n",
    "def trans_alist(alist):\n",
    "    if type(alist) == int:\n",
    "        return alist\n",
    "    if type(alist) == float:\n",
    "        return alist\n",
    "    elif len(alist) > 0:\n",
    "        thelist = pd.Series(alist)\n",
    "        if thelist.sum() == 0:\n",
    "            return 0\n",
    "        else:\n",
    "            #print(thelist.astype('float').sum(),thelist.count())\n",
    "            return thelist.astype('float').sum()/thelist.count()\n",
    "    else:\n",
    "        return 0"
   ]
  },
  {
   "cell_type": "code",
   "execution_count": 3,
   "id": "57a47622-1248-4cc3-ac16-be9bc4f88812",
   "metadata": {},
   "outputs": [],
   "source": [
    "import math\n",
    "def cal_entropy(alist):\n",
    "    h = 0\n",
    "    if sum(alist) != 0:\n",
    "        temp = sum(alist)\n",
    "    for i in alist:\n",
    "        if i == 0:\n",
    "            h += 0\n",
    "        else:\n",
    "            h += (i/temp) * math.log2(i/temp)\n",
    "    return -h"
   ]
  },
  {
   "cell_type": "code",
   "execution_count": 4,
   "id": "985ad4de-13aa-4162-91ab-e7185fa63dda",
   "metadata": {},
   "outputs": [],
   "source": [
    "samplefile = \"motzer.log2.354samples.filter.weight.txt\"\n",
    "sampleGroup = get_sample_pair(samplefile)\n",
    "\n",
    "f_pathway = open(f\"KEGGpathway_closeness_MOTZER354.txt\",\"w\")\n",
    "for i in sampleGroup:\n",
    "    g = read_g(i)\n",
    "    allg_genes = g[1]\n",
    "    expected = []\n",
    "    expected.append(i)\n",
    "    for j in path_list:\n",
    "        left_genes = set(j[1:]).intersection(allg_genes)\n",
    "    ##extract subgraph based pathway genes\n",
    "        subg = g[0].subgraph(left_genes)\n",
    "        total, genes_nx = len(j[1:]), len(left_genes)\n",
    "        #print([t for t in subg.es])\n",
    "        if genes_nx > 1:\n",
    "            #pathentropy = cal_entropy([es[\"weight\"] for es in subg.es])\n",
    "            #eig = subg.eigenvector_centrality(directed=False, scale=False, weights=\"weight\")\n",
    "            eig =subg.closeness(mode='all', cutoff=None, weights=\"weight\", normalized=True)\n",
    "            #eig = subg.edge_betweenness(directed=False, cutoff=None, weights=\"weight\")\n",
    "            expected.append(str(trans_alist(eig)))\n",
    "        else:\n",
    "            expected.append(str(0))\n",
    "    f_pathway.write(\"\\t\".join(expected)+\"\\n\")\n",
    "f_pathway.close()"
   ]
  },
  {
   "cell_type": "code",
   "execution_count": null,
   "id": "89c89fd7-b669-446f-bf4f-6d97d65a412f",
   "metadata": {},
   "outputs": [],
   "source": []
  }
 ],
 "metadata": {
  "kernelspec": {
   "display_name": "Python 3 (ipykernel)",
   "language": "python",
   "name": "python3"
  },
  "language_info": {
   "codemirror_mode": {
    "name": "ipython",
    "version": 3
   },
   "file_extension": ".py",
   "mimetype": "text/x-python",
   "name": "python",
   "nbconvert_exporter": "python",
   "pygments_lexer": "ipython3",
   "version": "3.11.4"
  }
 },
 "nbformat": 4,
 "nbformat_minor": 5
}
