{
 "cells": [
  {
   "cell_type": "code",
   "execution_count": 1,
   "id": "60deedd4-d613-49c0-a2ff-89c46bf1a025",
   "metadata": {},
   "outputs": [],
   "source": [
    "import pandas as pd\n",
    "import numpy as np \n",
    "from lifelines import CoxPHFitter\n",
    "from contextlib import redirect_stdout\n",
    "import io\n",
    "\n",
    "def get_sample_pair(sampleGroup):\n",
    "    all_sample = []\n",
    "    with open(f\"../leave_one_out/{sampleGroup}.weight.txt\") as f_w:\n",
    "        for i in f_w:\n",
    "            i= i.strip().split()\n",
    "            all_sample.append(i[0])\n",
    "    return all_sample\n"
   ]
  },
  {
   "cell_type": "markdown",
   "id": "97ecd523-7dd2-42e8-b40a-343573af274f",
   "metadata": {},
   "source": [
    "def get_common_edges(samGroup,sample_dir,cate):\n",
    "    all_df = pd.read_csv(f\"../leave_one_out/{sample_dir}/sample_specific_{sampleGroup[0]}.txt\",\\\n",
    "                     sep=\"\\t\",index_col=None,header=None,names=[\"A\",\"B\",sampleGroup[0]])\n",
    "    for i in sampleGroup[1:]:\n",
    "        sample_df = pd.read_csv(f\"../leave_one_out/{sample_dir}/sample_specific_{i}.txt\",\\\n",
    "                            sep=\"\\t\",index_col=None,header=None,names=[\"A\",\"B\",i])\n",
    "        all_df = pd.merge(all_df,sample_df,how=\"inner\",on=[\"A\",\"B\"]) #outer\"\n",
    "        print(all_df.shape)\n",
    "    all_df.to_csv(f\"{cate}_above_common_edges.txt\",index=None)\n",
    "\n",
    "for i in [\"primaryNivo\",\"primaryEver\",\"metaNivo\",\"metaEver\"]:\n",
    "    sampleGroup = get_sample_pair(i)\n",
    "    get_common_edges(sampleGroup,\"all_sample_k_10_above\",i)"
   ]
  },
  {
   "cell_type": "markdown",
   "id": "e9128b7e-cf05-44a8-8201-fad31502fd97",
   "metadata": {},
   "source": [
    "def get_common_edges(samGroup,sample_dir,cate):\n",
    "    all_df = pd.read_csv(f\"../leave_one_out/{sample_dir}/sample_specific_{sampleGroup[0]}.txt\",\\\n",
    "                     sep=\"\\t\",index_col=None,header=None,names=[\"A\",\"B\",sampleGroup[0]])\n",
    "    for i in sampleGroup[1:]:\n",
    "        sample_df = pd.read_csv(f\"../leave_one_out/{sample_dir}/sample_specific_{i}.txt\",\\\n",
    "                            sep=\"\\t\",index_col=None,header=None,names=[\"A\",\"B\",i])\n",
    "        all_df = pd.merge(all_df,sample_df,how=\"inner\",on=[\"A\",\"B\"]) #outer\"\n",
    "        print(all_df.shape)\n",
    "    all_df.to_csv(f\"{cate}_common_edges.txt\",index=None)\n",
    "\n",
    "for i in [\"primaryNivo\",\"primaryEver\",\"metaNivo\",\"metaEver\"]:\n",
    "    sampleGroup = get_sample_pair(i)\n",
    "    get_common_edges(sampleGroup,\"all_sample_k_10\",i)"
   ]
  },
  {
   "cell_type": "code",
   "execution_count": 3,
   "id": "c40b1dc5-641f-4acd-8634-c7859452f231",
   "metadata": {},
   "outputs": [],
   "source": [
    "#start here to run analysis\n",
    "def read_common_edges(cate):\n",
    "    all_df= pd.read_csv(f\"{cate}_above_common_edges.txt\",index_col=None)\n",
    "    df_cl = pd.read_csv(\"../leave_one_out/braun_data_clinical_data.csv\")\n",
    "    df_os = pd.merge(all_df.T.reset_index(),df_cl,how='left', left_on=\"index\", right_on=\"RNA_ID\")\n",
    "    df_os_merge = df_os.T\n",
    "    df_os_merge[1] = df_os_merge[0] +\"_\" + df_os_merge[1]\n",
    "    df_os_merge = df_os_merge[df_os_merge.columns[1:]].T\n",
    "    df_os_merge.columns = df_os_merge.iloc[0]\n",
    "    df_os_merge.drop(1,inplace=True)\n",
    "    df_os_merge.columns = df_os_merge.columns.tolist()[:-13] + df_os.columns.tolist()[-13:]\n",
    "    df_os_merge.dropna(axis=1,inplace=True)\n",
    "    \n",
    "    for i in df_os_merge.iloc[:,1:-13].columns:\n",
    "        up_fence  = df_os_merge[i].quantile(0.95)\n",
    "        low_fence  = df_os_merge[i].quantile(0.05)\n",
    "        df_os_merge[i][df_os_merge[i]>up_fence*1.1] = up_fence\n",
    "        df_os_merge[i][df_os_merge[i]<low_fence*0.9] = low_fence\n",
    "    return df_os_merge\n",
    "    \n",
    "def get_cox_result(df_os_input,cate):\n",
    "    topvar = df_os_input.iloc[:,1:-13].var(axis=0).sort_values(ascending=False).index.tolist()[:10000]\n",
    "    df_os_input.fillna(0,inplace=True)\n",
    "    df_cox_os, df_cox_pfs = pd.DataFrame(), pd.DataFrame()\n",
    "    df_os_input['OS_CNSR'].astype(bool)\n",
    "    df_os_input['PFS_CNSR'].astype(bool)\n",
    "\n",
    "    for i in topvar:\n",
    "        df_os1 = df_os_input[[i,'OS', 'OS_CNSR']]\n",
    "        cph = CoxPHFitter()\n",
    "        cph.fit(df_os1, duration_col='OS', event_col='OS_CNSR')#,show_progress=True)\n",
    "        df_cox_os = pd.concat([df_cox_os,cph.summary])\n",
    "\n",
    "        df_os2 = df_os_input[[i,'PFS', 'PFS_CNSR']]\n",
    "        cph = CoxPHFitter()\n",
    "        cph.fit(df_os2, duration_col='PFS', event_col='PFS_CNSR')\n",
    "        df_cox_pfs = pd.concat([df_cox_pfs,cph.summary]) \n",
    "\n",
    "    df_cox_os.to_csv(f\"./cox_result/cox_result_{cate}_above_os.txt\")\n",
    "    df_cox_pfs.to_csv(f\"./cox_result/cox_result_{cate}_above_pfs.txt\")\n",
    "\n"
   ]
  },
  {
   "cell_type": "code",
   "execution_count": null,
   "id": "b757c1f9-de79-4ff4-846d-ce70e9031108",
   "metadata": {},
   "outputs": [],
   "source": [
    "s = read_common_edges(\"primaryNivo\")\n",
    "topvar = s.iloc[:,1:-13].var(axis=0).sort_values(ascending=False).index.tolist()[:10000]"
   ]
  },
  {
   "cell_type": "code",
   "execution_count": null,
   "id": "50aff911-8432-4df6-826a-e9163d1abbc0",
   "metadata": {},
   "outputs": [],
   "source": [
    "for i in [\"primaryNivo\",\"primaryEver\",\"metaNivo\",\"metaEver\"]:\n",
    "    df_os_temp = read_common_edges(i)\n",
    "    print(type(df_os_temp))\n",
    "    get_cox_result(df_os_temp,i)"
   ]
  }
 ],
 "metadata": {
  "kernelspec": {
   "display_name": "Python 3 (ipykernel)",
   "language": "python",
   "name": "python3"
  },
  "language_info": {
   "codemirror_mode": {
    "name": "ipython",
    "version": 3
   },
   "file_extension": ".py",
   "mimetype": "text/x-python",
   "name": "python",
   "nbconvert_exporter": "python",
   "pygments_lexer": "ipython3",
   "version": "3.11.4"
  }
 },
 "nbformat": 4,
 "nbformat_minor": 5
}
