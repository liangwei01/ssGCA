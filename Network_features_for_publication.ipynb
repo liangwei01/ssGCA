{
 "cells": [
  {
   "cell_type": "markdown",
   "id": "e2539c47-14d6-4fea-82f9-26673c8acc59",
   "metadata": {},
   "source": [
    "# METHOD: build a classification model"
   ]
  },
  {
   "cell_type": "markdown",
   "id": "03211bda-6c55-4b13-8fd9-8f86abb9f931",
   "metadata": {},
   "source": [
    "# AIM: Genetic features to predict clinical benefits"
   ]
  },
  {
   "cell_type": "markdown",
   "id": "5a2c1d0a-2da0-44c7-b5a5-eec4dc54dd84",
   "metadata": {},
   "source": [
    "! pip3 install -U scikit-learn"
   ]
  },
  {
   "cell_type": "code",
   "execution_count": 1,
   "id": "0f82cb68-d73f-4c29-aa93-89e11d25cdb1",
   "metadata": {},
   "outputs": [],
   "source": [
    "import pandas as pd\n",
    "import numpy as np\n",
    "import matplotlib.pyplot as plt\n",
    "from sklearn.feature_selection import VarianceThreshold\n",
    "import sys"
   ]
  },
  {
   "cell_type": "code",
   "execution_count": 2,
   "id": "de3c738a-4b02-4f1b-aee8-27d8724ec628",
   "metadata": {},
   "outputs": [
    {
     "name": "stdout",
     "output_type": "stream",
     "text": [
      "1.4.2\n"
     ]
    }
   ],
   "source": [
    "import sklearn\n",
    "print(sklearn.__version__)"
   ]
  },
  {
   "cell_type": "markdown",
   "id": "058c4601-0f18-4d97-b22d-892389d96078",
   "metadata": {},
   "source": [
    "# select genes based on gene expression values"
   ]
  },
  {
   "cell_type": "code",
   "execution_count": 3,
   "id": "70787bc0-76aa-48c4-ab13-4ffc15e1cd44",
   "metadata": {},
   "outputs": [
    {
     "data": {
      "text/html": [
       "<div>\n",
       "<style scoped>\n",
       "    .dataframe tbody tr th:only-of-type {\n",
       "        vertical-align: middle;\n",
       "    }\n",
       "\n",
       "    .dataframe tbody tr th {\n",
       "        vertical-align: top;\n",
       "    }\n",
       "\n",
       "    .dataframe thead th {\n",
       "        text-align: right;\n",
       "    }\n",
       "</style>\n",
       "<table border=\"1\" class=\"dataframe\">\n",
       "  <thead>\n",
       "    <tr style=\"text-align: right;\">\n",
       "      <th></th>\n",
       "      <th>A1BG</th>\n",
       "      <th>A1BG-AS1</th>\n",
       "      <th>A1CF</th>\n",
       "      <th>A2M</th>\n",
       "      <th>A2M-AS1</th>\n",
       "      <th>A2ML1</th>\n",
       "      <th>A2ML1-AS1</th>\n",
       "      <th>A2MP1</th>\n",
       "      <th>A3GALT2</th>\n",
       "      <th>A4GALT</th>\n",
       "      <th>...</th>\n",
       "      <th>ZWILCH</th>\n",
       "      <th>ZWINT</th>\n",
       "      <th>ZXDA</th>\n",
       "      <th>ZXDB</th>\n",
       "      <th>ZXDC</th>\n",
       "      <th>ZYG11A</th>\n",
       "      <th>ZYG11B</th>\n",
       "      <th>ZYX</th>\n",
       "      <th>ZZEF1</th>\n",
       "      <th>ZZZ3</th>\n",
       "    </tr>\n",
       "    <tr>\n",
       "      <th>gene_name</th>\n",
       "      <th></th>\n",
       "      <th></th>\n",
       "      <th></th>\n",
       "      <th></th>\n",
       "      <th></th>\n",
       "      <th></th>\n",
       "      <th></th>\n",
       "      <th></th>\n",
       "      <th></th>\n",
       "      <th></th>\n",
       "      <th></th>\n",
       "      <th></th>\n",
       "      <th></th>\n",
       "      <th></th>\n",
       "      <th></th>\n",
       "      <th></th>\n",
       "      <th></th>\n",
       "      <th></th>\n",
       "      <th></th>\n",
       "      <th></th>\n",
       "      <th></th>\n",
       "    </tr>\n",
       "  </thead>\n",
       "  <tbody>\n",
       "    <tr>\n",
       "      <th>G138701_RCCBMS-00020-T_v1_RNA_OnPrem</th>\n",
       "      <td>30.187983</td>\n",
       "      <td>22.999432</td>\n",
       "      <td>33.643965</td>\n",
       "      <td>37.130851</td>\n",
       "      <td>22.705126</td>\n",
       "      <td>22.869853</td>\n",
       "      <td>21.076515</td>\n",
       "      <td>21.271282</td>\n",
       "      <td>21.807184</td>\n",
       "      <td>33.279532</td>\n",
       "      <td>...</td>\n",
       "      <td>33.26816</td>\n",
       "      <td>30.04056</td>\n",
       "      <td>30.36292</td>\n",
       "      <td>30.98129</td>\n",
       "      <td>32.38442</td>\n",
       "      <td>28.01561</td>\n",
       "      <td>31.24379</td>\n",
       "      <td>33.81903</td>\n",
       "      <td>33.22469</td>\n",
       "      <td>31.23383</td>\n",
       "    </tr>\n",
       "    <tr>\n",
       "      <th>G138701_RCCBMS-00097-T_v1_RNA_OnPrem</th>\n",
       "      <td>30.483638</td>\n",
       "      <td>25.581769</td>\n",
       "      <td>28.866645</td>\n",
       "      <td>37.945043</td>\n",
       "      <td>27.797609</td>\n",
       "      <td>24.142100</td>\n",
       "      <td>21.076515</td>\n",
       "      <td>21.271282</td>\n",
       "      <td>21.807184</td>\n",
       "      <td>33.019435</td>\n",
       "      <td>...</td>\n",
       "      <td>31.53633</td>\n",
       "      <td>29.94062</td>\n",
       "      <td>30.80829</td>\n",
       "      <td>30.74475</td>\n",
       "      <td>32.09470</td>\n",
       "      <td>26.32526</td>\n",
       "      <td>32.70057</td>\n",
       "      <td>33.67262</td>\n",
       "      <td>33.10198</td>\n",
       "      <td>32.44643</td>\n",
       "    </tr>\n",
       "    <tr>\n",
       "      <th>G138701_RCCBMS-00141-T_v1_RNA_OnPrem</th>\n",
       "      <td>30.092851</td>\n",
       "      <td>26.933385</td>\n",
       "      <td>26.684228</td>\n",
       "      <td>36.851946</td>\n",
       "      <td>22.705126</td>\n",
       "      <td>30.406352</td>\n",
       "      <td>21.076515</td>\n",
       "      <td>21.271282</td>\n",
       "      <td>21.807184</td>\n",
       "      <td>31.033210</td>\n",
       "      <td>...</td>\n",
       "      <td>30.74474</td>\n",
       "      <td>31.95812</td>\n",
       "      <td>30.73898</td>\n",
       "      <td>30.15898</td>\n",
       "      <td>31.69473</td>\n",
       "      <td>26.33098</td>\n",
       "      <td>32.68330</td>\n",
       "      <td>33.96047</td>\n",
       "      <td>32.97135</td>\n",
       "      <td>32.20607</td>\n",
       "    </tr>\n",
       "    <tr>\n",
       "      <th>G138701_RCCBMS-00099-T_v1_RNA_OnPrem</th>\n",
       "      <td>30.975010</td>\n",
       "      <td>26.683128</td>\n",
       "      <td>32.521494</td>\n",
       "      <td>38.453517</td>\n",
       "      <td>26.337846</td>\n",
       "      <td>28.229357</td>\n",
       "      <td>21.076515</td>\n",
       "      <td>21.271282</td>\n",
       "      <td>26.484608</td>\n",
       "      <td>33.009203</td>\n",
       "      <td>...</td>\n",
       "      <td>31.63196</td>\n",
       "      <td>30.71732</td>\n",
       "      <td>31.09654</td>\n",
       "      <td>30.25757</td>\n",
       "      <td>31.90774</td>\n",
       "      <td>27.53819</td>\n",
       "      <td>32.64194</td>\n",
       "      <td>34.54254</td>\n",
       "      <td>33.24885</td>\n",
       "      <td>32.78278</td>\n",
       "    </tr>\n",
       "    <tr>\n",
       "      <th>G138701_RCCBMS-00163-T_v1_RNA_OnPrem</th>\n",
       "      <td>26.915750</td>\n",
       "      <td>22.999432</td>\n",
       "      <td>23.219176</td>\n",
       "      <td>38.931987</td>\n",
       "      <td>22.705126</td>\n",
       "      <td>22.869853</td>\n",
       "      <td>21.076515</td>\n",
       "      <td>21.271282</td>\n",
       "      <td>21.807184</td>\n",
       "      <td>31.447751</td>\n",
       "      <td>...</td>\n",
       "      <td>31.75620</td>\n",
       "      <td>30.75149</td>\n",
       "      <td>30.55896</td>\n",
       "      <td>30.17101</td>\n",
       "      <td>31.01545</td>\n",
       "      <td>21.45312</td>\n",
       "      <td>32.86620</td>\n",
       "      <td>34.24375</td>\n",
       "      <td>34.86720</td>\n",
       "      <td>32.73361</td>\n",
       "    </tr>\n",
       "    <tr>\n",
       "      <th>...</th>\n",
       "      <td>...</td>\n",
       "      <td>...</td>\n",
       "      <td>...</td>\n",
       "      <td>...</td>\n",
       "      <td>...</td>\n",
       "      <td>...</td>\n",
       "      <td>...</td>\n",
       "      <td>...</td>\n",
       "      <td>...</td>\n",
       "      <td>...</td>\n",
       "      <td>...</td>\n",
       "      <td>...</td>\n",
       "      <td>...</td>\n",
       "      <td>...</td>\n",
       "      <td>...</td>\n",
       "      <td>...</td>\n",
       "      <td>...</td>\n",
       "      <td>...</td>\n",
       "      <td>...</td>\n",
       "      <td>...</td>\n",
       "      <td>...</td>\n",
       "    </tr>\n",
       "    <tr>\n",
       "      <th>P66507-04D-Run1_S3_L001</th>\n",
       "      <td>29.718678</td>\n",
       "      <td>21.286965</td>\n",
       "      <td>33.059162</td>\n",
       "      <td>35.566022</td>\n",
       "      <td>21.357557</td>\n",
       "      <td>27.686244</td>\n",
       "      <td>20.980667</td>\n",
       "      <td>25.034267</td>\n",
       "      <td>21.018133</td>\n",
       "      <td>33.704298</td>\n",
       "      <td>...</td>\n",
       "      <td>28.60179</td>\n",
       "      <td>30.27215</td>\n",
       "      <td>31.08287</td>\n",
       "      <td>31.21266</td>\n",
       "      <td>33.18573</td>\n",
       "      <td>29.26041</td>\n",
       "      <td>31.70839</td>\n",
       "      <td>32.97611</td>\n",
       "      <td>34.23396</td>\n",
       "      <td>32.87393</td>\n",
       "    </tr>\n",
       "    <tr>\n",
       "      <th>P66507-07G-Run1_S17_L002</th>\n",
       "      <td>31.147910</td>\n",
       "      <td>21.286965</td>\n",
       "      <td>31.617351</td>\n",
       "      <td>37.423994</td>\n",
       "      <td>21.357557</td>\n",
       "      <td>27.720569</td>\n",
       "      <td>20.980667</td>\n",
       "      <td>20.992693</td>\n",
       "      <td>28.011280</td>\n",
       "      <td>35.638479</td>\n",
       "      <td>...</td>\n",
       "      <td>26.14211</td>\n",
       "      <td>31.31652</td>\n",
       "      <td>31.24066</td>\n",
       "      <td>31.34713</td>\n",
       "      <td>33.06662</td>\n",
       "      <td>27.08693</td>\n",
       "      <td>30.62278</td>\n",
       "      <td>35.10264</td>\n",
       "      <td>33.68084</td>\n",
       "      <td>30.73622</td>\n",
       "    </tr>\n",
       "    <tr>\n",
       "      <th>P66425-03B-Run1_S10_L001</th>\n",
       "      <td>30.099518</td>\n",
       "      <td>25.040893</td>\n",
       "      <td>33.891608</td>\n",
       "      <td>38.289830</td>\n",
       "      <td>21.357557</td>\n",
       "      <td>26.870362</td>\n",
       "      <td>20.980667</td>\n",
       "      <td>20.992693</td>\n",
       "      <td>21.018133</td>\n",
       "      <td>33.654328</td>\n",
       "      <td>...</td>\n",
       "      <td>32.54706</td>\n",
       "      <td>29.97152</td>\n",
       "      <td>31.22229</td>\n",
       "      <td>30.38211</td>\n",
       "      <td>31.30604</td>\n",
       "      <td>27.29504</td>\n",
       "      <td>32.44263</td>\n",
       "      <td>34.20699</td>\n",
       "      <td>32.80918</td>\n",
       "      <td>32.29759</td>\n",
       "    </tr>\n",
       "    <tr>\n",
       "      <th>EA639069</th>\n",
       "      <td>30.387408</td>\n",
       "      <td>26.682436</td>\n",
       "      <td>32.143470</td>\n",
       "      <td>37.884154</td>\n",
       "      <td>25.812937</td>\n",
       "      <td>24.505338</td>\n",
       "      <td>20.976688</td>\n",
       "      <td>23.119773</td>\n",
       "      <td>20.107134</td>\n",
       "      <td>33.723369</td>\n",
       "      <td>...</td>\n",
       "      <td>30.80333</td>\n",
       "      <td>29.50693</td>\n",
       "      <td>31.54214</td>\n",
       "      <td>31.60875</td>\n",
       "      <td>32.22266</td>\n",
       "      <td>27.29750</td>\n",
       "      <td>32.23249</td>\n",
       "      <td>34.29977</td>\n",
       "      <td>33.79696</td>\n",
       "      <td>32.28268</td>\n",
       "    </tr>\n",
       "    <tr>\n",
       "      <th>P66282-11G-Run1_S20_L002</th>\n",
       "      <td>30.759296</td>\n",
       "      <td>28.500475</td>\n",
       "      <td>26.008464</td>\n",
       "      <td>37.587482</td>\n",
       "      <td>27.645454</td>\n",
       "      <td>26.455209</td>\n",
       "      <td>20.980667</td>\n",
       "      <td>20.992693</td>\n",
       "      <td>21.018133</td>\n",
       "      <td>32.333898</td>\n",
       "      <td>...</td>\n",
       "      <td>31.68592</td>\n",
       "      <td>29.94012</td>\n",
       "      <td>31.61893</td>\n",
       "      <td>30.74977</td>\n",
       "      <td>32.23942</td>\n",
       "      <td>25.70768</td>\n",
       "      <td>32.55446</td>\n",
       "      <td>34.41970</td>\n",
       "      <td>34.80277</td>\n",
       "      <td>32.95385</td>\n",
       "    </tr>\n",
       "  </tbody>\n",
       "</table>\n",
       "<p>133 rows × 20545 columns</p>\n",
       "</div>"
      ],
      "text/plain": [
       "                                           A1BG   A1BG-AS1       A1CF  \\\n",
       "gene_name                                                               \n",
       "G138701_RCCBMS-00020-T_v1_RNA_OnPrem  30.187983  22.999432  33.643965   \n",
       "G138701_RCCBMS-00097-T_v1_RNA_OnPrem  30.483638  25.581769  28.866645   \n",
       "G138701_RCCBMS-00141-T_v1_RNA_OnPrem  30.092851  26.933385  26.684228   \n",
       "G138701_RCCBMS-00099-T_v1_RNA_OnPrem  30.975010  26.683128  32.521494   \n",
       "G138701_RCCBMS-00163-T_v1_RNA_OnPrem  26.915750  22.999432  23.219176   \n",
       "...                                         ...        ...        ...   \n",
       "P66507-04D-Run1_S3_L001               29.718678  21.286965  33.059162   \n",
       "P66507-07G-Run1_S17_L002              31.147910  21.286965  31.617351   \n",
       "P66425-03B-Run1_S10_L001              30.099518  25.040893  33.891608   \n",
       "EA639069                              30.387408  26.682436  32.143470   \n",
       "P66282-11G-Run1_S20_L002              30.759296  28.500475  26.008464   \n",
       "\n",
       "                                            A2M    A2M-AS1      A2ML1  \\\n",
       "gene_name                                                               \n",
       "G138701_RCCBMS-00020-T_v1_RNA_OnPrem  37.130851  22.705126  22.869853   \n",
       "G138701_RCCBMS-00097-T_v1_RNA_OnPrem  37.945043  27.797609  24.142100   \n",
       "G138701_RCCBMS-00141-T_v1_RNA_OnPrem  36.851946  22.705126  30.406352   \n",
       "G138701_RCCBMS-00099-T_v1_RNA_OnPrem  38.453517  26.337846  28.229357   \n",
       "G138701_RCCBMS-00163-T_v1_RNA_OnPrem  38.931987  22.705126  22.869853   \n",
       "...                                         ...        ...        ...   \n",
       "P66507-04D-Run1_S3_L001               35.566022  21.357557  27.686244   \n",
       "P66507-07G-Run1_S17_L002              37.423994  21.357557  27.720569   \n",
       "P66425-03B-Run1_S10_L001              38.289830  21.357557  26.870362   \n",
       "EA639069                              37.884154  25.812937  24.505338   \n",
       "P66282-11G-Run1_S20_L002              37.587482  27.645454  26.455209   \n",
       "\n",
       "                                      A2ML1-AS1      A2MP1    A3GALT2  \\\n",
       "gene_name                                                               \n",
       "G138701_RCCBMS-00020-T_v1_RNA_OnPrem  21.076515  21.271282  21.807184   \n",
       "G138701_RCCBMS-00097-T_v1_RNA_OnPrem  21.076515  21.271282  21.807184   \n",
       "G138701_RCCBMS-00141-T_v1_RNA_OnPrem  21.076515  21.271282  21.807184   \n",
       "G138701_RCCBMS-00099-T_v1_RNA_OnPrem  21.076515  21.271282  26.484608   \n",
       "G138701_RCCBMS-00163-T_v1_RNA_OnPrem  21.076515  21.271282  21.807184   \n",
       "...                                         ...        ...        ...   \n",
       "P66507-04D-Run1_S3_L001               20.980667  25.034267  21.018133   \n",
       "P66507-07G-Run1_S17_L002              20.980667  20.992693  28.011280   \n",
       "P66425-03B-Run1_S10_L001              20.980667  20.992693  21.018133   \n",
       "EA639069                              20.976688  23.119773  20.107134   \n",
       "P66282-11G-Run1_S20_L002              20.980667  20.992693  21.018133   \n",
       "\n",
       "                                         A4GALT  ...    ZWILCH     ZWINT  \\\n",
       "gene_name                                        ...                       \n",
       "G138701_RCCBMS-00020-T_v1_RNA_OnPrem  33.279532  ...  33.26816  30.04056   \n",
       "G138701_RCCBMS-00097-T_v1_RNA_OnPrem  33.019435  ...  31.53633  29.94062   \n",
       "G138701_RCCBMS-00141-T_v1_RNA_OnPrem  31.033210  ...  30.74474  31.95812   \n",
       "G138701_RCCBMS-00099-T_v1_RNA_OnPrem  33.009203  ...  31.63196  30.71732   \n",
       "G138701_RCCBMS-00163-T_v1_RNA_OnPrem  31.447751  ...  31.75620  30.75149   \n",
       "...                                         ...  ...       ...       ...   \n",
       "P66507-04D-Run1_S3_L001               33.704298  ...  28.60179  30.27215   \n",
       "P66507-07G-Run1_S17_L002              35.638479  ...  26.14211  31.31652   \n",
       "P66425-03B-Run1_S10_L001              33.654328  ...  32.54706  29.97152   \n",
       "EA639069                              33.723369  ...  30.80333  29.50693   \n",
       "P66282-11G-Run1_S20_L002              32.333898  ...  31.68592  29.94012   \n",
       "\n",
       "                                          ZXDA      ZXDB      ZXDC    ZYG11A  \\\n",
       "gene_name                                                                      \n",
       "G138701_RCCBMS-00020-T_v1_RNA_OnPrem  30.36292  30.98129  32.38442  28.01561   \n",
       "G138701_RCCBMS-00097-T_v1_RNA_OnPrem  30.80829  30.74475  32.09470  26.32526   \n",
       "G138701_RCCBMS-00141-T_v1_RNA_OnPrem  30.73898  30.15898  31.69473  26.33098   \n",
       "G138701_RCCBMS-00099-T_v1_RNA_OnPrem  31.09654  30.25757  31.90774  27.53819   \n",
       "G138701_RCCBMS-00163-T_v1_RNA_OnPrem  30.55896  30.17101  31.01545  21.45312   \n",
       "...                                        ...       ...       ...       ...   \n",
       "P66507-04D-Run1_S3_L001               31.08287  31.21266  33.18573  29.26041   \n",
       "P66507-07G-Run1_S17_L002              31.24066  31.34713  33.06662  27.08693   \n",
       "P66425-03B-Run1_S10_L001              31.22229  30.38211  31.30604  27.29504   \n",
       "EA639069                              31.54214  31.60875  32.22266  27.29750   \n",
       "P66282-11G-Run1_S20_L002              31.61893  30.74977  32.23942  25.70768   \n",
       "\n",
       "                                        ZYG11B       ZYX     ZZEF1      ZZZ3  \n",
       "gene_name                                                                     \n",
       "G138701_RCCBMS-00020-T_v1_RNA_OnPrem  31.24379  33.81903  33.22469  31.23383  \n",
       "G138701_RCCBMS-00097-T_v1_RNA_OnPrem  32.70057  33.67262  33.10198  32.44643  \n",
       "G138701_RCCBMS-00141-T_v1_RNA_OnPrem  32.68330  33.96047  32.97135  32.20607  \n",
       "G138701_RCCBMS-00099-T_v1_RNA_OnPrem  32.64194  34.54254  33.24885  32.78278  \n",
       "G138701_RCCBMS-00163-T_v1_RNA_OnPrem  32.86620  34.24375  34.86720  32.73361  \n",
       "...                                        ...       ...       ...       ...  \n",
       "P66507-04D-Run1_S3_L001               31.70839  32.97611  34.23396  32.87393  \n",
       "P66507-07G-Run1_S17_L002              30.62278  35.10264  33.68084  30.73622  \n",
       "P66425-03B-Run1_S10_L001              32.44263  34.20699  32.80918  32.29759  \n",
       "EA639069                              32.23249  34.29977  33.79696  32.28268  \n",
       "P66282-11G-Run1_S20_L002              32.55446  34.41970  34.80277  32.95385  \n",
       "\n",
       "[133 rows x 20545 columns]"
      ]
     },
     "execution_count": 3,
     "metadata": {},
     "output_type": "execute_result"
    }
   ],
   "source": [
    "genetic = pd.read_csv(\"Expression_log2_21_primaryNivo_braun_2020.csv\",index_col=0)\n",
    "genetic"
   ]
  },
  {
   "cell_type": "code",
   "execution_count": 4,
   "id": "50f53242-7219-41f0-ab26-9eb1df7cb660",
   "metadata": {},
   "outputs": [
    {
     "name": "stderr",
     "output_type": "stream",
     "text": [
      "/tmp/ipykernel_1172934/3273625017.py:2: UserWarning: Boolean Series key will be reindexed to match DataFrame index.\n",
      "  dfcl = cl.loc[genetic.index,:][cl[\"Benefit\"].isin([\"CB\",\"NCB\"])].Benefit.reset_index()\n"
     ]
    }
   ],
   "source": [
    "cl = pd.read_csv(\"braun_data_clinical_data.csv\",index_col=0)\n",
    "dfcl = cl.loc[genetic.index,:][cl[\"Benefit\"].isin([\"CB\",\"NCB\"])].Benefit.reset_index()"
   ]
  },
  {
   "cell_type": "code",
   "execution_count": 5,
   "id": "edc7b688-ca6a-43dd-bd5f-9172ba0eecec",
   "metadata": {},
   "outputs": [
    {
     "data": {
      "text/plain": [
       "(133, 20561)"
      ]
     },
     "execution_count": 5,
     "metadata": {},
     "output_type": "execute_result"
    }
   ],
   "source": [
    "dfmerge = pd.merge(genetic.reset_index(),cl.reset_index(),how='left', left_on=\"gene_name\", right_on=\"RNA_ID\")\n",
    "dfmerge.shape"
   ]
  },
  {
   "cell_type": "markdown",
   "id": "2cec8b9c-1762-43ca-a660-71ef827ac068",
   "metadata": {},
   "source": [
    "#selection process by cox\n",
    "from lifelines import CoxPHFitter\n",
    "df_cox_os, df_cox_pfs = pd.DataFrame(), pd.DataFrame()\n",
    "topvar = genetic.columns.tolist()\n",
    "for j,i in enumerate(topvar):\n",
    "    print(j, end='\\r')\n",
    "    sys.stdout.flush()\n",
    "    df_os1 = dfmerge[[i,'OS', 'OS_CNSR']]\n",
    "    cph = CoxPHFitter()\n",
    "    cph.fit(df_os1, duration_col='OS', event_col='OS_CNSR')#,show_progress=True)\n",
    "    df_cox_os = pd.concat([df_cox_os,cph.summary])\n",
    "\n",
    "    df_os2 = dfmerge[[i,'PFS', 'PFS_CNSR']]\n",
    "    cph = CoxPHFitter()\n",
    "    cph.fit(df_os2, duration_col='PFS', event_col='PFS_CNSR')\n",
    "    df_cox_pfs = pd.concat([df_cox_pfs,cph.summary]) "
   ]
  },
  {
   "cell_type": "code",
   "execution_count": 6,
   "id": "8c45deec-8d5a-42dc-bcf7-13fe481759b9",
   "metadata": {},
   "outputs": [],
   "source": [
    "df_cox_os, df_cox_pfs = pd.read_csv(\"gene_expression_cox_pN_os.txt\",index_col=0), pd.read_csv(\"gene_expression_cox_pN_pfs.txt\",index_col=0)"
   ]
  },
  {
   "cell_type": "code",
   "execution_count": 7,
   "id": "666da665-b6df-45ed-bd61-b942581460b1",
   "metadata": {},
   "outputs": [
    {
     "data": {
      "text/plain": [
       "64"
      ]
     },
     "execution_count": 7,
     "metadata": {},
     "output_type": "execute_result"
    }
   ],
   "source": [
    "df_cox_os[df_cox_os[\"p\"]<0.01]\n",
    "df_cox_pfs[df_cox_pfs[\"p\"]<0.01]\n",
    "selected_genes = list(set(df_cox_os[df_cox_os[\"p\"]<0.01].index).intersection(df_cox_pfs[df_cox_pfs[\"p\"]<0.01].index))\n",
    "len(selected_genes)"
   ]
  },
  {
   "cell_type": "markdown",
   "id": "2fc2c8b3-7ea6-4022-b9b0-aa3c053eebf3",
   "metadata": {},
   "source": [
    "df_cox_os.to_csv(\"gene_expression_cox_pN_os.txt\")\n",
    "df_cox_pfs.to_csv(\"gene_expression_cox_pN_pfs.txt\")"
   ]
  },
  {
   "cell_type": "code",
   "execution_count": 8,
   "id": "8965fd05-2634-407b-832e-8680b78f74a5",
   "metadata": {},
   "outputs": [
    {
     "data": {
      "text/html": [
       "<div>\n",
       "<style scoped>\n",
       "    .dataframe tbody tr th:only-of-type {\n",
       "        vertical-align: middle;\n",
       "    }\n",
       "\n",
       "    .dataframe tbody tr th {\n",
       "        vertical-align: top;\n",
       "    }\n",
       "\n",
       "    .dataframe thead th {\n",
       "        text-align: right;\n",
       "    }\n",
       "</style>\n",
       "<table border=\"1\" class=\"dataframe\">\n",
       "  <thead>\n",
       "    <tr style=\"text-align: right;\">\n",
       "      <th></th>\n",
       "      <th>gene_name</th>\n",
       "      <th>Benefit</th>\n",
       "    </tr>\n",
       "  </thead>\n",
       "  <tbody>\n",
       "    <tr>\n",
       "      <th>0</th>\n",
       "      <td>G138701_RCCBMS-00020-T_v1_RNA_OnPrem</td>\n",
       "      <td>CB</td>\n",
       "    </tr>\n",
       "    <tr>\n",
       "      <th>1</th>\n",
       "      <td>G138701_RCCBMS-00097-T_v1_RNA_OnPrem</td>\n",
       "      <td>CB</td>\n",
       "    </tr>\n",
       "    <tr>\n",
       "      <th>2</th>\n",
       "      <td>G138701_RCCBMS-00141-T_v1_RNA_OnPrem</td>\n",
       "      <td>CB</td>\n",
       "    </tr>\n",
       "    <tr>\n",
       "      <th>3</th>\n",
       "      <td>G138701_RCCBMS-00099-T_v1_RNA_OnPrem</td>\n",
       "      <td>NCB</td>\n",
       "    </tr>\n",
       "    <tr>\n",
       "      <th>4</th>\n",
       "      <td>G138701_RCCBMS-00053-T_v1_RNA_OnPrem</td>\n",
       "      <td>CB</td>\n",
       "    </tr>\n",
       "    <tr>\n",
       "      <th>...</th>\n",
       "      <td>...</td>\n",
       "      <td>...</td>\n",
       "    </tr>\n",
       "    <tr>\n",
       "      <th>85</th>\n",
       "      <td>EA639040</td>\n",
       "      <td>NCB</td>\n",
       "    </tr>\n",
       "    <tr>\n",
       "      <th>86</th>\n",
       "      <td>P66507-04D-Run1_S3_L001</td>\n",
       "      <td>CB</td>\n",
       "    </tr>\n",
       "    <tr>\n",
       "      <th>87</th>\n",
       "      <td>P66507-07G-Run1_S17_L002</td>\n",
       "      <td>CB</td>\n",
       "    </tr>\n",
       "    <tr>\n",
       "      <th>88</th>\n",
       "      <td>EA639069</td>\n",
       "      <td>NCB</td>\n",
       "    </tr>\n",
       "    <tr>\n",
       "      <th>89</th>\n",
       "      <td>P66282-11G-Run1_S20_L002</td>\n",
       "      <td>NCB</td>\n",
       "    </tr>\n",
       "  </tbody>\n",
       "</table>\n",
       "<p>90 rows × 2 columns</p>\n",
       "</div>"
      ],
      "text/plain": [
       "                               gene_name Benefit\n",
       "0   G138701_RCCBMS-00020-T_v1_RNA_OnPrem      CB\n",
       "1   G138701_RCCBMS-00097-T_v1_RNA_OnPrem      CB\n",
       "2   G138701_RCCBMS-00141-T_v1_RNA_OnPrem      CB\n",
       "3   G138701_RCCBMS-00099-T_v1_RNA_OnPrem     NCB\n",
       "4   G138701_RCCBMS-00053-T_v1_RNA_OnPrem      CB\n",
       "..                                   ...     ...\n",
       "85                              EA639040     NCB\n",
       "86               P66507-04D-Run1_S3_L001      CB\n",
       "87              P66507-07G-Run1_S17_L002      CB\n",
       "88                              EA639069     NCB\n",
       "89              P66282-11G-Run1_S20_L002     NCB\n",
       "\n",
       "[90 rows x 2 columns]"
      ]
     },
     "execution_count": 8,
     "metadata": {},
     "output_type": "execute_result"
    }
   ],
   "source": [
    "dfcl"
   ]
  },
  {
   "cell_type": "code",
   "execution_count": 9,
   "id": "3103cd47-2b75-4816-a77e-feaa44b8de7e",
   "metadata": {},
   "outputs": [
    {
     "name": "stdout",
     "output_type": "stream",
     "text": [
      "(90, 64)\n"
     ]
    },
    {
     "name": "stderr",
     "output_type": "stream",
     "text": [
      "/tmp/ipykernel_1172934/579976581.py:3: FutureWarning: Downcasting behavior in `replace` is deprecated and will be removed in a future version. To retain the old behavior, explicitly call `result.infer_objects(copy=False)`. To opt-in to the future behavior, set `pd.set_option('future.no_silent_downcasting', True)`\n",
      "  modeltarget_expr = dfcl[\"Benefit\"].replace(\"NCB\",0).replace(\"CB\",1).tolist()\n"
     ]
    }
   ],
   "source": [
    "modelinput_expr = genetic.loc[dfcl[\"gene_name\"],selected_genes]\n",
    "print(modelinput_expr.shape)\n",
    "modeltarget_expr = dfcl[\"Benefit\"].replace(\"NCB\",0).replace(\"CB\",1).tolist()"
   ]
  },
  {
   "cell_type": "markdown",
   "id": "2b4a3497-8a12-4712-a404-2871083177f8",
   "metadata": {},
   "source": [
    "# network features input are avaiable:"
   ]
  },
  {
   "cell_type": "code",
   "execution_count": 10,
   "id": "597d5149-3c5e-40ba-a23d-cf31baab487f",
   "metadata": {},
   "outputs": [],
   "source": [
    "connectivity_pos_selected = pd.read_csv(\"ML_input_connectivity_pN_positive.txt\",index_col=0)\n",
    "connectivity_neg_selected = pd.read_csv(\"ML_input_connectivity_pN_negative.txt\",index_col=0)\n",
    "edges_selected = pd.read_csv(\"ML_input_edges_primaryNivo.txt\",index_col=0)\n",
    "\n",
    "gsva_selected = pd.read_csv(\"input_ML_gsva_pN.txt\",index_col=0)\n",
    "entropy_selected = pd.read_csv(\"input_ML_entropy_pN.txt\",index_col=0)"
   ]
  },
  {
   "cell_type": "code",
   "execution_count": 11,
   "id": "60a733a8-1714-4d6c-8a1e-11a539efc22a",
   "metadata": {},
   "outputs": [
    {
     "data": {
      "text/plain": [
       "(90, 85)"
      ]
     },
     "execution_count": 11,
     "metadata": {},
     "output_type": "execute_result"
    }
   ],
   "source": [
    "connec_pos_input = connectivity_pos_selected.loc[modelinput_expr.index]\n",
    "connec_pos_input_improved = modelinput_expr.join(connec_pos_input,lsuffix='expr', rsuffix='conp')\n",
    "connec_pos_input_improved.shape"
   ]
  },
  {
   "cell_type": "code",
   "execution_count": 12,
   "id": "27fd07d1-48d2-433f-8316-77c570ef8288",
   "metadata": {},
   "outputs": [
    {
     "data": {
      "text/plain": [
       "(90, 112)"
      ]
     },
     "execution_count": 12,
     "metadata": {},
     "output_type": "execute_result"
    }
   ],
   "source": [
    "connec_neg_input = connectivity_neg_selected.loc[modelinput_expr.index]\n",
    "connec_neg_input_improved = modelinput_expr.join(connec_neg_input,lsuffix='expr', rsuffix='conn')\n",
    "connec_neg_input_improved.shape"
   ]
  },
  {
   "cell_type": "code",
   "execution_count": 13,
   "id": "901f9817-4502-413d-a04e-e1d871562f2c",
   "metadata": {},
   "outputs": [
    {
     "data": {
      "text/plain": [
       "(90, 115)"
      ]
     },
     "execution_count": 13,
     "metadata": {},
     "output_type": "execute_result"
    }
   ],
   "source": [
    "edges_input = edges_selected.loc[modelinput_expr.index]\n",
    "edges_input_improved = modelinput_expr.join(edges_input,lsuffix='expr', rsuffix='edges')\n",
    "edges_input_improved.shape"
   ]
  },
  {
   "cell_type": "code",
   "execution_count": 14,
   "id": "78079b6f-a787-4d58-8c5d-944b62d21e9b",
   "metadata": {},
   "outputs": [
    {
     "data": {
      "text/plain": [
       "(90, 2)"
      ]
     },
     "execution_count": 14,
     "metadata": {},
     "output_type": "execute_result"
    }
   ],
   "source": [
    "gsva_input = gsva_selected.T.loc[modelinput_expr.index]\n",
    "\n",
    "gsva_input.shape"
   ]
  },
  {
   "cell_type": "code",
   "execution_count": 15,
   "id": "40e5a733-6b67-4040-b431-fc8e34f55a67",
   "metadata": {},
   "outputs": [
    {
     "data": {
      "text/plain": [
       "(90, 5)"
      ]
     },
     "execution_count": 15,
     "metadata": {},
     "output_type": "execute_result"
    }
   ],
   "source": [
    "entropy_input = entropy_selected.T.loc[modelinput_expr.index]\n",
    "entropy_input_improved = gsva_input.join(entropy_input,rsuffix='entropy', lsuffix='gsva')\n",
    "entropy_input_improved.shape"
   ]
  },
  {
   "cell_type": "code",
   "execution_count": 16,
   "id": "a5b1b4a5-8c56-4ef5-9a4c-f4c03de19176",
   "metadata": {},
   "outputs": [
    {
     "data": {
      "text/html": [
       "<div>\n",
       "<style scoped>\n",
       "    .dataframe tbody tr th:only-of-type {\n",
       "        vertical-align: middle;\n",
       "    }\n",
       "\n",
       "    .dataframe tbody tr th {\n",
       "        vertical-align: top;\n",
       "    }\n",
       "\n",
       "    .dataframe thead th {\n",
       "        text-align: right;\n",
       "    }\n",
       "</style>\n",
       "<table border=\"1\" class=\"dataframe\">\n",
       "  <thead>\n",
       "    <tr style=\"text-align: right;\">\n",
       "      <th></th>\n",
       "      <th>KEGG_PHOSPHATIDYLINOSITOL_SIGNALING_SYSTEM</th>\n",
       "      <th>KEGG_RENIN_ANGIOTENSIN_SYSTEM</th>\n",
       "      <th>KEGG_INOSITOL_PHOSPHATE_METABOLISM</th>\n",
       "    </tr>\n",
       "    <tr>\n",
       "      <th>gene_name</th>\n",
       "      <th></th>\n",
       "      <th></th>\n",
       "      <th></th>\n",
       "    </tr>\n",
       "  </thead>\n",
       "  <tbody>\n",
       "    <tr>\n",
       "      <th>G138701_RCCBMS-00020-T_v1_RNA_OnPrem</th>\n",
       "      <td>7.107668</td>\n",
       "      <td>1.979097</td>\n",
       "      <td>6.178632</td>\n",
       "    </tr>\n",
       "    <tr>\n",
       "      <th>G138701_RCCBMS-00097-T_v1_RNA_OnPrem</th>\n",
       "      <td>7.165451</td>\n",
       "      <td>2.308754</td>\n",
       "      <td>6.309572</td>\n",
       "    </tr>\n",
       "    <tr>\n",
       "      <th>G138701_RCCBMS-00141-T_v1_RNA_OnPrem</th>\n",
       "      <td>7.215053</td>\n",
       "      <td>1.573097</td>\n",
       "      <td>6.254714</td>\n",
       "    </tr>\n",
       "    <tr>\n",
       "      <th>G138701_RCCBMS-00099-T_v1_RNA_OnPrem</th>\n",
       "      <td>7.332763</td>\n",
       "      <td>1.987366</td>\n",
       "      <td>6.360396</td>\n",
       "    </tr>\n",
       "    <tr>\n",
       "      <th>G138701_RCCBMS-00053-T_v1_RNA_OnPrem</th>\n",
       "      <td>7.010232</td>\n",
       "      <td>1.576224</td>\n",
       "      <td>6.096311</td>\n",
       "    </tr>\n",
       "    <tr>\n",
       "      <th>...</th>\n",
       "      <td>...</td>\n",
       "      <td>...</td>\n",
       "      <td>...</td>\n",
       "    </tr>\n",
       "    <tr>\n",
       "      <th>EA639040</th>\n",
       "      <td>7.194554</td>\n",
       "      <td>2.313211</td>\n",
       "      <td>6.234925</td>\n",
       "    </tr>\n",
       "    <tr>\n",
       "      <th>P66507-04D-Run1_S3_L001</th>\n",
       "      <td>6.782024</td>\n",
       "      <td>2.316471</td>\n",
       "      <td>5.794862</td>\n",
       "    </tr>\n",
       "    <tr>\n",
       "      <th>P66507-07G-Run1_S17_L002</th>\n",
       "      <td>6.926409</td>\n",
       "      <td>1.581287</td>\n",
       "      <td>5.753185</td>\n",
       "    </tr>\n",
       "    <tr>\n",
       "      <th>EA639069</th>\n",
       "      <td>7.063235</td>\n",
       "      <td>2.308978</td>\n",
       "      <td>6.136993</td>\n",
       "    </tr>\n",
       "    <tr>\n",
       "      <th>P66282-11G-Run1_S20_L002</th>\n",
       "      <td>7.361180</td>\n",
       "      <td>2.797452</td>\n",
       "      <td>6.175495</td>\n",
       "    </tr>\n",
       "  </tbody>\n",
       "</table>\n",
       "<p>90 rows × 3 columns</p>\n",
       "</div>"
      ],
      "text/plain": [
       "                                      KEGG_PHOSPHATIDYLINOSITOL_SIGNALING_SYSTEM  \\\n",
       "gene_name                                                                          \n",
       "G138701_RCCBMS-00020-T_v1_RNA_OnPrem                                    7.107668   \n",
       "G138701_RCCBMS-00097-T_v1_RNA_OnPrem                                    7.165451   \n",
       "G138701_RCCBMS-00141-T_v1_RNA_OnPrem                                    7.215053   \n",
       "G138701_RCCBMS-00099-T_v1_RNA_OnPrem                                    7.332763   \n",
       "G138701_RCCBMS-00053-T_v1_RNA_OnPrem                                    7.010232   \n",
       "...                                                                          ...   \n",
       "EA639040                                                                7.194554   \n",
       "P66507-04D-Run1_S3_L001                                                 6.782024   \n",
       "P66507-07G-Run1_S17_L002                                                6.926409   \n",
       "EA639069                                                                7.063235   \n",
       "P66282-11G-Run1_S20_L002                                                7.361180   \n",
       "\n",
       "                                      KEGG_RENIN_ANGIOTENSIN_SYSTEM  \\\n",
       "gene_name                                                             \n",
       "G138701_RCCBMS-00020-T_v1_RNA_OnPrem                       1.979097   \n",
       "G138701_RCCBMS-00097-T_v1_RNA_OnPrem                       2.308754   \n",
       "G138701_RCCBMS-00141-T_v1_RNA_OnPrem                       1.573097   \n",
       "G138701_RCCBMS-00099-T_v1_RNA_OnPrem                       1.987366   \n",
       "G138701_RCCBMS-00053-T_v1_RNA_OnPrem                       1.576224   \n",
       "...                                                             ...   \n",
       "EA639040                                                   2.313211   \n",
       "P66507-04D-Run1_S3_L001                                    2.316471   \n",
       "P66507-07G-Run1_S17_L002                                   1.581287   \n",
       "EA639069                                                   2.308978   \n",
       "P66282-11G-Run1_S20_L002                                   2.797452   \n",
       "\n",
       "                                      KEGG_INOSITOL_PHOSPHATE_METABOLISM  \n",
       "gene_name                                                                 \n",
       "G138701_RCCBMS-00020-T_v1_RNA_OnPrem                            6.178632  \n",
       "G138701_RCCBMS-00097-T_v1_RNA_OnPrem                            6.309572  \n",
       "G138701_RCCBMS-00141-T_v1_RNA_OnPrem                            6.254714  \n",
       "G138701_RCCBMS-00099-T_v1_RNA_OnPrem                            6.360396  \n",
       "G138701_RCCBMS-00053-T_v1_RNA_OnPrem                            6.096311  \n",
       "...                                                                  ...  \n",
       "EA639040                                                        6.234925  \n",
       "P66507-04D-Run1_S3_L001                                         5.794862  \n",
       "P66507-07G-Run1_S17_L002                                        5.753185  \n",
       "EA639069                                                        6.136993  \n",
       "P66282-11G-Run1_S20_L002                                        6.175495  \n",
       "\n",
       "[90 rows x 3 columns]"
      ]
     },
     "execution_count": 16,
     "metadata": {},
     "output_type": "execute_result"
    }
   ],
   "source": [
    "connec_pos_input\n",
    "connec_neg_input\n",
    "edges_input\n",
    "entropy_input"
   ]
  },
  {
   "cell_type": "markdown",
   "id": "a62b49c8-208f-4b05-895c-4faa5af5138e",
   "metadata": {},
   "source": [
    "# Logistic regression classification model"
   ]
  },
  {
   "cell_type": "code",
   "execution_count": 17,
   "id": "7dd4e22b-2b48-4f54-8dda-17b3c827b8d8",
   "metadata": {},
   "outputs": [],
   "source": [
    "from sklearn.preprocessing import OneHotEncoder\n",
    "from sklearn import datasets, linear_model\n",
    "from sklearn.model_selection import train_test_split\n",
    "from sklearn.feature_selection import SelectKBest\n",
    "from sklearn.metrics import mean_squared_error, r2_score, accuracy_score, confusion_matrix, classification_report"
   ]
  },
  {
   "cell_type": "code",
   "execution_count": 18,
   "id": "8b774ccd-a336-4135-913f-5562c31815f6",
   "metadata": {},
   "outputs": [],
   "source": [
    "from sklearn.linear_model import  LogisticRegression, SGDClassifier\n",
    "from sklearn import metrics\n",
    "from sklearn.preprocessing import StandardScaler\n",
    "from sklearn.metrics import RocCurveDisplay"
   ]
  },
  {
   "cell_type": "code",
   "execution_count": 19,
   "id": "af18aefb-ce41-44d2-9101-82578fd5eb16",
   "metadata": {},
   "outputs": [
    {
     "name": "stderr",
     "output_type": "stream",
     "text": [
      "/tmp/ipykernel_1172934/3613210860.py:1: FutureWarning: Downcasting behavior in `replace` is deprecated and will be removed in a future version. To retain the old behavior, explicitly call `result.infer_objects(copy=False)`. To opt-in to the future behavior, set `pd.set_option('future.no_silent_downcasting', True)`\n",
      "  dfcl[\"Benefit\"].replace(\"NCB\",0).replace(\"CB\",1)\n"
     ]
    },
    {
     "data": {
      "text/plain": [
       "0     1\n",
       "1     1\n",
       "2     1\n",
       "3     0\n",
       "4     1\n",
       "     ..\n",
       "85    0\n",
       "86    1\n",
       "87    1\n",
       "88    0\n",
       "89    0\n",
       "Name: Benefit, Length: 90, dtype: int64"
      ]
     },
     "execution_count": 19,
     "metadata": {},
     "output_type": "execute_result"
    }
   ],
   "source": [
    "dfcl[\"Benefit\"].replace(\"NCB\",0).replace(\"CB\",1)\n",
    "#dfcl[\"Benefit\"]"
   ]
  },
  {
   "cell_type": "code",
   "execution_count": 20,
   "id": "a9bdcac8-5c43-4c72-adbc-ef643900e16f",
   "metadata": {},
   "outputs": [],
   "source": [
    "from pandas.plotting import scatter_matrix\n",
    "#modelinput_expr.hist(xlabelsize=1,ylabelsize=1)"
   ]
  },
  {
   "cell_type": "markdown",
   "id": "18473a81-08c3-4eba-8220-09ce5d829f3c",
   "metadata": {},
   "source": [
    "# Selection of ML models"
   ]
  },
  {
   "cell_type": "code",
   "execution_count": 21,
   "id": "748f15c8-6b64-4951-9f2d-3f62753446e8",
   "metadata": {},
   "outputs": [],
   "source": [
    "## 分割資料\n",
    "from sklearn.model_selection import train_test_split\n",
    "from sklearn.model_selection import cross_val_score\n",
    "from sklearn.model_selection import StratifiedKFold\n",
    "\n",
    "## 報表結果、模型評估\n",
    "from sklearn.metrics import classification_report\n",
    "from sklearn.metrics import confusion_matrix\n",
    "from sklearn.metrics import accuracy_score\n",
    "\n",
    "## modelbuilding 各模型套件\n",
    "from sklearn.discriminant_analysis import LinearDiscriminantAnalysis\n",
    "from sklearn.tree import DecisionTreeClassifier\n",
    "from sklearn.neighbors import KNeighborsClassifier\n",
    "from sklearn.svm import SVC\n",
    "from sklearn.ensemble import RandomForestClassifier"
   ]
  },
  {
   "cell_type": "code",
   "execution_count": 22,
   "id": "f1f68e39-d16e-40ea-9703-814dc51b439b",
   "metadata": {},
   "outputs": [
    {
     "name": "stdout",
     "output_type": "stream",
     "text": [
      "90\n"
     ]
    },
    {
     "data": {
      "text/plain": [
       "44"
      ]
     },
     "execution_count": 22,
     "metadata": {},
     "output_type": "execute_result"
    }
   ],
   "source": [
    "print(dfcl[\"Benefit\"].count())\n",
    "dfcl[\"Benefit\"][dfcl[\"Benefit\"]==\"CB\"].count()"
   ]
  },
  {
   "cell_type": "code",
   "execution_count": null,
   "id": "06313a35-909d-4c61-9804-f15156b7d54c",
   "metadata": {},
   "outputs": [],
   "source": [
    "dfcl[\"Benefit\"].tolist()"
   ]
  },
  {
   "cell_type": "code",
   "execution_count": 38,
   "id": "ed3ea4aa-1070-4725-b698-6ea4f43479bd",
   "metadata": {},
   "outputs": [
    {
     "data": {
      "text/plain": [
       "gene_name\n",
       "EA632234                                1\n",
       "P66287-02A-Run1_S5_L001                 1\n",
       "G138701_RCCBMS-00099-T_v1_RNA_OnPrem    0\n",
       "P66451-08G-Run1_S25_L002                1\n",
       "EA595635                                0\n",
       "                                       ..\n",
       "P66507-04D-Run1_S3_L001                 1\n",
       "P66425-03D-Run1_S11_L001                0\n",
       "P66507-02B-Run1_S23_L002                0\n",
       "P66425-06G-Run1_S30_L002                1\n",
       "P66282-01G-Run1_S3_L001                 1\n",
       "Name: Benefit, Length: 63, dtype: int64"
      ]
     },
     "execution_count": 38,
     "metadata": {},
     "output_type": "execute_result"
    }
   ],
   "source": [
    "y_train"
   ]
  },
  {
   "cell_type": "code",
   "execution_count": 69,
   "id": "6f997134-460a-4186-b577-83ff7711267b",
   "metadata": {},
   "outputs": [
    {
     "name": "stderr",
     "output_type": "stream",
     "text": [
      "/tmp/ipykernel_1172934/2958938558.py:8: FutureWarning: Downcasting behavior in `replace` is deprecated and will be removed in a future version. To retain the old behavior, explicitly call `result.infer_objects(copy=False)`. To opt-in to the future behavior, set `pd.set_option('future.no_silent_downcasting', True)`\n",
      "  dfcl.set_index(\"gene_name\")[\"Benefit\"].replace(\"NCB\",0).replace(\"CB\",1),\n"
     ]
    },
    {
     "name": "stdout",
     "output_type": "stream",
     "text": [
      "(63,) (27,)\n",
      "expr\n",
      "0.4444444444444444\n",
      "LDA: 0.555128 (0.146154)\n",
      "0.5555555555555556\n",
      "KNN: 0.588462 (0.112529)\n",
      "0.5555555555555556\n",
      "CART: 0.458974 (0.133518)\n",
      "0.6296296296296297\n",
      "RF: 0.666667 (0.077030)\n",
      "0.7407407407407407\n",
      "SVM: 0.697436 (0.081023)\n"
     ]
    }
   ],
   "source": [
    "# Spot Check Algorithms\n",
    "\n",
    "for datetype,dataname in \\\n",
    "    zip([modelinput_expr],\\\n",
    "        [\"expr\"]):\n",
    "    \n",
    "    X_train, X_test, y_train, y_test = train_test_split(datetype, \n",
    "                                                     dfcl.set_index(\"gene_name\")[\"Benefit\"].replace(\"NCB\",0).replace(\"CB\",1),\n",
    "                                                   test_size=0.3,random_state=0)\n",
    "    print(y_train.shape,y_test.shape)\n",
    "    scaler = StandardScaler()\n",
    "    scaled_X_train = scaler.fit_transform(X_train)\n",
    "    scaled_X_test = scaler.transform(X_test)\n",
    "    print(dataname)\n",
    "    \n",
    "    models = []\n",
    "    #models.append(('Linear',LogisticRegression()))\n",
    "    models.append(('LDA', LinearDiscriminantAnalysis()))\n",
    "    models.append(('KNN', KNeighborsClassifier()))\n",
    "    models.append(('CART', DecisionTreeClassifier()))\n",
    "    models.append(('RF', RandomForestClassifier(n_estimators=100, random_state=1)))\n",
    "    models.append(('SVM', SVC(gamma='auto')))\n",
    "    # evaluate each model in turn\n",
    "    results = []\n",
    "    names = []\n",
    "    for name, model in models:\n",
    "    \tkfold = StratifiedKFold(n_splits=5, random_state=1, shuffle=True)\n",
    "        #使用 cv ，並用validation data 計算 validation error 判斷哪種模型比較好\n",
    "    \tmodel.fit(scaled_X_train,y_train)\n",
    "    \tcv_results = cross_val_score(model, scaled_X_train, y_train, cv=kfold, scoring='accuracy')\n",
    "        \n",
    "    \tresults.append(cv_results)\n",
    "    \tnames.append(name)\n",
    "    \tprint(model.score(scaled_X_test,y_test))\n",
    "    \tprint('%s: %f (%f)' % (name, cv_results.mean(), cv_results.std()))\n",
    "        "
   ]
  },
  {
   "cell_type": "code",
   "execution_count": 70,
   "id": "5fda68a9-f7f1-4752-8096-aeb359e47149",
   "metadata": {},
   "outputs": [
    {
     "data": {
      "image/png": "[encoded data removed]",
      "text/plain": [
       "<Figure size 432x288 with 1 Axes>"
      ]
     },
     "metadata": {
      "needs_background": "light"
     },
     "output_type": "display_data"
    }
   ],
   "source": [
    "plt.boxplot(results, labels=names)\n",
    "plt.title('Algorithm Comparison',fontsize=12)\n",
    "plt.ylabel(\"Cross validation score\",fontsize=12)\n",
    "plt.savefig(f\"expression_ML_comparison.svg\",dpi=600,bbox_inches='tight')\n",
    "plt.show()"
   ]
  },
  {
   "cell_type": "code",
   "execution_count": 94,
   "id": "2ea91d93-0ec6-4e20-b150-d701148389f7",
   "metadata": {},
   "outputs": [
    {
     "data": {
      "image/png": "[encoded data removed]",
      "text/plain": [
       "<Figure size 432x288 with 1 Axes>"
      ]
     },
     "metadata": {
      "needs_background": "light"
     },
     "output_type": "display_data"
    },
    {
     "name": "stdout",
     "output_type": "stream",
     "text": [
      "svc准确率： 0.7407407407407407\n",
      "svc的其他指标：\n",
      "               precision    recall  f1-score   support\n",
      "\n",
      "          CB       0.79      0.73      0.76        15\n",
      "         NCB       0.69      0.75      0.72        12\n",
      "\n",
      "    accuracy                           0.74        27\n",
      "   macro avg       0.74      0.74      0.74        27\n",
      "weighted avg       0.74      0.74      0.74        27\n",
      "\n"
     ]
    }
   ],
   "source": [
    "X_train, X_test, y_train, y_test = train_test_split(modelinput_expr, \n",
    "                                                     dfcl[\"Benefit\"],\n",
    "                                                   test_size=0.3,random_state=0)\n",
    "scaler = StandardScaler()\n",
    "scaled_X_train = scaler.fit_transform(X_train)\n",
    "scaled_X_test = scaler.transform(X_test)\n",
    "\n",
    "svc = SVC(gamma='auto')\n",
    "svc.fit(scaled_X_train, y_train)\n",
    "svc_y_predict = svc.predict(scaled_X_test)\n",
    "\n",
    "\n",
    "#fig, ax = plt.subplots() \n",
    "RocCurveDisplay.from_estimator(svc,scaled_X_test, y_test,pos_label=\"CB\",plot_chance_level=True,name=f\"Expression\",c=\"blue\")\n",
    "plt.title('The pN subcohort',fontsize=12)\n",
    "plt.ylabel(\"True positive rate\",fontsize=12)\n",
    "plt.xlabel(\"False positive rate\",fontsize=12)\n",
    "plt.savefig(f\"expression_AUC.svg\",dpi=600,bbox_inches='tight')\n",
    "plt.show()\n",
    "\n",
    "print(\"svc准确率：\", svc.score(scaled_X_test, y_test))\n",
    "print(\"svc的其他指标：\\n\", classification_report(y_test, svc_y_predict, target_names=[\"CB\", \"NCB\"],zero_division=0.0))\n",
    "### ROC plot\n"
   ]
  },
  {
   "cell_type": "markdown",
   "id": "b98b44a0-f9b4-4916-b452-b707f3c8e97d",
   "metadata": {},
   "source": [
    "# performance of ML"
   ]
  },
  {
   "cell_type": "markdown",
   "id": "3bcf4aec-29e6-45a6-8e17-8a1c96537bd3",
   "metadata": {},
   "source": [
    "#connec_pos_input\n",
    "#connec_neg_input\n",
    "#edges_input\n",
    "#entropy_input\n",
    "the_datainput = entropy_input.copy()"
   ]
  },
  {
   "cell_type": "markdown",
   "id": "4ba2694d-6143-43c9-b265-81c8b1d5da34",
   "metadata": {},
   "source": [
    "#for  i in [\"connec_pos_input\",\"connec_neg_input\",\"edges_input\",\"entropy_input\"]:\n",
    "    \n",
    "fig, ax = plt.subplots() \n",
    "\n",
    "for datetype,dataname in \\\n",
    "    zip([modelinput_expr,connec_pos_input,connec_neg_input,edges_input,entropy_input\\\n",
    "        ,connec_pos_input_improved,connec_neg_input_improved,edges_input_improved,entropy_input_improved],\\\n",
    "        [\"expr\",\"cp\",\"cn\",\"edge\",\"entropy\",\"cp_ip\",\"cn_ip\",\"edge_ip\",\"entropy_ip\"]):\n",
    "            \n",
    "    X_train, X_test, y_train, y_test = train_test_split(datetype, \n",
    "                                                     dfcl[\"Benefit\"],\n",
    "                                                   test_size=0.3,random_state=0)\n",
    "    scaler = StandardScaler()\n",
    "    scaled_X_train = scaler.fit_transform(X_train)\n",
    "    scaled_X_test = scaler.transform(X_test)\n",
    "    \n",
    "    lr = LogisticRegression() \n",
    "    lr.fit(scaled_X_train, y_train)\n",
    "    lr_y_predict = lr.predict(scaled_X_test)\n",
    "    \n",
    "    print(\"逻辑斯蒂回归准确率：\", lr.score(scaled_X_test, y_test))\n",
    "    #print(\"逻辑斯蒂回归的其他指标：\\n\", classification_report(y_test, lr_y_predict, target_names=[\"CB\", \"NCB\"],zero_division=0.0))\n",
    "    ### ROC plot\n",
    "    RocCurveDisplay.from_estimator(lr,scaled_X_test, y_test,name=f\"{dataname}\",pos_label=\"CB\",ax=ax)"
   ]
  },
  {
   "cell_type": "markdown",
   "id": "5ffb5bca-4223-4d34-a403-8d20b2dc4438",
   "metadata": {},
   "source": [
    "#for  i in [\"connec_pos_input\",\"connec_neg_input\",\"edges_input\",\"entropy_input\"]:\n",
    "    \n",
    "fig, ax = plt.subplots() \n",
    "\n",
    "for datetype,dataname in \\\n",
    "    zip([modelinput_expr,connec_pos_input,connec_neg_input,edges_input,entropy_input\\\n",
    "        ,connec_pos_input_improved,connec_neg_input_improved,edges_input_improved,entropy_input_improved],\\\n",
    "        [\"expr\",\"cp\",\"cn\",\"edge\",\"entropy\",\"cp_ip\",\"cn_ip\",\"edge_ip\",\"entropy_ip\"]):\n",
    "            \n",
    "    X_train, X_test, y_train, y_test = train_test_split(datetype, \n",
    "                                                     dfcl[\"Benefit\"],\n",
    "                                                   test_size=0.3,random_state=0)\n",
    "    scaler = StandardScaler()\n",
    "    scaled_X_train = scaler.fit_transform(X_train)\n",
    "    scaled_X_test = scaler.transform(X_test)\n",
    "    \n",
    "    RF=RandomForestClassifier(n_estimators=100, random_state=1).fit(scaled_X_train, y_train)\n",
    "    RF_disp=RocCurveDisplay.from_estimator(RF,  scaled_X_test, y_test, name=f\"{dataname}\",pos_label=\"CB\", ax=ax, alpha=0.8)\n",
    "    "
   ]
  },
  {
   "cell_type": "code",
   "execution_count": 91,
   "id": "6014168b-043d-4854-a591-75ec0a5be0d0",
   "metadata": {},
   "outputs": [
    {
     "data": {
      "image/png": "[encoded data removed]",
      "text/plain": [
       "<Figure size 432x288 with 1 Axes>"
      ]
     },
     "metadata": {
      "needs_background": "light"
     },
     "output_type": "display_data"
    }
   ],
   "source": [
    "#for  i in [\"connec_pos_input\",\"connec_neg_input\",\"edges_input\",\"entropy_input\"]:\n",
    "\n",
    "dic_co = {\"Expression\":\"blue\",\"Edge\":\"purple\",\"Expression+Edge\":\"red\"}\n",
    "\n",
    "fig, ax = plt.subplots() \n",
    "\n",
    "for datetype,dataname in \\\n",
    "    zip([modelinput_expr,edges_input_improved],\\\n",
    "        [\"Expression\",\"Expression+Edge\"]):\n",
    "            \n",
    "    X_train, X_test, y_train, y_test = train_test_split(datetype, \n",
    "                                                     dfcl[\"Benefit\"],\n",
    "                                                   test_size=0.3,random_state=0)\n",
    "    scaler = StandardScaler()\n",
    "    scaled_X_train = scaler.fit_transform(X_train)\n",
    "    scaled_X_test = scaler.transform(X_test)\n",
    "    \n",
    "    svc = SVC(gamma='auto').fit(scaled_X_train, y_train)\n",
    "    svc =RocCurveDisplay.from_estimator(svc,  scaled_X_test, y_test, name=f\"{dataname}\",pos_label=\"CB\", ax=ax, alpha=0.8,color=dic_co[dataname])\n",
    "\n",
    "plt.title('The pN subcohort',fontsize=12)\n",
    "plt.ylabel(\"True positive rate\",fontsize=12)\n",
    "plt.xlabel(\"False positive rate\",fontsize=12)\n",
    "plt.savefig(f\"expression+edges_AUC.svg\",dpi=600,bbox_inches='tight')\n",
    "plt.show()"
   ]
  },
  {
   "cell_type": "code",
   "execution_count": 79,
   "id": "ebbf6325-eea3-4cab-a8b6-c6dc1e80e61f",
   "metadata": {
    "scrolled": true
   },
   "outputs": [
    {
     "name": "stdout",
     "output_type": "stream",
     "text": [
      "Expression 0.7777777777777778\n",
      "Positive-connectivity 0.7444444444444445\n",
      "Negative-connectivity 0.6833333333333333\n",
      "Edge 0.7555555555555555\n",
      "Expression+Positive-connectivity 0.7444444444444445\n",
      "Expression+Negative-connectivity 0.8\n",
      "Expression+Edge 0.7888888888888889\n",
      "GSVA 0.5166666666666666\n",
      "Entropy 0.65\n",
      "GSVA+Entropy 0.5555555555555556\n"
     ]
    }
   ],
   "source": [
    "#for  i in [\"connec_pos_input\",\"connec_neg_input\",\"edges_input\",\"entropy_input\"]:\n",
    "from sklearn.metrics import roc_auc_score    \n",
    "#fig, ax = plt.subplots() \n",
    "dic_auc = {}\n",
    "for datetype,dataname in \\\n",
    "    zip([modelinput_expr,connec_pos_input,connec_neg_input,edges_input,connec_pos_input_improved,\\\n",
    "         connec_neg_input_improved,edges_input_improved,gsva_input,entropy_input,entropy_input_improved],\\\n",
    "        [\"Expression\",\"Positive-connectivity\",\"Negative-connectivity\",\"Edge\",\"Expression+Positive-connectivity\",\n",
    "         \"Expression+Negative-connectivity\",\"Expression+Edge\",\"GSVA\",\"Entropy\",\"GSVA+Entropy\"]):\n",
    "            \n",
    "    X_train, X_test, y_train, y_test = train_test_split(datetype, \n",
    "                                                     dfcl[\"Benefit\"],\n",
    "                                                   test_size=0.3,random_state=0)\n",
    "    scaler = StandardScaler()\n",
    "    scaled_X_train = scaler.fit_transform(X_train)\n",
    "    scaled_X_test = scaler.transform(X_test)\n",
    "    \n",
    "    svc = SVC(gamma='auto', probability=True).fit(scaled_X_train, y_train)\n",
    "    # Get predicted probabilities for the positive class\n",
    "    y_probs = svc.predict_proba(scaled_X_test)[:, 1]\n",
    "\n",
    "    # Calculate AUC\n",
    "    auc = roc_auc_score(y_test, y_probs)\n",
    "    if auc < 0.5:\n",
    "        auc =1 - auc\n",
    "    dic_auc[dataname] = auc\n",
    "    print(dataname, auc)\n",
    "\n",
    "    "
   ]
  },
  {
   "cell_type": "code",
   "execution_count": 92,
   "id": "401ebb16-700b-4937-a547-f8961872209b",
   "metadata": {},
   "outputs": [
    {
     "data": {
      "image/png": "[encoded data removed]",
      "text/plain": [
       "<Figure size 216x288 with 1 Axes>"
      ]
     },
     "metadata": {
      "needs_background": "light"
     },
     "output_type": "display_data"
    }
   ],
   "source": [
    "#colors =['#00BFC4' if i == 0 else 'gray' for i in range(len(models))]\n",
    "colors = [\"blue\",\"grey\",\"grey\",\"grey\",\"red\",\"red\",\"red\",\"blue\",\"grey\",\"red\"]\n",
    "\n",
    "dfauc = pd.DataFrame.from_dict(dic_auc, orient='index')\n",
    "\n",
    "\n",
    "dfauc.columns = [\"AUC\"]\n",
    "plt.figure(figsize=(3, 4))\n",
    "bars = plt.barh(dfauc.index, dfauc[\"AUC\"],color=colors)\n",
    "\n",
    "plt.axvline(0.5, color='black', linestyle='--')\n",
    "\n",
    "plt.xlim(0, 1)  # Set x-axis limits as per the data\n",
    "plt.gca().invert_yaxis()\n",
    "# Add AUC title at the top\n",
    "plt.xlabel('AUC', fontsize=12)\n",
    "plt.title('AUC Comparison of Biomarkers', fontsize=14)\n",
    "plt.savefig(f\"all_markers_AUC.svg\",dpi=600,bbox_inches='tight')\n",
    "plt.show()"
   ]
  },
  {
   "cell_type": "code",
   "execution_count": 83,
   "id": "9403160f-1c40-4b13-8640-1e053ddd8b3b",
   "metadata": {},
   "outputs": [
    {
     "data": {
      "image/png": "[encoded data removed]",
      "text/plain": [
       "<Figure size 432x288 with 1 Axes>"
      ]
     },
     "metadata": {
      "needs_background": "light"
     },
     "output_type": "display_data"
    }
   ],
   "source": [
    "import matplotlib.pyplot as plt\n",
    "\n",
    "# Data preparation\n",
    "models = ['NetBio', 'PD1', 'PD-L1', 'CTLA4', 'GeneBio', 'CD8T', \n",
    "          'T exhaust', 'CAF', 'TAM', 'TME-Bio']\n",
    "auc_values = [0.75, 0.55, 0.5, 0.45, 0.4, 0.35, 0.3, 0.25, 0.2, 0.15]\n",
    "random_line = 0.5\n",
    "\n",
    "# Plotting\n",
    "plt.figure(figsize=(6, 4))\n",
    "bars = plt.barh(models, auc_values, color=['#00BFC4' if i == 0 else 'gray' for i in range(len(models))])\n",
    "\n",
    "# Add a vertical dashed line for \"Random\"\n",
    "plt.axvline(random_line, color='black', linestyle='--')\n",
    "\n",
    "# Add AUC title at the top\n",
    "plt.xlabel('AUC', fontsize=12)\n",
    "plt.title('AUC Comparison of Biomarkers', fontsize=14)\n",
    "\n",
    "# Customize the appearance\n",
    "plt.xlim(0, 0.8)  # Set x-axis limits as per the data\n",
    "plt.gca().invert_yaxis()  # Invert y-axis to match the order of the figure\n",
    "\n",
    "# Show the plot\n",
    "plt.tight_layout()\n",
    "plt.show()"
   ]
  },
  {
   "cell_type": "code",
   "execution_count": 58,
   "id": "76ee88f2-3b54-412b-8313-7375de756886",
   "metadata": {},
   "outputs": [
    {
     "data": {
      "image/png": "[encoded data removed]",
      "text/plain": [
       "<Figure size 432x288 with 1 Axes>"
      ]
     },
     "metadata": {
      "needs_background": "light"
     },
     "output_type": "display_data"
    }
   ],
   "source": [
    "#for  i in [\"connec_pos_input\",\"connec_neg_input\",\"edges_input\",\"entropy_input\"]:\n",
    "    \n",
    "fig, ax = plt.subplots() \n",
    "\n",
    "for datetype,dataname in \\\n",
    "    zip([modelinput_expr,connec_pos_input,connec_neg_input,edges_input,connec_pos_input_improved,\\\n",
    "         connec_neg_input_improved,edges_input_improved,gsva_input,entropy_input,entropy_input_improved],\\\n",
    "        [\"expr\",\"cp\",\"cn\",\"edge\",\"cp_ip\",\"cn_ip\",\"edge_ip\",\"gsva\",\"entropy\",\"entropy_ip\"]):\n",
    "            \n",
    "    X_train, X_test, y_train, y_test = train_test_split(datetype, \n",
    "                                                     dfcl[\"Benefit\"],\n",
    "                                                   test_size=0.3,random_state=0)\n",
    "    scaler = StandardScaler()\n",
    "    scaled_X_train = scaler.fit_transform(X_train)\n",
    "    scaled_X_test = scaler.transform(X_test)\n",
    "    \n",
    "    svc = SVC(gamma='auto').fit(scaled_X_train, y_train)\n",
    "    svc = RocCurveDisplay.from_estimator(svc,  scaled_X_test, y_test, name=f\"{dataname}\",pos_label=\"CB\", ax=ax, alpha=0.8)\n",
    "\n",
    "    "
   ]
  },
  {
   "cell_type": "code",
   "execution_count": 180,
   "id": "ffd543aa-b82d-4324-abe5-9dc4edec105d",
   "metadata": {},
   "outputs": [
    {
     "data": {
      "image/png": "[encoded data removed]",
      "text/plain": [
       "<Figure size 432x288 with 1 Axes>"
      ]
     },
     "metadata": {
      "needs_background": "light"
     },
     "output_type": "display_data"
    }
   ],
   "source": [
    "#for  i in [\"connec_pos_input\",\"connec_neg_input\",\"edges_input\",\"entropy_input\"]:\n",
    "    \n",
    "fig, ax = plt.subplots() \n",
    "\n",
    "for datetype,dataname in \\\n",
    "    zip([modelinput_expr,connec_pos_input_improved,\\\n",
    "         connec_neg_input_improved,edges_input_improved,gsva_input,entropy_input_improved],\\\n",
    "        [\"expr\",\"cp_ip\",\"cn_ip\",\"edge_ip\",\"gsva\",\"entropy_ip\"]):\n",
    "            \n",
    "    X_train, X_test, y_train, y_test = train_test_split(datetype, \n",
    "                                                     dfcl[\"Benefit\"],\n",
    "                                                   test_size=0.3,random_state=0)\n",
    "    scaler = StandardScaler()\n",
    "    scaled_X_train = scaler.fit_transform(X_train)\n",
    "    scaled_X_test = scaler.transform(X_test)\n",
    "    \n",
    "    clf = SVC(kernel='linear', C=1).fit(scaled_X_train, y_train)\n",
    "    clf =RocCurveDisplay.from_estimator(clf,  scaled_X_test, y_test, name=f\"{dataname}\",pos_label=\"CB\", ax=ax, alpha=0.8)\n",
    "\n",
    "    "
   ]
  },
  {
   "cell_type": "code",
   "execution_count": null,
   "id": "9d82711b-033e-4a15-ba90-0d9c78bd525d",
   "metadata": {},
   "outputs": [],
   "source": []
  },
  {
   "cell_type": "code",
   "execution_count": null,
   "id": "2993e057-5e7b-4045-8ac2-47414aa15f2b",
   "metadata": {},
   "outputs": [],
   "source": []
  },
  {
   "cell_type": "code",
   "execution_count": 45,
   "id": "d4b9c439-39bd-4b5c-a548-9ad2e727ac55",
   "metadata": {},
   "outputs": [
    {
     "name": "stdout",
     "output_type": "stream",
     "text": [
      "逻辑斯蒂回归准确率： 0.5925925925925926\n",
      "逻辑斯蒂回归的其他指标：\n",
      "               precision    recall  f1-score   support\n",
      "\n",
      "          CB       0.53      0.83      0.65        12\n",
      "         NCB       0.75      0.40      0.52        15\n",
      "\n",
      "    accuracy                           0.59        27\n",
      "   macro avg       0.64      0.62      0.58        27\n",
      "weighted avg       0.65      0.59      0.58        27\n",
      "\n",
      "随机参数估计准确率： 0.48148148148148145\n",
      "随机参数估计的其他指标:\n",
      "               precision    recall  f1-score   support\n",
      "\n",
      "          CB       0.45      0.83      0.59        12\n",
      "         NCB       0.60      0.20      0.30        15\n",
      "\n",
      "    accuracy                           0.48        27\n",
      "   macro avg       0.53      0.52      0.44        27\n",
      "weighted avg       0.54      0.48      0.43        27\n",
      "\n"
     ]
    },
    {
     "name": "stderr",
     "output_type": "stream",
     "text": [
      "/tmp/ipykernel_837987/1183158317.py:2: FutureWarning: Downcasting behavior in `replace` is deprecated and will be removed in a future version. To retain the old behavior, explicitly call `result.infer_objects(copy=False)`. To opt-in to the future behavior, set `pd.set_option('future.no_silent_downcasting', True)`\n",
      "  dfcl[\"Benefit\"].replace(\"NCB\",0).replace(\"CB\",1),\n"
     ]
    },
    {
     "data": {
      "image/png": "[encoded data removed]",
      "text/plain": [
       "<Figure size 432x288 with 1 Axes>"
      ]
     },
     "metadata": {
      "needs_background": "light"
     },
     "output_type": "display_data"
    }
   ],
   "source": [
    "X_train, X_test, y_train, y_test = train_test_split(the_datainput, \n",
    "                                                     dfcl[\"Benefit\"].replace(\"NCB\",0).replace(\"CB\",1),\n",
    "                                                   test_size=0.3,random_state=0)\n",
    "scaler = StandardScaler()\n",
    "scaled_X_train = scaler.fit_transform(X_train)\n",
    "scaled_X_test = scaler.transform(X_test)\n",
    "\n",
    "lr = LogisticRegression() \n",
    "lr.fit(scaled_X_train, y_train)\n",
    "lr_y_predict = lr.predict(scaled_X_test)\n",
    "\n",
    "print(\"逻辑斯蒂回归准确率：\", lr.score(scaled_X_test, y_test))\n",
    "print(\"逻辑斯蒂回归的其他指标：\\n\", classification_report(y_test, lr_y_predict, target_names=[\"CB\", \"NCB\"],zero_division=0.0))\n",
    "### ROC plot\n",
    "RocCurveDisplay.from_estimator(lr,scaled_X_test, y_test,plot_chance_level=True,name=f\"network+ep\")\n",
    "\n",
    "\n",
    "sgdc = SGDClassifier()\n",
    "sgdc.fit(scaled_X_train, y_train)\n",
    "sgdc_y_predict = sgdc.predict(scaled_X_test)\n",
    "\n",
    "\n",
    "print(\"随机参数估计准确率：\", sgdc.score(scaled_X_test, y_test))\n",
    "print(\"随机参数估计的其他指标:\\n\", classification_report(y_test, sgdc_y_predict, target_names=[\"CB\", \"NCB\"],zero_division=0.0))"
   ]
  },
  {
   "cell_type": "code",
   "execution_count": 88,
   "id": "c338a01d-9e25-44c1-819c-e3c0b18d6916",
   "metadata": {},
   "outputs": [
    {
     "data": {
      "image/png": "[encoded data removed]",
      "text/plain": [
       "<Figure size 432x288 with 1 Axes>"
      ]
     },
     "metadata": {
      "needs_background": "light"
     },
     "output_type": "display_data"
    }
   ],
   "source": [
    "from sklearn.metrics import RocCurveDisplay\n",
    "\n",
    "ax = plt.gca()\n",
    "DT=DecisionTreeClassifier().fit( scaled_X_train, y_train)\n",
    "DT_disp = RocCurveDisplay.from_estimator(DT, scaled_X_test, y_test, ax=ax, alpha=0.8)\n",
    "RF=RandomForestClassifier(n_estimators=100, random_state=1).fit(scaled_X_train, y_train)\n",
    "RF_disp=RocCurveDisplay.from_estimator(RF,  scaled_X_test, y_test, ax=ax, alpha=0.8)\n",
    "plt.show()"
   ]
  },
  {
   "cell_type": "code",
   "execution_count": 91,
   "id": "5d0fca1f-c224-47c4-8027-87521bc9bea3",
   "metadata": {},
   "outputs": [
    {
     "data": {
      "image/png": "[encoded data removed]",
      "text/plain": [
       "<Figure size 432x288 with 1 Axes>"
      ]
     },
     "metadata": {
      "needs_background": "light"
     },
     "output_type": "display_data"
    }
   ],
   "source": [
    "ax = plt.gca()\n",
    "\n",
    "for datetype,dataname in zip([modelinput,netinput,modelinput_netimproved],[\"ep\",\"nf\",\"ep+nf\"]):\n",
    "    X_train, X_test, y_train, y_test = train_test_split(datetype, \n",
    "                                                     dfcl[\"Benefit\"],\n",
    "                                                   test_size=0.3,random_state=0)\n",
    "    scaler = StandardScaler()\n",
    "    scaled_X_train = scaler.fit_transform(X_train)\n",
    "    scaled_X_test = scaler.transform(X_test)\n",
    "    \n",
    "    RF=RandomForestClassifier(n_estimators=100, random_state=1).fit(scaled_X_train, y_train)\n",
    "    RF_disp=RocCurveDisplay.from_estimator(RF,  scaled_X_test, y_test, name=f\"{dataname}\",pos_label=\"CB\", ax=ax, alpha=0.8)\n",
    "    \n"
   ]
  },
  {
   "cell_type": "code",
   "execution_count": 93,
   "id": "8e9ea1a4-143f-4360-9835-ba9b36af7dfd",
   "metadata": {},
   "outputs": [
    {
     "data": {
      "image/png": "[encoded data removed]",
      "text/plain": [
       "<Figure size 432x288 with 1 Axes>"
      ]
     },
     "metadata": {
      "needs_background": "light"
     },
     "output_type": "display_data"
    }
   ],
   "source": [
    "ax = plt.gca()\n",
    "\n",
    "for datetype,dataname in zip([modelinput,netinput,modelinput_netimproved],[\"ep\",\"nf\",\"ep+nf\"]):\n",
    "    X_train, X_test, y_train, y_test = train_test_split(datetype, \n",
    "                                                     dfcl[\"Benefit\"],\n",
    "                                                   test_size=0.3,random_state=0)\n",
    "    scaler = StandardScaler()\n",
    "    scaled_X_train = scaler.fit_transform(X_train)\n",
    "    scaled_X_test = scaler.transform(X_test)\n",
    "    \n",
    "    clf = SVC(kernel='linear', C=1).fit(scaled_X_train, y_train)\n",
    "    clf =RocCurveDisplay.from_estimator(clf,  scaled_X_test, y_test, name=f\"{dataname}\",pos_label=\"CB\", ax=ax, alpha=0.8)\n",
    "\n",
    "    \n"
   ]
  }
 ],
 "metadata": {
  "kernelspec": {
   "display_name": "Python 3 (ipykernel)",
   "language": "python",
   "name": "python3"
  },
  "language_info": {
   "codemirror_mode": {
    "name": "ipython",
    "version": 3
   },
   "file_extension": ".py",
   "mimetype": "text/x-python",
   "name": "python",
   "nbconvert_exporter": "python",
   "pygments_lexer": "ipython3",
   "version": "3.11.4"
  }
 },
 "nbformat": 4,
 "nbformat_minor": 5
}
